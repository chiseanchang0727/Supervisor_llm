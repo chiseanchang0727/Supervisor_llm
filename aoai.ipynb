{
 "cells": [
  {
   "cell_type": "code",
   "execution_count": 21,
   "metadata": {},
   "outputs": [],
   "source": [
    "import json\n",
    "import os\n",
    "from langchain.chat_models  import AzureChatOpenAI\n",
    "from langchain.schema import SystemMessage, HumanMessage\n",
    "from langchain.document_loaders import PyPDFLoader\n",
    "from utils import read_json\n"
   ]
  },
  {
   "cell_type": "code",
   "execution_count": 22,
   "metadata": {},
   "outputs": [],
   "source": [
    "configs = read_json('configs.json')\n",
    "DATA_PATH = configs[\"DATA_PATH\"]\n",
    "DB_PATH = configs['DB_PATH']\n",
    "files_list = [file for file in os.listdir(DATA_PATH) if os.path.isfile(os.path.join(DATA_PATH, file))]\n",
    "files_list\n",
    "def read_pdf(data_path=DATA_PATH, files_list=files_list):\n",
    "    \n",
    "    for file in files_list:\n",
    "        loader = PyPDFLoader(data_path + file)\n",
    "        content = loader.load()\n",
    "    return content\n",
    "pdf_content = read_pdf()"
   ]
  },
  {
   "cell_type": "code",
   "execution_count": 23,
   "metadata": {},
   "outputs": [],
   "source": [
    "OPENAI_API_BASE = 'https://yfyai-aoai-instance.openai.azure.com/'\n",
    "OPEN_AI_VERSION = '2023-05-15'\n",
    "GPT_DEPLOYMENT_NAME = 'gpt-4-32k'\n",
    "OPENAI_API_KEY = 'c60459f1ee6b4182b16c146727a3112a'\n",
    "OPENAI_API_TYPE = 'azure'"
   ]
  },
  {
   "cell_type": "code",
   "execution_count": 24,
   "metadata": {},
   "outputs": [],
   "source": [
    "llm = AzureChatOpenAI(\n",
    "    azure_endpoint=OPENAI_API_BASE,\n",
    "    openai_api_version=OPEN_AI_VERSION,\n",
    "    azure_deployment=GPT_DEPLOYMENT_NAME,\n",
    "    openai_api_key=OPENAI_API_KEY,\n",
    "    openai_api_type=\"azure\",\n",
    ")"
   ]
  },
  {
   "cell_type": "code",
   "execution_count": 25,
   "metadata": {},
   "outputs": [
    {
     "data": {
      "text/plain": [
       "AIMessage(content='這份文件包含15個段落。', response_metadata={'token_usage': {'completion_tokens': 13, 'prompt_tokens': 15253, 'total_tokens': 15266}, 'model_name': 'gpt-4-32k', 'system_fingerprint': None, 'finish_reason': 'stop', 'logprobs': None}, id='run-841b3637-5810-498e-aab8-055c7fae9047-0')"
      ]
     },
     "execution_count": 25,
     "metadata": {},
     "output_type": "execute_result"
    }
   ],
   "source": [
    "messages = [\n",
    "    SystemMessage(content=\"你是一個專業的摘要統整AI助手，針對我提出的問題使用繁體中文回覆。\"),\n",
    "    HumanMessage(content=f\"告訴我以下的文檔有幾個段落: {pdf_content}\")\n",
    "]\n",
    "\n",
    "llm(messages)"
   ]
  }
 ],
 "metadata": {
  "kernelspec": {
   "display_name": "supervisor_llm",
   "language": "python",
   "name": "python3"
  },
  "language_info": {
   "codemirror_mode": {
    "name": "ipython",
    "version": 3
   },
   "file_extension": ".py",
   "mimetype": "text/x-python",
   "name": "python",
   "nbconvert_exporter": "python",
   "pygments_lexer": "ipython3",
   "version": "3.10.14"
  }
 },
 "nbformat": 4,
 "nbformat_minor": 2
}
