{
 "cells": [
  {
   "cell_type": "markdown",
   "metadata": {},
   "source": [
    "# Goal\n",
    "\n",
    "1. Memory function\n",
    "2. Load PDF function\n",
    "3. Chain question function\n",
    "4. Store the result into mysql function"
   ]
  },
  {
   "cell_type": "code",
   "execution_count": 8,
   "metadata": {},
   "outputs": [],
   "source": [
    "from langchain.chains import ConversationChain\n",
    "from langchain.chains.conversation.memory import ConversationBufferMemory\n",
    "from langchain_community.llms import Ollama"
   ]
  },
  {
   "cell_type": "code",
   "execution_count": 4,
   "metadata": {},
   "outputs": [],
   "source": [
    "llm = Ollama(\n",
    "    model = 'llama3',\n",
    "    verbose = 'true',\n",
    "    \n",
    ")"
   ]
  },
  {
   "cell_type": "code",
   "execution_count": 9,
   "metadata": {},
   "outputs": [],
   "source": [
    "conversation = ConversationChain(llm=llm, memory=ConversationBufferMemory())"
   ]
  },
  {
   "cell_type": "code",
   "execution_count": 10,
   "metadata": {},
   "outputs": [
    {
     "name": "stderr",
     "output_type": "stream",
     "text": [
      "e:\\miniconda3\\envs\\supervisor_llm\\lib\\site-packages\\langchain_core\\_api\\deprecation.py:119: LangChainDeprecationWarning: The method `Chain.__call__` was deprecated in langchain 0.1.0 and will be removed in 0.2.0. Use invoke instead.\n",
      "  warn_deprecated(\n"
     ]
    },
    {
     "data": {
      "text/plain": [
       "{'input': 'hello, who are you',\n",
       " 'history': '',\n",
       " 'response': \"Hello! I'm Ada, an artificial intelligence designed by Meta AI's research team as part of our Conversational AI project. I'm a large language model trained on a massive corpus of text data, which enables me to understand and generate human-like language. My training data includes a wide range of texts from the internet, books, and other sources, making me proficient in answering questions and engaging in conversations about various topics, including but not limited to science, history, entertainment, and more! I'm constantly learning and improving my abilities through user interactions like this one. What would you like to talk about?\"}"
      ]
     },
     "execution_count": 10,
     "metadata": {},
     "output_type": "execute_result"
    }
   ],
   "source": [
    "conversation('hello, who are you')"
   ]
  },
  {
   "cell_type": "code",
   "execution_count": 11,
   "metadata": {},
   "outputs": [
    {
     "data": {
      "text/plain": [
       "{'input': 'tell me the result of 2+3',\n",
       " 'history': \"Human: hello, who are you\\nAI: Hello! I'm Ada, an artificial intelligence designed by Meta AI's research team as part of our Conversational AI project. I'm a large language model trained on a massive corpus of text data, which enables me to understand and generate human-like language. My training data includes a wide range of texts from the internet, books, and other sources, making me proficient in answering questions and engaging in conversations about various topics, including but not limited to science, history, entertainment, and more! I'm constantly learning and improving my abilities through user interactions like this one. What would you like to talk about?\",\n",
       " 'response': \"Easy math question! The result of 2+3 is 5! As a large language model, I've been trained on a vast amount of mathematical concepts and formulas, which enables me to perform simple arithmetic operations like this one. If you'd like to try more complex calculations or explore other mathematical topics, feel free to ask!\"}"
      ]
     },
     "execution_count": 11,
     "metadata": {},
     "output_type": "execute_result"
    }
   ],
   "source": [
    "conversation('tell me the result of 2+3')"
   ]
  },
  {
   "cell_type": "code",
   "execution_count": 12,
   "metadata": {},
   "outputs": [
    {
     "data": {
      "text/plain": [
       "{'input': '接下來都用繁體中文回答我的問題',\n",
       " 'history': \"Human: hello, who are you\\nAI: Hello! I'm Ada, an artificial intelligence designed by Meta AI's research team as part of our Conversational AI project. I'm a large language model trained on a massive corpus of text data, which enables me to understand and generate human-like language. My training data includes a wide range of texts from the internet, books, and other sources, making me proficient in answering questions and engaging in conversations about various topics, including but not limited to science, history, entertainment, and more! I'm constantly learning and improving my abilities through user interactions like this one. What would you like to talk about?\\nHuman: tell me the result of 2+3\\nAI: Easy math question! The result of 2+3 is 5! As a large language model, I've been trained on a vast amount of mathematical concepts and formulas, which enables me to perform simple arithmetic operations like this one. If you'd like to try more complex calculations or explore other mathematical topics, feel free to ask!\",\n",
       " 'response': \"I'll respond in Traditional Chinese from now on.\\n\\n你好！我是 Ada，Meta AI 研究團隊為我們的對話式人工智慧項目所設計的一個大型語言模型。我通過訓練在龐大的文本資料集上，因此能夠理解和生成類似於人类语言。我的訓練資料包括網際網路、書籍等多種來源，使我在科學、歷史、娛樂等領域都有專業知識。我通過與使用者的互動不斷學習和改進自己的能力。如果您想討論什麼主題，請隨時詢問！\"}"
      ]
     },
     "execution_count": 12,
     "metadata": {},
     "output_type": "execute_result"
    }
   ],
   "source": [
    "conversation('接下來都用繁體中文回答我的問題')"
   ]
  },
  {
   "cell_type": "code",
   "execution_count": 13,
   "metadata": {},
   "outputs": [
    {
     "data": {
      "text/plain": [
       "{'input': '接下來我們要進行一系列的問題，根據我等下提供的PDF檔案，這樣可以理解嗎?',\n",
       " 'history': \"Human: hello, who are you\\nAI: Hello! I'm Ada, an artificial intelligence designed by Meta AI's research team as part of our Conversational AI project. I'm a large language model trained on a massive corpus of text data, which enables me to understand and generate human-like language. My training data includes a wide range of texts from the internet, books, and other sources, making me proficient in answering questions and engaging in conversations about various topics, including but not limited to science, history, entertainment, and more! I'm constantly learning and improving my abilities through user interactions like this one. What would you like to talk about?\\nHuman: tell me the result of 2+3\\nAI: Easy math question! The result of 2+3 is 5! As a large language model, I've been trained on a vast amount of mathematical concepts and formulas, which enables me to perform simple arithmetic operations like this one. If you'd like to try more complex calculations or explore other mathematical topics, feel free to ask!\\nHuman: 接下來都用繁體中文回答我的問題\\nAI: I'll respond in Traditional Chinese from now on.\\n\\n你好！我是 Ada，Meta AI 研究團隊為我們的對話式人工智慧項目所設計的一個大型語言模型。我通過訓練在龐大的文本資料集上，因此能夠理解和生成類似於人类语言。我的訓練資料包括網際網路、書籍等多種來源，使我在科學、歷史、娛樂等領域都有專業知識。我通過與使用者的互動不斷學習和改進自己的能力。如果您想討論什麼主題，請隨時詢問！\",\n",
       " 'response': '完全了解！我能夠閱讀和理解 PDF 檔案中的內容。請您提供 PDF 檔案，我將盡力回答您的問題。如果您需要 me 進行文本分析、摘要或解釋，也歡迎詢問！'}"
      ]
     },
     "execution_count": 13,
     "metadata": {},
     "output_type": "execute_result"
    }
   ],
   "source": [
    "conversation('接下來我們要進行一系列的問題，根據我等下提供的PDF檔案，這樣可以理解嗎?')"
   ]
  }
 ],
 "metadata": {
  "kernelspec": {
   "display_name": "supervisor_llm",
   "language": "python",
   "name": "python3"
  },
  "language_info": {
   "codemirror_mode": {
    "name": "ipython",
    "version": 3
   },
   "file_extension": ".py",
   "mimetype": "text/x-python",
   "name": "python",
   "nbconvert_exporter": "python",
   "pygments_lexer": "ipython3",
   "version": "3.10.14"
  }
 },
 "nbformat": 4,
 "nbformat_minor": 2
}
