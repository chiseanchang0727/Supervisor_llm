{
 "cells": [
  {
   "cell_type": "code",
   "execution_count": 54,
   "metadata": {},
   "outputs": [],
   "source": [
    "import os\n",
    "import re\n",
    "import numpy as np\n",
    "import pandas as pd\n",
    "from datasets import load_dataset, Dataset, ClassLabel\n",
    "from langchain.document_loaders import PyPDFLoader\n",
    "from utils import read_json\n",
    "import torch\n",
    "from transformers import DistilBertTokenizer, DistilBertForSequenceClassification, TrainingArguments, Trainer\n",
    "from sklearn.metrics import accuracy_score, f1_score\n",
    "from sklearn.metrics.pairwise import cosine_similarity"
   ]
  },
  {
   "cell_type": "code",
   "execution_count": 27,
   "metadata": {},
   "outputs": [],
   "source": [
    "def get_whole_pdf(file_data):\n",
    "    whole_pdf = \"\"\n",
    "    for i in range(len(file_data)):\n",
    "        whole_pdf += file_data[i].page_content\n",
    "\n",
    "    return whole_pdf"
   ]
  },
  {
   "cell_type": "code",
   "execution_count": 28,
   "metadata": {},
   "outputs": [],
   "source": [
    "configs = read_json('configs.json')\n",
    "DATA_PATH = configs[\"DATA_PATH\"]\n",
    "DB_PATH = configs['DB_PATH']\n",
    "files_list = [file for file in os.listdir(DATA_PATH) if os.path.isfile(os.path.join(DATA_PATH, file))]\n",
    "\n",
    "def read_pdf(files_list, data_path=DATA_PATH):\n",
    "    content_dict = {}\n",
    "\n",
    "    for file_name in files_list:\n",
    "        file_path = data_path + file_name\n",
    "        loader = PyPDFLoader(file_path)\n",
    "        content = loader.load()\n",
    "        whole_pdf = \"\"\n",
    "        for i in range(len(content)):\n",
    "            whole_pdf += content[i].page_content\n",
    "\n",
    "        whole_pdf = re.sub(r'[：。\\n]', '', whole_pdf)\n",
    "        content_dict[file_name] = whole_pdf\n",
    "\n",
    "    return content_dict"
   ]
  },
  {
   "cell_type": "code",
   "execution_count": 29,
   "metadata": {},
   "outputs": [
    {
     "data": {
      "text/plain": [
       "['34944_高鐵_促參.pdf',\n",
       " '38005_核四_政策.pdf',\n",
       " '39243_核四_品質.pdf',\n",
       " '39477_核四_料件.pdf',\n",
       " '46365_高鐵_基金.pdf',\n",
       " '48052_大客車_逃生門.pdf',\n",
       " '48746_大客車_安全門.pdf',\n",
       " '49490_核四_延宕.pdf',\n",
       " '49627_核四_停建.pdf',\n",
       " '49676_大客車_駕照.pdf',\n",
       " '52922_大客車_超時.pdf',\n",
       " '54210_高鐵_出資.pdf',\n",
       " '54376_高鐵_航發.pdf',\n",
       " '54561_高鐵_機電.pdf',\n",
       " '58930_核四_封存.pdf']"
      ]
     },
     "execution_count": 29,
     "metadata": {},
     "output_type": "execute_result"
    }
   ],
   "source": [
    "files_list"
   ]
  },
  {
   "cell_type": "code",
   "execution_count": 30,
   "metadata": {},
   "outputs": [],
   "source": [
    "pdf_contents = read_pdf(files_list)"
   ]
  },
  {
   "cell_type": "code",
   "execution_count": 31,
   "metadata": {},
   "outputs": [],
   "source": [
    "def content_extraction(input, pattern):\n",
    "\n",
    "    # Search using the pattern\n",
    "    match = re.search(pattern, input, re.S)\n",
    "\n",
    "    if match:\n",
    "        result = match.group(1).strip()  # Use strip() to remove any leading/trailing whitespace\n",
    "        print(\"Extraction succeed.\")\n",
    "        return result\n",
    "    else:\n",
    "        print(\"No match found\")\n",
    "        pass"
   ]
  },
  {
   "cell_type": "code",
   "execution_count": 32,
   "metadata": {},
   "outputs": [
    {
     "name": "stdout",
     "output_type": "stream",
     "text": [
      "Extraction succeed.\n",
      "Extraction succeed.\n",
      "Extraction succeed.\n",
      "Extraction succeed.\n",
      "Extraction succeed.\n",
      "Extraction succeed.\n",
      "Extraction succeed.\n",
      "Extraction succeed.\n",
      "Extraction succeed.\n",
      "Extraction succeed.\n",
      "Extraction succeed.\n",
      "Extraction succeed.\n",
      "Extraction succeed.\n",
      "Extraction succeed.\n",
      "Extraction succeed.\n"
     ]
    }
   ],
   "source": [
    "pattern = r\"貳、案   由(.*?)參、事實與理由\"\n",
    "\n",
    "extracted_content = {}\n",
    "for filename, content in pdf_contents.items():\n",
    "    extracted_content[filename] = content_extraction(content, pattern)"
   ]
  },
  {
   "cell_type": "code",
   "execution_count": 33,
   "metadata": {},
   "outputs": [],
   "source": [
    "def extract_label(filename):\n",
    "    # Assuming the label is always after the first underscore and ends before the second underscore\n",
    "    match = re.search(r'_(.*?)_', filename)\n",
    "    if match:\n",
    "        return match.group(1)  # This extracts text between the first pair of underscores\n",
    "    return None  # In case the pattern does not match"
   ]
  },
  {
   "cell_type": "code",
   "execution_count": 34,
   "metadata": {},
   "outputs": [
    {
     "data": {
      "text/plain": [
       "[{'label': '高鐵',\n",
       "  'text': '交通部於 87年間與臺灣高速鐵路公司簽訂「臺灣南北高速鐵路興建營運合約」及「臺灣南北高速鐵路站區開發合約 」，疏未預先審度該公司展延高鐵通車營運時程及遲延受領站區用地所生 損失之責任歸屬，並綢繆約定 相關處罰條款 ，嗣對政府權益保障恝置不察，一再同意該公司展延通車營運時程及受領站區用地， 致政府蒙受回饋金與租金收入減少及顧問費用增加等鉅額損失，均有違失，爰依監察法第 24條規定提案糾正'},\n",
       " {'label': '核四',\n",
       "  'text': '核四封存後每年仍耗費數億元於資產維護管理，行政院及經濟部對外宣告核四重啟不可行，核四興建費用 2,833億元頇列為損失，行政院及 經濟部對核四政策之重大變動，導致資源嚴重浪費； 再者，經濟部宣布能源配比 (燃氣50%、燃煤30%、再生能源20%)之能源轉型政策，未經能源安全、能源經濟及環境影響等完整評估 ，復於再生能源發電量增加有限情況下， 以運轉中核電機組長期停機 方式減核 ，致近年火力發購電量逐年提高， 106年占比達84.4%，燃煤發電增幅 甚至高於燃氣，造成嚴重空氣污染；以及經濟部宣布 新能源政策 之前，並未評估其對電價之影響，迄 106年3月行政院始於國公營企業體檢小組會議評估 等情，均有違失，爰依法提案糾正'},\n",
       " {'label': '核四',\n",
       "  'text': '台電公司 未落實「核四工程品質保證方案」，致龍門電廠試運轉時違規與注意改善事項層出不窮，如 抑壓池灌水作業 不當，致反應器廠房底層淹水 、壓力試驗合格之室內消防栓 系統，其 太平龍頭 竟脫落，致汽機廠房積水等 ，均嚴重衝擊國人對核能安全運轉之信心等情 ，確有諸多違失，爰依法提案糾正'},\n",
       " {'label': '核四',\n",
       "  'text': '台灣電力股份有限公司 (下稱台電公司 )於本院調查核四廠一號機因施工測詴期間設備損壞而移用二號機相關設備之過程，所提供資料內容前後不一，設備組件損壞、採購及修復個數未能確實清查正確，顯見台電公司核四廠之料件管理系統紊亂，且回復本院公文一再發生資料正確性不足，核有怠失；另台電公司於 81年陳報核四興建計畫， 竟以69年所估算成本陳報， 未能如實報告核四建廠成本，致使政府無法確實評估該項投資計畫之成本效益，台電公司表示當時即考慮日後再以追加預算方式提出，此亦導致政 府長年來不得不對核四預算持續加碼，形成台電公司及國家之財務負擔，核有違失，爰依法提案糾正'},\n",
       " {'label': '高鐵',\n",
       "  'text': '近年利率逐年下調， 資金成本下降， 惟交通部未督飭高公局利用此 改變趨勢而進行財務調度，積極規劃國道基金債務之舉新還舊，減輕利息 負擔，改善財務結構 ；該部復坐視國道基金之財務操作 受高鐵基金之影響；又該部迄今未將 國道基金負擔 未具自償性且與國道並無直接關聯之地區性道路興建支出，撥還該基金等情，均核有重大違失，爰依法提案糾正'},\n",
       " {'label': '大客車',\n",
       "  'text': '交通部暨公路總局未善盡監督及執行車輛之監理機制，輕縱尊龍客運等公司違規變更內裝而危害公共安全，致生本案大客車六名乘客因逃生門遭鐵板封閉，無法開啟而慘遭大火燒死之重大事故，顯有違失，爰依監察法第二十四條之規定提案糾正'},\n",
       " {'label': '大客車',\n",
       "  'text': '交通部核准之安審（ 98）第1620號車型大客車，其檢測報告判定緊急出口符合法規，得於車輛靜止時由車內及車外徒手開啟，然105年7月19日（下稱0719）陸客團火燒車事故發生時卻因遊覽車左側安全門掛有鐵鍊並未即時開啟，其相同型式 20部車輛經查核亦逾八成於安全門裝置暗鎖，業嚴重威脅乘客逃生機會 ；又該部於核發車輛型式安全審驗合格證明書後，未善盡監督車身打造廠依法落實執行品質一致性管制計畫書，無法確保大客車之安全品質具有一致性 ；復漠視國內遊覽車業者為增設原廠設計所無之相關配備，擅自變更底盤電路系統，新核定之大客車電氣設備審驗補充作業規定 亦未包含使用中之舊車型大客車，恐難避免使用中之遊覽車車輛電路系統因加裝施工不良或過度負荷引發火災之可能性，造成人民生命財產之嚴重危害， 確有重大違失，爰依法提案糾正'},\n",
       " {'label': '核四',\n",
       "  'text': '台灣電力股份有限公司辦理核四計畫， 未採統包模式 ，衍生各類採購標案多達 835項，界面 整合困難， 且怠忽控管顧問公司工作內容，肇致服務費用暴增卻無法依約完成工作 ，又在未取得關鍵外購設備細部規格前，竟同意承商以假設數據先行設計，致到貨後頇 額外補償 修改變更費用 ，加上工地防颱應變失當等諸多違失，導致計畫執行效能不彰，進度嚴重落後，商轉日期一再展延逾 11年迄仍無著，工程經費更由新台幣 1,697億餘元暴增至 2,736億餘元，增幅超過 6成達1,039億餘元，且後續增加勢必難免，斲喪國家利益與政府形象；經濟部為核四計畫執行督導機關，長期粉飾計畫執行遭遇之瓶頸癥結，未能積極督飭台電公司有效因應妥處，恝置履約爭議及施工管理問題層出不窮，亦難辭怠忽監督之咎'},\n",
       " {'label': '核四',\n",
       "  'text': '行政院貿然於 89年10月27日宣布停建進度已達33.81%之核四工程，又經濟部對於臺電公司三度函詢核四停建相關疑義，卻一再模糊虛應，恝置所屬無所適從，另臺電公司為迎合上意，未待上級正式函示或召開董事會應變，即由公司高層僅以口諭方式擅為傳達停建核四，並倉促發函指示廠商 不限期暫停契約執行，且核四工程未能採統包方式辦理，亦未有總顧問協助整合複雜之施工界面，導致工期延宕、預算追加、鉅額損失及品質安全疑慮等情事，其工期至少增加 44個月，且損失高達 1,870億元，未來核四是否安全運轉，屢遭質疑， 且現已逾核四計畫一號機展延後 之預訂商轉日期，惟尚未見修訂計畫期程， 行政院暨所屬經濟部、臺電公司等均難辭其咎'},\n",
       " {'label': '大客車',\n",
       "  'text': '交通部公路總局 辦理遊覽車客運業營運管理考核業務， 怠未督促所屬落實 各項表件查核勾稽職責，縱任 世通遊覽車客運股份有限公司 長期僱用無大客車職業駕駛執照者駕駛遊覽車，未 能及時查處 並責令改正，肇生101年5月9日花蓮太魯閣錦文橋旁翻車事故，嚴重危害旅運安全；且該局派赴事故現場人員，竟未查知該 翻覆遊覽車未依規定隨車攜帶駕駛人登記證、派車單及租車契約等資料，迨本院約詢通知責請說明後，始急洽業者查證屬實，並依違反汽車運輸業管理規則補行罰款，確有怠失，爰依法提案糾正'},\n",
       " {'label': '大客車',\n",
       "  'text': '勞委會辦理公路客運業司機工時稽查，長久坐視超時工作之嚴重性，僅就稽查結果轉送各地勞政單位裁罰，對後續執行及改善措施未能落實追蹤管考，輕忽該行業攸關公眾安全之特性 ；交通部未能參酌先進國家對公路客運業合理駕駛時間之制訂，復未對近年因疲勞駕駛之肇禍事件深切檢討，以訂定公路客運業司機合理駕駛時間；公路總局於執行大客車駕駛審驗措施，未能記取近年發生多次公路客運業司機因個人健康因素，中斷行車任務之教訓，訂定妥適之健檢項目與標準 ，均核有違失'},\n",
       " {'label': '高鐵',\n",
       "  'text': '行政院明知高鐵公司籌資不順，財務困難，投資風險極高，不但未能督促原始股東履行「政府零出資」承諾，反而 准予所屬公營事業機構、或實質上受其控制之公私合營公司或政府捐助財團法人將資金投入該公司一再挹注該公司鉅額資金 ，復提供鉅額中長期資金及融資保證，不但危及政府財政，並以公權力牽拖耗喪社會資材，嚴重悖離 BOT基本精神另中鋼公司投資高鐵公司特別股，該公司董事長林 ○○不但同時兼任高鐵公司董事，並三次主導投資高鐵公司特別股，立場偏失，主管機關皆怠忽不察；中技社投資高鐵公司特別股，既不合原捐助目的及章程規定，且程序上亦有重大瑕疵，復影響該社財務資金運用甚鉅，主管機關經濟部皆恝置不理又 財政部甫 修正相關法令，各公營及公私 合營行庫旋即投資高鐵公司計一百七十三億元，招致非議；公營行庫將上開投資不當認列為短期投資，不僅傷及公營行庫財務表達之正確性，且得以短期投資拖延補辦預算之程序；高鐵公司財務狀況日趨惡化，政府財務擔保風險持續升高，交通部長期視若無睹，粉飾太帄，徒增政府財務風險，均有重大違失 ，爰依法提案糾正'},\n",
       " {'label': '高鐵',\n",
       "  'text': '行政院為協助解決臺灣高速鐵路公司 (下稱高鐵公司 )資金需求，指示中華航空事業發展基金會 (下稱航發會 )限期購買該公司丙種特別股新臺幣 (下同 )四十五億元，惟該項投資決策未經正式會議及評估作業，亦未留存任何紀錄可供稽查，過程粗糙急率；又該院明知航發會屬財團法人，投資高速鐵路有違該會 協助發展航空事業之章程目的，亦可知悉因時間急迫，相關董事會召集程序勢難符合法令規定，仍為上開違反章程及法令之指示，顯有失當；而交通部長擔任航發會董事長，管理及監督財團法人之角色混同，董事會以遵守政策指示及考量國家利益為由通過相關議案，交通部復怠於監督，率予許可，致生航發會重大損害，財團法人設置之公益目的盪然無存，爰依法提案糾正'},\n",
       " {'label': '高鐵',\n",
       "  'text': '交通部及所屬高速鐵路工程局 率爾同意 變更機電核心系統，致 台灣高鐵淪為歐、日混血系統，每百萬公里發生之行車事故件數，較日本新幹線高出甚多，迄未深入檢討等情，爰依法提案糾正'},\n",
       " {'label': '核四',\n",
       "  'text': '我國核能安全監管機關為行政院原子能委員會，核四未經該會完整審查認可，未符合核能安全要求 下，經濟部卻以核四安檢過關，使部分民眾認 為核四安全已由經濟部審查掛保證通過， 積非成是，影響迄今；而核四封存前， 未能解決 諸多系統 之設計及設備問題，即使當時並未封存、繼續詴運轉下去，仍有安全疑慮， 在外界對於核四重啟見解不一之際， 經濟部反而提供錯誤訊息 ，導致核四紛擾不斷又，台電未能及時監督承商， 現因核四斷層新事證，更加劇後續處理之困難度，台電對核能安全與核四品質把關 之相關作為，確實不夠嚴謹， 經濟部及台電均 核有怠失，爰依法提案糾正'}]"
      ]
     },
     "execution_count": 34,
     "metadata": {},
     "output_type": "execute_result"
    }
   ],
   "source": [
    "formatted_data  = [{'label': extract_label(filename), 'text' : content } for filename, content in extracted_content.items()]\n",
    "formatted_data "
   ]
  },
  {
   "cell_type": "code",
   "execution_count": 35,
   "metadata": {},
   "outputs": [
    {
     "data": {
      "text/plain": [
       "ClassLabel(names=['高鐵', '核四', '大客車'], id=None)"
      ]
     },
     "execution_count": 35,
     "metadata": {},
     "output_type": "execute_result"
    }
   ],
   "source": [
    "label = []\n",
    "for i in range(len(formatted_data)):\n",
    "    current_label = formatted_data[i]['label']\n",
    "    if current_label not in label:\n",
    "        label.append(current_label)\n",
    "    else:\n",
    "        continue\n",
    "label_feature = ClassLabel(names=label)\n",
    "label_feature"
   ]
  },
  {
   "cell_type": "code",
   "execution_count": 36,
   "metadata": {},
   "outputs": [
    {
     "data": {
      "text/plain": [
       "Dataset({\n",
       "    features: ['text', 'label'],\n",
       "    num_rows: 15\n",
       "})"
      ]
     },
     "execution_count": 36,
     "metadata": {},
     "output_type": "execute_result"
    }
   ],
   "source": [
    "dataset = Dataset.from_dict({\n",
    "    'text': [item['text'] for item in formatted_data],\n",
    "    'label': [item['label'] for item in formatted_data]\n",
    "})\n",
    "dataset"
   ]
  },
  {
   "cell_type": "code",
   "execution_count": 37,
   "metadata": {},
   "outputs": [],
   "source": [
    "def preprocess_label(example):\n",
    "    \n",
    "    example['label'] = [label_feature.str2int(label) for label in example['label']]\n",
    "    return example"
   ]
  },
  {
   "cell_type": "code",
   "execution_count": 38,
   "metadata": {},
   "outputs": [
    {
     "data": {
      "application/vnd.jupyter.widget-view+json": {
       "model_id": "e1e17f72b3af4f81b5470b5cdc11dc79",
       "version_major": 2,
       "version_minor": 0
      },
      "text/plain": [
       "Map:   0%|          | 0/15 [00:00<?, ? examples/s]"
      ]
     },
     "metadata": {},
     "output_type": "display_data"
    }
   ],
   "source": [
    "dataset_processed = dataset.map(preprocess_label, batched=True)\n",
    "dataset_split = dataset_processed.train_test_split(test_size=0.3)"
   ]
  },
  {
   "cell_type": "code",
   "execution_count": 39,
   "metadata": {},
   "outputs": [
    {
     "data": {
      "text/plain": [
       "DatasetDict({\n",
       "    train: Dataset({\n",
       "        features: ['text', 'label'],\n",
       "        num_rows: 10\n",
       "    })\n",
       "    test: Dataset({\n",
       "        features: ['text', 'label'],\n",
       "        num_rows: 5\n",
       "    })\n",
       "})"
      ]
     },
     "execution_count": 39,
     "metadata": {},
     "output_type": "execute_result"
    }
   ],
   "source": [
    "dataset_split"
   ]
  },
  {
   "cell_type": "markdown",
   "metadata": {},
   "source": [
    "## distilbert-base-cased"
   ]
  },
  {
   "cell_type": "code",
   "execution_count": 40,
   "metadata": {},
   "outputs": [
    {
     "name": "stderr",
     "output_type": "stream",
     "text": [
      "Some weights of DistilBertForSequenceClassification were not initialized from the model checkpoint at distilbert-base-cased and are newly initialized: ['classifier.bias', 'classifier.weight', 'pre_classifier.bias', 'pre_classifier.weight']\n",
      "You should probably TRAIN this model on a down-stream task to be able to use it for predictions and inference.\n"
     ]
    }
   ],
   "source": [
    "model_ckpt = \"distilbert-base-cased\"\n",
    "device = torch.device(\"cuda\" if torch.cuda.is_available() else \"cpu\")\n",
    "# model = AutoModel.from_pretrained(model_ckpt).to(device)\n",
    "tokenizer = DistilBertTokenizer.from_pretrained(model_ckpt)\n",
    "model = DistilBertForSequenceClassification.from_pretrained(model_ckpt, num_labels=3)"
   ]
  },
  {
   "cell_type": "code",
   "execution_count": 41,
   "metadata": {},
   "outputs": [],
   "source": [
    "def extract_hidden_states(batch):\n",
    "    # Place model inputs on the GPU\n",
    "    inputs = {k:v.to(device) for k,v in batch.items() \n",
    "              if k in tokenizer.model_input_names}\n",
    "    # Extract last hidden states\n",
    "    with torch.no_grad():\n",
    "        last_hidden_state = model(**inputs).last_hidden_state\n",
    "    # Return vector for [CLS] token\n",
    "    return {\"hidden_state\": last_hidden_state[:,0].cpu().numpy()}"
   ]
  },
  {
   "cell_type": "code",
   "execution_count": 42,
   "metadata": {},
   "outputs": [],
   "source": [
    "def tokenize(batch):\n",
    "    return tokenizer(batch[\"text\"], padding=True, truncation=True)"
   ]
  },
  {
   "cell_type": "code",
   "execution_count": 43,
   "metadata": {},
   "outputs": [
    {
     "data": {
      "text/plain": [
       "DatasetDict({\n",
       "    train: Dataset({\n",
       "        features: ['text', 'label'],\n",
       "        num_rows: 10\n",
       "    })\n",
       "    test: Dataset({\n",
       "        features: ['text', 'label'],\n",
       "        num_rows: 5\n",
       "    })\n",
       "})"
      ]
     },
     "execution_count": 43,
     "metadata": {},
     "output_type": "execute_result"
    }
   ],
   "source": [
    "dataset_split"
   ]
  },
  {
   "cell_type": "code",
   "execution_count": 44,
   "metadata": {},
   "outputs": [
    {
     "data": {
      "application/vnd.jupyter.widget-view+json": {
       "model_id": "4a19ef8f0af64d76988193243a0e162d",
       "version_major": 2,
       "version_minor": 0
      },
      "text/plain": [
       "Map:   0%|          | 0/10 [00:00<?, ? examples/s]"
      ]
     },
     "metadata": {},
     "output_type": "display_data"
    },
    {
     "data": {
      "application/vnd.jupyter.widget-view+json": {
       "model_id": "09658a83d0bf430d8d55c99756db5d71",
       "version_major": 2,
       "version_minor": 0
      },
      "text/plain": [
       "Map:   0%|          | 0/5 [00:00<?, ? examples/s]"
      ]
     },
     "metadata": {},
     "output_type": "display_data"
    }
   ],
   "source": [
    "dataset_encoded = dataset_split.map(tokenize, batched=True, batch_size=None)"
   ]
  },
  {
   "cell_type": "code",
   "execution_count": 45,
   "metadata": {},
   "outputs": [],
   "source": [
    "dataset_encoded.set_format(\"torch\", \n",
    "                            columns=[\"input_ids\",  \"label\",\"attention_mask\"])"
   ]
  },
  {
   "cell_type": "code",
   "execution_count": 46,
   "metadata": {},
   "outputs": [
    {
     "data": {
      "text/plain": [
       "DatasetDict({\n",
       "    train: Dataset({\n",
       "        features: ['text', 'label', 'input_ids', 'attention_mask'],\n",
       "        num_rows: 10\n",
       "    })\n",
       "    test: Dataset({\n",
       "        features: ['text', 'label', 'input_ids', 'attention_mask'],\n",
       "        num_rows: 5\n",
       "    })\n",
       "})"
      ]
     },
     "execution_count": 46,
     "metadata": {},
     "output_type": "execute_result"
    }
   ],
   "source": [
    "dataset_encoded"
   ]
  },
  {
   "cell_type": "code",
   "execution_count": 47,
   "metadata": {},
   "outputs": [],
   "source": [
    "def compute_metrics(pred):\n",
    "    label = pred.label_ids\n",
    "    preds = pred.predictions.argmax(-1)\n",
    "    f1 = f1_score(label, preds, average=\"weighted\")\n",
    "    acc = accuracy_score(label, preds)\n",
    "    return {\"accuracy\": acc, \"f1\": f1}"
   ]
  },
  {
   "cell_type": "code",
   "execution_count": 48,
   "metadata": {},
   "outputs": [
    {
     "data": {
      "application/vnd.jupyter.widget-view+json": {
       "model_id": "26d1a89c773549ef845a33ff7b527448",
       "version_major": 2,
       "version_minor": 0
      },
      "text/plain": [
       "  0%|          | 0/200 [00:00<?, ?it/s]"
      ]
     },
     "metadata": {},
     "output_type": "display_data"
    },
    {
     "name": "stdout",
     "output_type": "stream",
     "text": [
      "{'loss': 1.193, 'grad_norm': 7.327645301818848, 'learning_rate': 1.9e-05, 'epoch': 1.0}\n"
     ]
    },
    {
     "data": {
      "application/vnd.jupyter.widget-view+json": {
       "model_id": "5649f41329bc4641849303e87c509d5a",
       "version_major": 2,
       "version_minor": 0
      },
      "text/plain": [
       "  0%|          | 0/5 [00:00<?, ?it/s]"
      ]
     },
     "metadata": {},
     "output_type": "display_data"
    },
    {
     "name": "stdout",
     "output_type": "stream",
     "text": [
      "{'eval_loss': 1.1221609115600586, 'eval_accuracy': 0.2, 'eval_f1': 0.06666666666666667, 'eval_runtime': 1.2871, 'eval_samples_per_second': 3.885, 'eval_steps_per_second': 3.885, 'epoch': 1.0}\n",
      "{'loss': 1.1163, 'grad_norm': 6.4350385665893555, 'learning_rate': 1.8e-05, 'epoch': 2.0}\n"
     ]
    },
    {
     "data": {
      "application/vnd.jupyter.widget-view+json": {
       "model_id": "09faa4e1669d4439a286841f920bb276",
       "version_major": 2,
       "version_minor": 0
      },
      "text/plain": [
       "  0%|          | 0/5 [00:00<?, ?it/s]"
      ]
     },
     "metadata": {},
     "output_type": "display_data"
    },
    {
     "name": "stdout",
     "output_type": "stream",
     "text": [
      "{'eval_loss': 1.1108165979385376, 'eval_accuracy': 0.4, 'eval_f1': 0.22857142857142856, 'eval_runtime': 1.5218, 'eval_samples_per_second': 3.286, 'eval_steps_per_second': 3.286, 'epoch': 2.0}\n",
      "{'loss': 1.0875, 'grad_norm': 6.128199577331543, 'learning_rate': 1.7e-05, 'epoch': 3.0}\n"
     ]
    },
    {
     "data": {
      "application/vnd.jupyter.widget-view+json": {
       "model_id": "5f586f6b2c1e43068a90b3e7b3fd1c41",
       "version_major": 2,
       "version_minor": 0
      },
      "text/plain": [
       "  0%|          | 0/5 [00:00<?, ?it/s]"
      ]
     },
     "metadata": {},
     "output_type": "display_data"
    },
    {
     "name": "stdout",
     "output_type": "stream",
     "text": [
      "{'eval_loss': 1.1106030941009521, 'eval_accuracy': 0.4, 'eval_f1': 0.22857142857142856, 'eval_runtime': 1.4863, 'eval_samples_per_second': 3.364, 'eval_steps_per_second': 3.364, 'epoch': 3.0}\n",
      "{'loss': 1.0739, 'grad_norm': 8.61349868774414, 'learning_rate': 1.6000000000000003e-05, 'epoch': 4.0}\n"
     ]
    },
    {
     "data": {
      "application/vnd.jupyter.widget-view+json": {
       "model_id": "9fa7df5198ef40b7bd0af6b5a8c07990",
       "version_major": 2,
       "version_minor": 0
      },
      "text/plain": [
       "  0%|          | 0/5 [00:00<?, ?it/s]"
      ]
     },
     "metadata": {},
     "output_type": "display_data"
    },
    {
     "name": "stdout",
     "output_type": "stream",
     "text": [
      "{'eval_loss': 1.1260194778442383, 'eval_accuracy': 0.4, 'eval_f1': 0.22857142857142856, 'eval_runtime': 1.5174, 'eval_samples_per_second': 3.295, 'eval_steps_per_second': 3.295, 'epoch': 4.0}\n",
      "{'loss': 1.0459, 'grad_norm': 8.070556640625, 'learning_rate': 1.5000000000000002e-05, 'epoch': 5.0}\n"
     ]
    },
    {
     "data": {
      "application/vnd.jupyter.widget-view+json": {
       "model_id": "aec4535455e94940b007ec8968c459dd",
       "version_major": 2,
       "version_minor": 0
      },
      "text/plain": [
       "  0%|          | 0/5 [00:00<?, ?it/s]"
      ]
     },
     "metadata": {},
     "output_type": "display_data"
    },
    {
     "name": "stdout",
     "output_type": "stream",
     "text": [
      "{'eval_loss': 1.137286901473999, 'eval_accuracy': 0.4, 'eval_f1': 0.22857142857142856, 'eval_runtime': 1.5788, 'eval_samples_per_second': 3.167, 'eval_steps_per_second': 3.167, 'epoch': 5.0}\n",
      "{'loss': 0.9982, 'grad_norm': 6.707542419433594, 'learning_rate': 1.4e-05, 'epoch': 6.0}\n"
     ]
    },
    {
     "data": {
      "application/vnd.jupyter.widget-view+json": {
       "model_id": "676b5081091847f19e8579d396c3dffe",
       "version_major": 2,
       "version_minor": 0
      },
      "text/plain": [
       "  0%|          | 0/5 [00:00<?, ?it/s]"
      ]
     },
     "metadata": {},
     "output_type": "display_data"
    },
    {
     "name": "stdout",
     "output_type": "stream",
     "text": [
      "{'eval_loss': 1.1592329740524292, 'eval_accuracy': 0.4, 'eval_f1': 0.22857142857142856, 'eval_runtime': 1.5153, 'eval_samples_per_second': 3.3, 'eval_steps_per_second': 3.3, 'epoch': 6.0}\n",
      "{'loss': 0.9396, 'grad_norm': 11.867444038391113, 'learning_rate': 1.3000000000000001e-05, 'epoch': 7.0}\n"
     ]
    },
    {
     "data": {
      "application/vnd.jupyter.widget-view+json": {
       "model_id": "24c8f9b161024c3f9cb3e85bfbbc4c9f",
       "version_major": 2,
       "version_minor": 0
      },
      "text/plain": [
       "  0%|          | 0/5 [00:00<?, ?it/s]"
      ]
     },
     "metadata": {},
     "output_type": "display_data"
    },
    {
     "name": "stdout",
     "output_type": "stream",
     "text": [
      "{'eval_loss': 1.23529052734375, 'eval_accuracy': 0.2, 'eval_f1': 0.13333333333333333, 'eval_runtime': 1.55, 'eval_samples_per_second': 3.226, 'eval_steps_per_second': 3.226, 'epoch': 7.0}\n",
      "{'loss': 0.8614, 'grad_norm': 8.095775604248047, 'learning_rate': 1.2e-05, 'epoch': 8.0}\n"
     ]
    },
    {
     "data": {
      "application/vnd.jupyter.widget-view+json": {
       "model_id": "1783b2715cc04c9c867b0be2efcbe6e6",
       "version_major": 2,
       "version_minor": 0
      },
      "text/plain": [
       "  0%|          | 0/5 [00:00<?, ?it/s]"
      ]
     },
     "metadata": {},
     "output_type": "display_data"
    },
    {
     "name": "stdout",
     "output_type": "stream",
     "text": [
      "{'eval_loss': 1.2319685220718384, 'eval_accuracy': 0.4, 'eval_f1': 0.36, 'eval_runtime': 1.5076, 'eval_samples_per_second': 3.316, 'eval_steps_per_second': 3.316, 'epoch': 8.0}\n",
      "{'loss': 0.7018, 'grad_norm': 8.362232208251953, 'learning_rate': 1.1000000000000001e-05, 'epoch': 9.0}\n"
     ]
    },
    {
     "data": {
      "application/vnd.jupyter.widget-view+json": {
       "model_id": "f7626389f84b4c70931fd630f6850e50",
       "version_major": 2,
       "version_minor": 0
      },
      "text/plain": [
       "  0%|          | 0/5 [00:00<?, ?it/s]"
      ]
     },
     "metadata": {},
     "output_type": "display_data"
    },
    {
     "name": "stdout",
     "output_type": "stream",
     "text": [
      "{'eval_loss': 1.3002742528915405, 'eval_accuracy': 0.4, 'eval_f1': 0.36, 'eval_runtime': 1.5095, 'eval_samples_per_second': 3.312, 'eval_steps_per_second': 3.312, 'epoch': 9.0}\n",
      "{'loss': 0.6007, 'grad_norm': 19.978792190551758, 'learning_rate': 1e-05, 'epoch': 10.0}\n"
     ]
    },
    {
     "data": {
      "application/vnd.jupyter.widget-view+json": {
       "model_id": "4e6f0b927cf44f2d820fee947843c698",
       "version_major": 2,
       "version_minor": 0
      },
      "text/plain": [
       "  0%|          | 0/5 [00:00<?, ?it/s]"
      ]
     },
     "metadata": {},
     "output_type": "display_data"
    },
    {
     "name": "stdout",
     "output_type": "stream",
     "text": [
      "{'eval_loss': 1.3373533487319946, 'eval_accuracy': 0.2, 'eval_f1': 0.16, 'eval_runtime': 1.5823, 'eval_samples_per_second': 3.16, 'eval_steps_per_second': 3.16, 'epoch': 10.0}\n",
      "{'loss': 0.4851, 'grad_norm': 2.7370758056640625, 'learning_rate': 9e-06, 'epoch': 11.0}\n"
     ]
    },
    {
     "data": {
      "application/vnd.jupyter.widget-view+json": {
       "model_id": "fb2a934137c445319eea0d0349ae2327",
       "version_major": 2,
       "version_minor": 0
      },
      "text/plain": [
       "  0%|          | 0/5 [00:00<?, ?it/s]"
      ]
     },
     "metadata": {},
     "output_type": "display_data"
    },
    {
     "name": "stdout",
     "output_type": "stream",
     "text": [
      "{'eval_loss': 1.3758379220962524, 'eval_accuracy': 0.4, 'eval_f1': 0.3333333333333333, 'eval_runtime': 1.5491, 'eval_samples_per_second': 3.228, 'eval_steps_per_second': 3.228, 'epoch': 11.0}\n",
      "{'loss': 0.401, 'grad_norm': 9.571490287780762, 'learning_rate': 8.000000000000001e-06, 'epoch': 12.0}\n"
     ]
    },
    {
     "data": {
      "application/vnd.jupyter.widget-view+json": {
       "model_id": "63aff0f1d20a46689531e461b3a6a20f",
       "version_major": 2,
       "version_minor": 0
      },
      "text/plain": [
       "  0%|          | 0/5 [00:00<?, ?it/s]"
      ]
     },
     "metadata": {},
     "output_type": "display_data"
    },
    {
     "name": "stdout",
     "output_type": "stream",
     "text": [
      "{'eval_loss': 1.4082971811294556, 'eval_accuracy': 0.4, 'eval_f1': 0.3333333333333333, 'eval_runtime': 1.5954, 'eval_samples_per_second': 3.134, 'eval_steps_per_second': 3.134, 'epoch': 12.0}\n",
      "{'loss': 0.3959, 'grad_norm': 24.88477325439453, 'learning_rate': 7e-06, 'epoch': 13.0}\n"
     ]
    },
    {
     "data": {
      "application/vnd.jupyter.widget-view+json": {
       "model_id": "098a23d53957465a99410e44f53d6508",
       "version_major": 2,
       "version_minor": 0
      },
      "text/plain": [
       "  0%|          | 0/5 [00:00<?, ?it/s]"
      ]
     },
     "metadata": {},
     "output_type": "display_data"
    },
    {
     "name": "stdout",
     "output_type": "stream",
     "text": [
      "{'eval_loss': 1.6677310466766357, 'eval_accuracy': 0.4, 'eval_f1': 0.36, 'eval_runtime': 1.5013, 'eval_samples_per_second': 3.33, 'eval_steps_per_second': 3.33, 'epoch': 13.0}\n",
      "{'loss': 0.2962, 'grad_norm': 6.0688862800598145, 'learning_rate': 6e-06, 'epoch': 14.0}\n"
     ]
    },
    {
     "data": {
      "application/vnd.jupyter.widget-view+json": {
       "model_id": "ae993e4794a54f2d9db25f858172338b",
       "version_major": 2,
       "version_minor": 0
      },
      "text/plain": [
       "  0%|          | 0/5 [00:00<?, ?it/s]"
      ]
     },
     "metadata": {},
     "output_type": "display_data"
    },
    {
     "name": "stdout",
     "output_type": "stream",
     "text": [
      "{'eval_loss': 1.5505658388137817, 'eval_accuracy': 0.4, 'eval_f1': 0.3333333333333333, 'eval_runtime': 1.5688, 'eval_samples_per_second': 3.187, 'eval_steps_per_second': 3.187, 'epoch': 14.0}\n",
      "{'loss': 0.2293, 'grad_norm': 5.851531982421875, 'learning_rate': 5e-06, 'epoch': 15.0}\n"
     ]
    },
    {
     "data": {
      "application/vnd.jupyter.widget-view+json": {
       "model_id": "e3dc80b912cc43ab9cc91e1e3cfe590e",
       "version_major": 2,
       "version_minor": 0
      },
      "text/plain": [
       "  0%|          | 0/5 [00:00<?, ?it/s]"
      ]
     },
     "metadata": {},
     "output_type": "display_data"
    },
    {
     "name": "stdout",
     "output_type": "stream",
     "text": [
      "{'eval_loss': 1.6124591827392578, 'eval_accuracy': 0.4, 'eval_f1': 0.3333333333333333, 'eval_runtime': 1.4932, 'eval_samples_per_second': 3.348, 'eval_steps_per_second': 3.348, 'epoch': 15.0}\n",
      "{'loss': 0.2143, 'grad_norm': 0.6589857935905457, 'learning_rate': 4.000000000000001e-06, 'epoch': 16.0}\n"
     ]
    },
    {
     "data": {
      "application/vnd.jupyter.widget-view+json": {
       "model_id": "b55af208cdc1429e8968ca2f1e49f0b1",
       "version_major": 2,
       "version_minor": 0
      },
      "text/plain": [
       "  0%|          | 0/5 [00:00<?, ?it/s]"
      ]
     },
     "metadata": {},
     "output_type": "display_data"
    },
    {
     "name": "stdout",
     "output_type": "stream",
     "text": [
      "{'eval_loss': 1.5895787477493286, 'eval_accuracy': 0.4, 'eval_f1': 0.3333333333333333, 'eval_runtime': 1.5885, 'eval_samples_per_second': 3.148, 'eval_steps_per_second': 3.148, 'epoch': 16.0}\n",
      "{'loss': 0.196, 'grad_norm': 31.682523727416992, 'learning_rate': 3e-06, 'epoch': 17.0}\n"
     ]
    },
    {
     "data": {
      "application/vnd.jupyter.widget-view+json": {
       "model_id": "567601b996bc491f88a991171d12c7af",
       "version_major": 2,
       "version_minor": 0
      },
      "text/plain": [
       "  0%|          | 0/5 [00:00<?, ?it/s]"
      ]
     },
     "metadata": {},
     "output_type": "display_data"
    },
    {
     "name": "stdout",
     "output_type": "stream",
     "text": [
      "{'eval_loss': 1.7300688028335571, 'eval_accuracy': 0.4, 'eval_f1': 0.3333333333333333, 'eval_runtime': 1.5049, 'eval_samples_per_second': 3.322, 'eval_steps_per_second': 3.322, 'epoch': 17.0}\n",
      "{'loss': 0.1737, 'grad_norm': 0.9043328166007996, 'learning_rate': 2.0000000000000003e-06, 'epoch': 18.0}\n"
     ]
    },
    {
     "data": {
      "application/vnd.jupyter.widget-view+json": {
       "model_id": "f7c17f4aa09445bf900a83e27e3d7ec2",
       "version_major": 2,
       "version_minor": 0
      },
      "text/plain": [
       "  0%|          | 0/5 [00:00<?, ?it/s]"
      ]
     },
     "metadata": {},
     "output_type": "display_data"
    },
    {
     "name": "stdout",
     "output_type": "stream",
     "text": [
      "{'eval_loss': 1.846247911453247, 'eval_accuracy': 0.4, 'eval_f1': 0.3333333333333333, 'eval_runtime': 1.6741, 'eval_samples_per_second': 2.987, 'eval_steps_per_second': 2.987, 'epoch': 18.0}\n",
      "{'loss': 0.1444, 'grad_norm': 4.016776084899902, 'learning_rate': 1.0000000000000002e-06, 'epoch': 19.0}\n"
     ]
    },
    {
     "data": {
      "application/vnd.jupyter.widget-view+json": {
       "model_id": "6a0573d891c74d4591197f63eb889258",
       "version_major": 2,
       "version_minor": 0
      },
      "text/plain": [
       "  0%|          | 0/5 [00:00<?, ?it/s]"
      ]
     },
     "metadata": {},
     "output_type": "display_data"
    },
    {
     "name": "stdout",
     "output_type": "stream",
     "text": [
      "{'eval_loss': 1.8593422174453735, 'eval_accuracy': 0.4, 'eval_f1': 0.3333333333333333, 'eval_runtime': 1.5083, 'eval_samples_per_second': 3.315, 'eval_steps_per_second': 3.315, 'epoch': 19.0}\n",
      "{'loss': 0.154, 'grad_norm': 4.96265983581543, 'learning_rate': 0.0, 'epoch': 20.0}\n"
     ]
    },
    {
     "data": {
      "application/vnd.jupyter.widget-view+json": {
       "model_id": "a3bce5db41444f88b724a6495b562ca2",
       "version_major": 2,
       "version_minor": 0
      },
      "text/plain": [
       "  0%|          | 0/5 [00:00<?, ?it/s]"
      ]
     },
     "metadata": {},
     "output_type": "display_data"
    },
    {
     "name": "stdout",
     "output_type": "stream",
     "text": [
      "{'eval_loss': 1.8191888332366943, 'eval_accuracy': 0.4, 'eval_f1': 0.3333333333333333, 'eval_runtime': 1.522, 'eval_samples_per_second': 3.285, 'eval_steps_per_second': 3.285, 'epoch': 20.0}\n",
      "{'train_runtime': 203.074, 'train_samples_per_second': 0.985, 'train_steps_per_second': 0.985, 'train_loss': 0.6154014837741851, 'epoch': 20.0}\n"
     ]
    },
    {
     "data": {
      "text/plain": [
       "TrainOutput(global_step=200, training_loss=0.6154014837741851, metrics={'train_runtime': 203.074, 'train_samples_per_second': 0.985, 'train_steps_per_second': 0.985, 'total_flos': 17593640136000.0, 'train_loss': 0.6154014837741851, 'epoch': 20.0})"
      ]
     },
     "execution_count": 48,
     "metadata": {},
     "output_type": "execute_result"
    }
   ],
   "source": [
    "batch_size = 1\n",
    "logging_steps = len(dataset_encoded[\"train\"]) // batch_size\n",
    "model_name = f\"{model_ckpt}-finetuned-emotion\"\n",
    "training_args = TrainingArguments(output_dir=model_name,\n",
    "                                  num_train_epochs=20,\n",
    "                                  learning_rate=2e-5,\n",
    "                                  per_device_train_batch_size=batch_size,\n",
    "                                  per_device_eval_batch_size=batch_size,\n",
    "                                  weight_decay=0.01,\n",
    "                                  evaluation_strategy=\"epoch\",\n",
    "                                  disable_tqdm=False,\n",
    "                                  logging_steps=logging_steps,\n",
    "                                  push_to_hub=False, \n",
    "                                  log_level=\"error\")\n",
    "\n",
    "trainer = Trainer(model=model, args=training_args, \n",
    "                  compute_metrics=compute_metrics,\n",
    "                  train_dataset=dataset_encoded[\"train\"],\n",
    "                  eval_dataset=dataset_encoded[\"test\"],\n",
    "                  tokenizer=tokenizer)\n",
    "\n",
    "# Now you can train the model\n",
    "trainer.train()\n"
   ]
  },
  {
   "cell_type": "code",
   "execution_count": 50,
   "metadata": {},
   "outputs": [
    {
     "data": {
      "text/plain": [
       "('./models/distilbert-base-cased_finetune\\\\tokenizer_config.json',\n",
       " './models/distilbert-base-cased_finetune\\\\special_tokens_map.json',\n",
       " './models/distilbert-base-cased_finetune\\\\vocab.txt',\n",
       " './models/distilbert-base-cased_finetune\\\\added_tokens.json')"
      ]
     },
     "execution_count": 50,
     "metadata": {},
     "output_type": "execute_result"
    }
   ],
   "source": [
    "trainer.save_model(f\"./models/{model_ckpt}_finetune\")\n",
    "tokenizer.save_pretrained(f\"./models/{model_ckpt}_finetune\")"
   ]
  },
  {
   "cell_type": "code",
   "execution_count": 51,
   "metadata": {},
   "outputs": [
    {
     "data": {
      "text/plain": [
       "DistilBertForSequenceClassification(\n",
       "  (distilbert): DistilBertModel(\n",
       "    (embeddings): Embeddings(\n",
       "      (word_embeddings): Embedding(28996, 768, padding_idx=0)\n",
       "      (position_embeddings): Embedding(512, 768)\n",
       "      (LayerNorm): LayerNorm((768,), eps=1e-12, elementwise_affine=True)\n",
       "      (dropout): Dropout(p=0.1, inplace=False)\n",
       "    )\n",
       "    (transformer): Transformer(\n",
       "      (layer): ModuleList(\n",
       "        (0-5): 6 x TransformerBlock(\n",
       "          (attention): MultiHeadSelfAttention(\n",
       "            (dropout): Dropout(p=0.1, inplace=False)\n",
       "            (q_lin): Linear(in_features=768, out_features=768, bias=True)\n",
       "            (k_lin): Linear(in_features=768, out_features=768, bias=True)\n",
       "            (v_lin): Linear(in_features=768, out_features=768, bias=True)\n",
       "            (out_lin): Linear(in_features=768, out_features=768, bias=True)\n",
       "          )\n",
       "          (sa_layer_norm): LayerNorm((768,), eps=1e-12, elementwise_affine=True)\n",
       "          (ffn): FFN(\n",
       "            (dropout): Dropout(p=0.1, inplace=False)\n",
       "            (lin1): Linear(in_features=768, out_features=3072, bias=True)\n",
       "            (lin2): Linear(in_features=3072, out_features=768, bias=True)\n",
       "            (activation): GELUActivation()\n",
       "          )\n",
       "          (output_layer_norm): LayerNorm((768,), eps=1e-12, elementwise_affine=True)\n",
       "        )\n",
       "      )\n",
       "    )\n",
       "  )\n",
       "  (pre_classifier): Linear(in_features=768, out_features=768, bias=True)\n",
       "  (classifier): Linear(in_features=768, out_features=3, bias=True)\n",
       "  (dropout): Dropout(p=0.2, inplace=False)\n",
       ")"
      ]
     },
     "execution_count": 51,
     "metadata": {},
     "output_type": "execute_result"
    }
   ],
   "source": [
    "# Load the model and tokenizer for classification\n",
    "model_name = f\"./models/{model_ckpt}_finetune\"\n",
    "model = DistilBertForSequenceClassification.from_pretrained(model_name)\n",
    "tokenizer = DistilBertTokenizer.from_pretrained(model_name)\n",
    "model.eval()\n"
   ]
  },
  {
   "cell_type": "code",
   "execution_count": 52,
   "metadata": {},
   "outputs": [],
   "source": [
    "def get_embeddings(texts, model, tokenizer):\n",
    "    # Tokenize the input texts\n",
    "    inputs = tokenizer(texts, return_tensors=\"pt\", padding=True, truncation=True)\n",
    "    # Pass inputs through the model to get hidden states\n",
    "    with torch.no_grad():\n",
    "        outputs = model(**inputs, output_hidden_states=True)\n",
    "    # Get the embeddings from the last hidden state\n",
    "    hidden_states = outputs.hidden_states[-1]\n",
    "    # Average the hidden states to get a single vector representation for each text\n",
    "    embeddings = hidden_states.mean(dim=1)\n",
    "    return embeddings\n"
   ]
  },
  {
   "cell_type": "code",
   "execution_count": 55,
   "metadata": {},
   "outputs": [],
   "source": [
    "# Extract texts from the dictionary\n",
    "texts = list(extracted_content.values())\n",
    "\n",
    "# Get embeddings for all documents\n",
    "embeddings = get_embeddings(texts, model, tokenizer)\n",
    "\n",
    "# Compute cosine similarity between all pairs of embeddings\n",
    "cosine_similarities = cosine_similarity(embeddings)\n",
    "\n",
    "# Convert cosine similarity matrix to a DataFrame\n",
    "doc_keys = list(extracted_content.keys())\n",
    "cosine_sim_df = pd.DataFrame(cosine_similarities, index=doc_keys, columns=doc_keys)\n"
   ]
  },
  {
   "cell_type": "code",
   "execution_count": 56,
   "metadata": {},
   "outputs": [
    {
     "data": {
      "text/html": [
       "<div>\n",
       "<style scoped>\n",
       "    .dataframe tbody tr th:only-of-type {\n",
       "        vertical-align: middle;\n",
       "    }\n",
       "\n",
       "    .dataframe tbody tr th {\n",
       "        vertical-align: top;\n",
       "    }\n",
       "\n",
       "    .dataframe thead th {\n",
       "        text-align: right;\n",
       "    }\n",
       "</style>\n",
       "<table border=\"1\" class=\"dataframe\">\n",
       "  <thead>\n",
       "    <tr style=\"text-align: right;\">\n",
       "      <th></th>\n",
       "      <th>34944_高鐵_促參.pdf</th>\n",
       "      <th>38005_核四_政策.pdf</th>\n",
       "      <th>39243_核四_品質.pdf</th>\n",
       "      <th>39477_核四_料件.pdf</th>\n",
       "      <th>46365_高鐵_基金.pdf</th>\n",
       "      <th>48052_大客車_逃生門.pdf</th>\n",
       "      <th>48746_大客車_安全門.pdf</th>\n",
       "      <th>49490_核四_延宕.pdf</th>\n",
       "      <th>49627_核四_停建.pdf</th>\n",
       "      <th>49676_大客車_駕照.pdf</th>\n",
       "      <th>52922_大客車_超時.pdf</th>\n",
       "      <th>54210_高鐵_出資.pdf</th>\n",
       "      <th>54376_高鐵_航發.pdf</th>\n",
       "      <th>54561_高鐵_機電.pdf</th>\n",
       "      <th>58930_核四_封存.pdf</th>\n",
       "    </tr>\n",
       "  </thead>\n",
       "  <tbody>\n",
       "    <tr>\n",
       "      <th>34944_高鐵_促參.pdf</th>\n",
       "      <td>1.000000</td>\n",
       "      <td>0.307448</td>\n",
       "      <td>0.968530</td>\n",
       "      <td>0.377248</td>\n",
       "      <td>0.943111</td>\n",
       "      <td>0.636608</td>\n",
       "      <td>0.498878</td>\n",
       "      <td>0.295658</td>\n",
       "      <td>0.343623</td>\n",
       "      <td>0.565957</td>\n",
       "      <td>0.551813</td>\n",
       "      <td>0.475684</td>\n",
       "      <td>0.521782</td>\n",
       "      <td>0.921647</td>\n",
       "      <td>0.488265</td>\n",
       "    </tr>\n",
       "    <tr>\n",
       "      <th>38005_核四_政策.pdf</th>\n",
       "      <td>0.307448</td>\n",
       "      <td>1.000000</td>\n",
       "      <td>0.301577</td>\n",
       "      <td>0.969869</td>\n",
       "      <td>0.196281</td>\n",
       "      <td>0.257655</td>\n",
       "      <td>0.503576</td>\n",
       "      <td>0.979706</td>\n",
       "      <td>0.986909</td>\n",
       "      <td>0.468108</td>\n",
       "      <td>0.554060</td>\n",
       "      <td>0.793711</td>\n",
       "      <td>0.882518</td>\n",
       "      <td>0.111021</td>\n",
       "      <td>0.922554</td>\n",
       "    </tr>\n",
       "    <tr>\n",
       "      <th>39243_核四_品質.pdf</th>\n",
       "      <td>0.968530</td>\n",
       "      <td>0.301577</td>\n",
       "      <td>1.000000</td>\n",
       "      <td>0.374225</td>\n",
       "      <td>0.951338</td>\n",
       "      <td>0.693962</td>\n",
       "      <td>0.513200</td>\n",
       "      <td>0.276348</td>\n",
       "      <td>0.336366</td>\n",
       "      <td>0.591662</td>\n",
       "      <td>0.581974</td>\n",
       "      <td>0.468571</td>\n",
       "      <td>0.526780</td>\n",
       "      <td>0.946012</td>\n",
       "      <td>0.497873</td>\n",
       "    </tr>\n",
       "    <tr>\n",
       "      <th>39477_核四_料件.pdf</th>\n",
       "      <td>0.377248</td>\n",
       "      <td>0.969869</td>\n",
       "      <td>0.374225</td>\n",
       "      <td>1.000000</td>\n",
       "      <td>0.259495</td>\n",
       "      <td>0.377033</td>\n",
       "      <td>0.607072</td>\n",
       "      <td>0.956238</td>\n",
       "      <td>0.981471</td>\n",
       "      <td>0.576461</td>\n",
       "      <td>0.666043</td>\n",
       "      <td>0.855767</td>\n",
       "      <td>0.931690</td>\n",
       "      <td>0.178574</td>\n",
       "      <td>0.951086</td>\n",
       "    </tr>\n",
       "    <tr>\n",
       "      <th>46365_高鐵_基金.pdf</th>\n",
       "      <td>0.943111</td>\n",
       "      <td>0.196281</td>\n",
       "      <td>0.951338</td>\n",
       "      <td>0.259495</td>\n",
       "      <td>1.000000</td>\n",
       "      <td>0.591172</td>\n",
       "      <td>0.389930</td>\n",
       "      <td>0.184293</td>\n",
       "      <td>0.227988</td>\n",
       "      <td>0.461557</td>\n",
       "      <td>0.445688</td>\n",
       "      <td>0.351613</td>\n",
       "      <td>0.410240</td>\n",
       "      <td>0.971414</td>\n",
       "      <td>0.384899</td>\n",
       "    </tr>\n",
       "    <tr>\n",
       "      <th>48052_大客車_逃生門.pdf</th>\n",
       "      <td>0.636608</td>\n",
       "      <td>0.257655</td>\n",
       "      <td>0.693962</td>\n",
       "      <td>0.377033</td>\n",
       "      <td>0.591172</td>\n",
       "      <td>1.000000</td>\n",
       "      <td>0.834267</td>\n",
       "      <td>0.204211</td>\n",
       "      <td>0.292695</td>\n",
       "      <td>0.887424</td>\n",
       "      <td>0.860195</td>\n",
       "      <td>0.550485</td>\n",
       "      <td>0.551045</td>\n",
       "      <td>0.614821</td>\n",
       "      <td>0.429632</td>\n",
       "    </tr>\n",
       "    <tr>\n",
       "      <th>48746_大客車_安全門.pdf</th>\n",
       "      <td>0.498878</td>\n",
       "      <td>0.503576</td>\n",
       "      <td>0.513200</td>\n",
       "      <td>0.607072</td>\n",
       "      <td>0.389930</td>\n",
       "      <td>0.834267</td>\n",
       "      <td>1.000000</td>\n",
       "      <td>0.461741</td>\n",
       "      <td>0.539070</td>\n",
       "      <td>0.969393</td>\n",
       "      <td>0.948794</td>\n",
       "      <td>0.812539</td>\n",
       "      <td>0.740494</td>\n",
       "      <td>0.367981</td>\n",
       "      <td>0.609379</td>\n",
       "    </tr>\n",
       "    <tr>\n",
       "      <th>49490_核四_延宕.pdf</th>\n",
       "      <td>0.295658</td>\n",
       "      <td>0.979706</td>\n",
       "      <td>0.276348</td>\n",
       "      <td>0.956238</td>\n",
       "      <td>0.184293</td>\n",
       "      <td>0.204211</td>\n",
       "      <td>0.461741</td>\n",
       "      <td>1.000000</td>\n",
       "      <td>0.981976</td>\n",
       "      <td>0.421180</td>\n",
       "      <td>0.505510</td>\n",
       "      <td>0.766209</td>\n",
       "      <td>0.853590</td>\n",
       "      <td>0.092226</td>\n",
       "      <td>0.906834</td>\n",
       "    </tr>\n",
       "    <tr>\n",
       "      <th>49627_核四_停建.pdf</th>\n",
       "      <td>0.343623</td>\n",
       "      <td>0.986909</td>\n",
       "      <td>0.336366</td>\n",
       "      <td>0.981471</td>\n",
       "      <td>0.227988</td>\n",
       "      <td>0.292695</td>\n",
       "      <td>0.539070</td>\n",
       "      <td>0.981976</td>\n",
       "      <td>1.000000</td>\n",
       "      <td>0.502697</td>\n",
       "      <td>0.587410</td>\n",
       "      <td>0.822301</td>\n",
       "      <td>0.911249</td>\n",
       "      <td>0.141063</td>\n",
       "      <td>0.948334</td>\n",
       "    </tr>\n",
       "    <tr>\n",
       "      <th>49676_大客車_駕照.pdf</th>\n",
       "      <td>0.565957</td>\n",
       "      <td>0.468108</td>\n",
       "      <td>0.591662</td>\n",
       "      <td>0.576461</td>\n",
       "      <td>0.461557</td>\n",
       "      <td>0.887424</td>\n",
       "      <td>0.969393</td>\n",
       "      <td>0.421180</td>\n",
       "      <td>0.502697</td>\n",
       "      <td>1.000000</td>\n",
       "      <td>0.961105</td>\n",
       "      <td>0.753468</td>\n",
       "      <td>0.719094</td>\n",
       "      <td>0.455117</td>\n",
       "      <td>0.593920</td>\n",
       "    </tr>\n",
       "    <tr>\n",
       "      <th>52922_大客車_超時.pdf</th>\n",
       "      <td>0.551813</td>\n",
       "      <td>0.554060</td>\n",
       "      <td>0.581974</td>\n",
       "      <td>0.666043</td>\n",
       "      <td>0.445688</td>\n",
       "      <td>0.860195</td>\n",
       "      <td>0.948794</td>\n",
       "      <td>0.505510</td>\n",
       "      <td>0.587410</td>\n",
       "      <td>0.961105</td>\n",
       "      <td>1.000000</td>\n",
       "      <td>0.831941</td>\n",
       "      <td>0.797276</td>\n",
       "      <td>0.424013</td>\n",
       "      <td>0.677468</td>\n",
       "    </tr>\n",
       "    <tr>\n",
       "      <th>54210_高鐵_出資.pdf</th>\n",
       "      <td>0.475684</td>\n",
       "      <td>0.793711</td>\n",
       "      <td>0.468571</td>\n",
       "      <td>0.855767</td>\n",
       "      <td>0.351613</td>\n",
       "      <td>0.550485</td>\n",
       "      <td>0.812539</td>\n",
       "      <td>0.766209</td>\n",
       "      <td>0.822301</td>\n",
       "      <td>0.753468</td>\n",
       "      <td>0.831941</td>\n",
       "      <td>1.000000</td>\n",
       "      <td>0.913352</td>\n",
       "      <td>0.278485</td>\n",
       "      <td>0.843521</td>\n",
       "    </tr>\n",
       "    <tr>\n",
       "      <th>54376_高鐵_航發.pdf</th>\n",
       "      <td>0.521782</td>\n",
       "      <td>0.882518</td>\n",
       "      <td>0.526780</td>\n",
       "      <td>0.931690</td>\n",
       "      <td>0.410240</td>\n",
       "      <td>0.551045</td>\n",
       "      <td>0.740494</td>\n",
       "      <td>0.853590</td>\n",
       "      <td>0.911249</td>\n",
       "      <td>0.719094</td>\n",
       "      <td>0.797276</td>\n",
       "      <td>0.913352</td>\n",
       "      <td>1.000000</td>\n",
       "      <td>0.329598</td>\n",
       "      <td>0.963519</td>\n",
       "    </tr>\n",
       "    <tr>\n",
       "      <th>54561_高鐵_機電.pdf</th>\n",
       "      <td>0.921647</td>\n",
       "      <td>0.111021</td>\n",
       "      <td>0.946012</td>\n",
       "      <td>0.178574</td>\n",
       "      <td>0.971414</td>\n",
       "      <td>0.614821</td>\n",
       "      <td>0.367981</td>\n",
       "      <td>0.092226</td>\n",
       "      <td>0.141063</td>\n",
       "      <td>0.455117</td>\n",
       "      <td>0.424013</td>\n",
       "      <td>0.278485</td>\n",
       "      <td>0.329598</td>\n",
       "      <td>1.000000</td>\n",
       "      <td>0.303653</td>\n",
       "    </tr>\n",
       "    <tr>\n",
       "      <th>58930_核四_封存.pdf</th>\n",
       "      <td>0.488265</td>\n",
       "      <td>0.922554</td>\n",
       "      <td>0.497873</td>\n",
       "      <td>0.951086</td>\n",
       "      <td>0.384899</td>\n",
       "      <td>0.429632</td>\n",
       "      <td>0.609379</td>\n",
       "      <td>0.906834</td>\n",
       "      <td>0.948334</td>\n",
       "      <td>0.593920</td>\n",
       "      <td>0.677468</td>\n",
       "      <td>0.843521</td>\n",
       "      <td>0.963519</td>\n",
       "      <td>0.303653</td>\n",
       "      <td>1.000000</td>\n",
       "    </tr>\n",
       "  </tbody>\n",
       "</table>\n",
       "</div>"
      ],
      "text/plain": [
       "                   34944_高鐵_促參.pdf  38005_核四_政策.pdf  39243_核四_品質.pdf  \\\n",
       "34944_高鐵_促參.pdf           1.000000         0.307448         0.968530   \n",
       "38005_核四_政策.pdf           0.307448         1.000000         0.301577   \n",
       "39243_核四_品質.pdf           0.968530         0.301577         1.000000   \n",
       "39477_核四_料件.pdf           0.377248         0.969869         0.374225   \n",
       "46365_高鐵_基金.pdf           0.943111         0.196281         0.951338   \n",
       "48052_大客車_逃生門.pdf         0.636608         0.257655         0.693962   \n",
       "48746_大客車_安全門.pdf         0.498878         0.503576         0.513200   \n",
       "49490_核四_延宕.pdf           0.295658         0.979706         0.276348   \n",
       "49627_核四_停建.pdf           0.343623         0.986909         0.336366   \n",
       "49676_大客車_駕照.pdf          0.565957         0.468108         0.591662   \n",
       "52922_大客車_超時.pdf          0.551813         0.554060         0.581974   \n",
       "54210_高鐵_出資.pdf           0.475684         0.793711         0.468571   \n",
       "54376_高鐵_航發.pdf           0.521782         0.882518         0.526780   \n",
       "54561_高鐵_機電.pdf           0.921647         0.111021         0.946012   \n",
       "58930_核四_封存.pdf           0.488265         0.922554         0.497873   \n",
       "\n",
       "                   39477_核四_料件.pdf  46365_高鐵_基金.pdf  48052_大客車_逃生門.pdf  \\\n",
       "34944_高鐵_促參.pdf           0.377248         0.943111           0.636608   \n",
       "38005_核四_政策.pdf           0.969869         0.196281           0.257655   \n",
       "39243_核四_品質.pdf           0.374225         0.951338           0.693962   \n",
       "39477_核四_料件.pdf           1.000000         0.259495           0.377033   \n",
       "46365_高鐵_基金.pdf           0.259495         1.000000           0.591172   \n",
       "48052_大客車_逃生門.pdf         0.377033         0.591172           1.000000   \n",
       "48746_大客車_安全門.pdf         0.607072         0.389930           0.834267   \n",
       "49490_核四_延宕.pdf           0.956238         0.184293           0.204211   \n",
       "49627_核四_停建.pdf           0.981471         0.227988           0.292695   \n",
       "49676_大客車_駕照.pdf          0.576461         0.461557           0.887424   \n",
       "52922_大客車_超時.pdf          0.666043         0.445688           0.860195   \n",
       "54210_高鐵_出資.pdf           0.855767         0.351613           0.550485   \n",
       "54376_高鐵_航發.pdf           0.931690         0.410240           0.551045   \n",
       "54561_高鐵_機電.pdf           0.178574         0.971414           0.614821   \n",
       "58930_核四_封存.pdf           0.951086         0.384899           0.429632   \n",
       "\n",
       "                   48746_大客車_安全門.pdf  49490_核四_延宕.pdf  49627_核四_停建.pdf  \\\n",
       "34944_高鐵_促參.pdf             0.498878         0.295658         0.343623   \n",
       "38005_核四_政策.pdf             0.503576         0.979706         0.986909   \n",
       "39243_核四_品質.pdf             0.513200         0.276348         0.336366   \n",
       "39477_核四_料件.pdf             0.607072         0.956238         0.981471   \n",
       "46365_高鐵_基金.pdf             0.389930         0.184293         0.227988   \n",
       "48052_大客車_逃生門.pdf           0.834267         0.204211         0.292695   \n",
       "48746_大客車_安全門.pdf           1.000000         0.461741         0.539070   \n",
       "49490_核四_延宕.pdf             0.461741         1.000000         0.981976   \n",
       "49627_核四_停建.pdf             0.539070         0.981976         1.000000   \n",
       "49676_大客車_駕照.pdf            0.969393         0.421180         0.502697   \n",
       "52922_大客車_超時.pdf            0.948794         0.505510         0.587410   \n",
       "54210_高鐵_出資.pdf             0.812539         0.766209         0.822301   \n",
       "54376_高鐵_航發.pdf             0.740494         0.853590         0.911249   \n",
       "54561_高鐵_機電.pdf             0.367981         0.092226         0.141063   \n",
       "58930_核四_封存.pdf             0.609379         0.906834         0.948334   \n",
       "\n",
       "                   49676_大客車_駕照.pdf  52922_大客車_超時.pdf  54210_高鐵_出資.pdf  \\\n",
       "34944_高鐵_促參.pdf            0.565957          0.551813         0.475684   \n",
       "38005_核四_政策.pdf            0.468108          0.554060         0.793711   \n",
       "39243_核四_品質.pdf            0.591662          0.581974         0.468571   \n",
       "39477_核四_料件.pdf            0.576461          0.666043         0.855767   \n",
       "46365_高鐵_基金.pdf            0.461557          0.445688         0.351613   \n",
       "48052_大客車_逃生門.pdf          0.887424          0.860195         0.550485   \n",
       "48746_大客車_安全門.pdf          0.969393          0.948794         0.812539   \n",
       "49490_核四_延宕.pdf            0.421180          0.505510         0.766209   \n",
       "49627_核四_停建.pdf            0.502697          0.587410         0.822301   \n",
       "49676_大客車_駕照.pdf           1.000000          0.961105         0.753468   \n",
       "52922_大客車_超時.pdf           0.961105          1.000000         0.831941   \n",
       "54210_高鐵_出資.pdf            0.753468          0.831941         1.000000   \n",
       "54376_高鐵_航發.pdf            0.719094          0.797276         0.913352   \n",
       "54561_高鐵_機電.pdf            0.455117          0.424013         0.278485   \n",
       "58930_核四_封存.pdf            0.593920          0.677468         0.843521   \n",
       "\n",
       "                   54376_高鐵_航發.pdf  54561_高鐵_機電.pdf  58930_核四_封存.pdf  \n",
       "34944_高鐵_促參.pdf           0.521782         0.921647         0.488265  \n",
       "38005_核四_政策.pdf           0.882518         0.111021         0.922554  \n",
       "39243_核四_品質.pdf           0.526780         0.946012         0.497873  \n",
       "39477_核四_料件.pdf           0.931690         0.178574         0.951086  \n",
       "46365_高鐵_基金.pdf           0.410240         0.971414         0.384899  \n",
       "48052_大客車_逃生門.pdf         0.551045         0.614821         0.429632  \n",
       "48746_大客車_安全門.pdf         0.740494         0.367981         0.609379  \n",
       "49490_核四_延宕.pdf           0.853590         0.092226         0.906834  \n",
       "49627_核四_停建.pdf           0.911249         0.141063         0.948334  \n",
       "49676_大客車_駕照.pdf          0.719094         0.455117         0.593920  \n",
       "52922_大客車_超時.pdf          0.797276         0.424013         0.677468  \n",
       "54210_高鐵_出資.pdf           0.913352         0.278485         0.843521  \n",
       "54376_高鐵_航發.pdf           1.000000         0.329598         0.963519  \n",
       "54561_高鐵_機電.pdf           0.329598         1.000000         0.303653  \n",
       "58930_核四_封存.pdf           0.963519         0.303653         1.000000  "
      ]
     },
     "execution_count": 56,
     "metadata": {},
     "output_type": "execute_result"
    }
   ],
   "source": [
    "cosine_sim_df"
   ]
  },
  {
   "cell_type": "code",
   "execution_count": 58,
   "metadata": {},
   "outputs": [
    {
     "data": {
      "text/plain": [
       "58930_核四_封存.pdf      1.000000\n",
       "54376_高鐵_航發.pdf      0.963519\n",
       "39477_核四_料件.pdf      0.951086\n",
       "49627_核四_停建.pdf      0.948334\n",
       "38005_核四_政策.pdf      0.922554\n",
       "49490_核四_延宕.pdf      0.906834\n",
       "54210_高鐵_出資.pdf      0.843521\n",
       "52922_大客車_超時.pdf     0.677468\n",
       "48746_大客車_安全門.pdf    0.609379\n",
       "49676_大客車_駕照.pdf     0.593920\n",
       "39243_核四_品質.pdf      0.497873\n",
       "34944_高鐵_促參.pdf      0.488265\n",
       "48052_大客車_逃生門.pdf    0.429632\n",
       "46365_高鐵_基金.pdf      0.384899\n",
       "54561_高鐵_機電.pdf      0.303653\n",
       "Name: 58930_核四_封存.pdf, dtype: float32"
      ]
     },
     "execution_count": 58,
     "metadata": {},
     "output_type": "execute_result"
    }
   ],
   "source": [
    "cosine_sim_df['58930_核四_封存.pdf'].sort_values(ascending=False)"
   ]
  },
  {
   "cell_type": "code",
   "execution_count": 57,
   "metadata": {},
   "outputs": [
    {
     "data": {
      "text/plain": [
       "52922_大客車_超時.pdf     1.000000\n",
       "49676_大客車_駕照.pdf     0.961105\n",
       "48746_大客車_安全門.pdf    0.948794\n",
       "48052_大客車_逃生門.pdf    0.860195\n",
       "54210_高鐵_出資.pdf      0.831941\n",
       "54376_高鐵_航發.pdf      0.797276\n",
       "58930_核四_封存.pdf      0.677468\n",
       "39477_核四_料件.pdf      0.666043\n",
       "49627_核四_停建.pdf      0.587410\n",
       "39243_核四_品質.pdf      0.581974\n",
       "38005_核四_政策.pdf      0.554060\n",
       "34944_高鐵_促參.pdf      0.551813\n",
       "49490_核四_延宕.pdf      0.505510\n",
       "46365_高鐵_基金.pdf      0.445688\n",
       "54561_高鐵_機電.pdf      0.424013\n",
       "Name: 52922_大客車_超時.pdf, dtype: float32"
      ]
     },
     "execution_count": 57,
     "metadata": {},
     "output_type": "execute_result"
    }
   ],
   "source": [
    "cosine_sim_df['52922_大客車_超時.pdf'].sort_values(ascending=False)"
   ]
  },
  {
   "cell_type": "code",
   "execution_count": 59,
   "metadata": {},
   "outputs": [
    {
     "data": {
      "text/plain": [
       "54210_高鐵_出資.pdf      1.000000\n",
       "54376_高鐵_航發.pdf      0.913352\n",
       "39477_核四_料件.pdf      0.855767\n",
       "58930_核四_封存.pdf      0.843521\n",
       "52922_大客車_超時.pdf     0.831941\n",
       "49627_核四_停建.pdf      0.822301\n",
       "48746_大客車_安全門.pdf    0.812539\n",
       "38005_核四_政策.pdf      0.793711\n",
       "49490_核四_延宕.pdf      0.766209\n",
       "49676_大客車_駕照.pdf     0.753468\n",
       "48052_大客車_逃生門.pdf    0.550485\n",
       "34944_高鐵_促參.pdf      0.475684\n",
       "39243_核四_品質.pdf      0.468571\n",
       "46365_高鐵_基金.pdf      0.351613\n",
       "54561_高鐵_機電.pdf      0.278485\n",
       "Name: 54210_高鐵_出資.pdf, dtype: float32"
      ]
     },
     "execution_count": 59,
     "metadata": {},
     "output_type": "execute_result"
    }
   ],
   "source": [
    "cosine_sim_df['54210_高鐵_出資.pdf'].sort_values(ascending=False)"
   ]
  },
  {
   "cell_type": "code",
   "execution_count": 60,
   "metadata": {},
   "outputs": [
    {
     "data": {
      "text/plain": [
       "54376_高鐵_航發.pdf      1.000000\n",
       "58930_核四_封存.pdf      0.963519\n",
       "39477_核四_料件.pdf      0.931690\n",
       "54210_高鐵_出資.pdf      0.913352\n",
       "49627_核四_停建.pdf      0.911249\n",
       "38005_核四_政策.pdf      0.882518\n",
       "49490_核四_延宕.pdf      0.853590\n",
       "52922_大客車_超時.pdf     0.797276\n",
       "48746_大客車_安全門.pdf    0.740494\n",
       "49676_大客車_駕照.pdf     0.719094\n",
       "48052_大客車_逃生門.pdf    0.551045\n",
       "39243_核四_品質.pdf      0.526780\n",
       "34944_高鐵_促參.pdf      0.521782\n",
       "46365_高鐵_基金.pdf      0.410240\n",
       "54561_高鐵_機電.pdf      0.329598\n",
       "Name: 54376_高鐵_航發.pdf, dtype: float32"
      ]
     },
     "execution_count": 60,
     "metadata": {},
     "output_type": "execute_result"
    }
   ],
   "source": [
    "cosine_sim_df['54376_高鐵_航發.pdf'].sort_values(ascending=False)"
   ]
  }
 ],
 "metadata": {
  "kernelspec": {
   "display_name": "supervisor_llm",
   "language": "python",
   "name": "python3"
  },
  "language_info": {
   "codemirror_mode": {
    "name": "ipython",
    "version": 3
   },
   "file_extension": ".py",
   "mimetype": "text/x-python",
   "name": "python",
   "nbconvert_exporter": "python",
   "pygments_lexer": "ipython3",
   "version": "3.10.14"
  }
 },
 "nbformat": 4,
 "nbformat_minor": 2
}
