{
 "cells": [
  {
   "cell_type": "code",
   "execution_count": 39,
   "metadata": {},
   "outputs": [],
   "source": [
    "import json\n",
    "import jieba\n",
    "from src.FastTextRank4Word import FastTextRank4Word\n",
    "from src.FastTextRank4Sentence import FastTextRank4Sentence\n",
    "from sklearn.feature_extraction.text import CountVectorizer\n",
    "from sklearn.metrics.pairwise import cosine_similarity\n",
    "from langchain_community.embeddings import GPT4AllEmbeddings\n",
    "from neo4j import GraphDatabase"
   ]
  },
  {
   "cell_type": "code",
   "execution_count": 2,
   "metadata": {},
   "outputs": [],
   "source": [
    "stopwords = set()\n",
    "with open('dict/stopwords.txt', 'r', encoding=\"utf8\") as file:\n",
    "    stopwords = file.readlines()\n",
    "    stopwords = [stopword.strip('\\n').strip() for stopword in stopwords]\n",
    "except_file = open(\"dict/hippo_exception_word.txt\", encoding='utf-8')\n",
    "exception = except_file.read().split(',')\n",
    "exception.append(\" \")"
   ]
  },
  {
   "cell_type": "code",
   "execution_count": 3,
   "metadata": {},
   "outputs": [],
   "source": [
    "def normalize_document(text, stopwords, exception):\n",
    "    punct = set(u''':!),.:;?]}$¢'\"、。〉》」』】〕〗〞︰︱︳﹐､﹒﹔﹕﹖﹗﹚﹜﹞！），．：；？｜｝︴︶︸︺︼︾﹀﹂﹄﹏､～￠々‖•·ˇˉ―--′’”([{£¥'\"‵〈《「『【〔〖（［｛￡￥〝︵︷︹︻︽︿﹁﹃﹙﹛﹝（｛“‘-—_…''')\n",
    "    punct |= set(exception)\n",
    "    words = [word for word in jieba.cut(text, cut_all=True) if (len(word.strip()) >= 2) and (word not in stopwords) and ( not any(ext in word for ext in punct) )]\n",
    "    return \" \".join(words)"
   ]
  },
  {
   "cell_type": "code",
   "execution_count": 4,
   "metadata": {},
   "outputs": [
    {
     "name": "stderr",
     "output_type": "stream",
     "text": [
      "Building prefix dict from c:\\Users\\sean.chang\\yfy\\creative_corner\\Supervisor_llm\\dict\\dict.big.txt ...\n",
      "Loading model from cache C:\\Users\\SEAN~1.CHA\\AppData\\Local\\Temp\\jieba.u5cd32b1f7ee506be41af6ed3342ccc1e.cache\n"
     ]
    },
    {
     "name": "stderr",
     "output_type": "stream",
     "text": [
      "Loading model cost 0.831 seconds.\n",
      "Prefix dict has been built successfully.\n"
     ]
    }
   ],
   "source": [
    "jieba.initialize()\n",
    "jieba.set_dictionary('dict/dict.big.txt')\n",
    "jieba.load_userdict('dict/mydic.txt')\n",
    "stops = ()\n",
    "with open('dict/stopwords.txt', 'r', encoding='utf8') as f:\n",
    "    stops = f.read().split('\\n') "
   ]
  },
  {
   "cell_type": "code",
   "execution_count": 5,
   "metadata": {},
   "outputs": [],
   "source": [
    "# query\n",
    "query = \"被糾正機關是行政院原住民族委員會及花蓮縣政府\""
   ]
  },
  {
   "cell_type": "code",
   "execution_count": 6,
   "metadata": {},
   "outputs": [
    {
     "data": {
      "text/plain": [
       "['花蓮縣政府', '原住民族委員會', '行政院']"
      ]
     },
     "execution_count": 6,
     "metadata": {},
     "output_type": "execute_result"
    }
   ],
   "source": [
    "query_extraction_model = FastTextRank4Word(tol=0.0001, window=5)\n",
    "query_extraction = [query_extraction_model.summarize(query, 5)][0]\n",
    "query_extraction"
   ]
  },
  {
   "cell_type": "markdown",
   "metadata": {},
   "source": [
    "-  Why do I set jieba_load_userdict works when using FastTextRank4Word??"
   ]
  },
  {
   "cell_type": "code",
   "execution_count": 31,
   "metadata": {},
   "outputs": [],
   "source": [
    "with open('organized_final_result.txt', 'r', encoding='utf-8') as text_file:\n",
    "    data = json.load(text_file)"
   ]
  },
  {
   "cell_type": "code",
   "execution_count": 34,
   "metadata": {},
   "outputs": [],
   "source": [
    "data_kw = eval(data['34829.pdf']['metadata']['kw'])\n",
    "target = data['34829.pdf']['target']\n",
    "knowledge_graph = data['34829.pdf']['knowledge_graph']"
   ]
  },
  {
   "cell_type": "code",
   "execution_count": 33,
   "metadata": {},
   "outputs": [
    {
     "data": {
      "text/plain": [
       "['政府', '行政院', '案件', '原住民', '計畫', '漁探機', '本院', '行政效率', '部落', '未能']"
      ]
     },
     "execution_count": 33,
     "metadata": {},
     "output_type": "execute_result"
    }
   ],
   "source": [
    "data_kw"
   ]
  },
  {
   "cell_type": "code",
   "execution_count": 38,
   "metadata": {},
   "outputs": [
    {
     "data": {
      "text/plain": [
       "[{'entity1': '立法委員', 'relationship': '函轉', 'entity2': '民眾陳訴'},\n",
       " {'entity1': '行政院原住民族委員會', 'relationship': '補助', 'entity2': '花蓮區漁會'},\n",
       " {'entity1': '花蓮區漁會',\n",
       "  'relationship': '採購',\n",
       "  'entity2': '「三機一體彩色漁探衛星導航電子海圖儀及船用ＤＳＢ無線電對講機」'},\n",
       " {'entity1': '行政院原住民族委員會', 'relationship': '監督', 'entity2': '花蓮區漁會'},\n",
       " {'entity1': '花蓮縣政府', 'relationship': '監督', 'entity2': '花蓮區漁會'}]"
      ]
     },
     "execution_count": 38,
     "metadata": {},
     "output_type": "execute_result"
    }
   ],
   "source": [
    "knowledge_graph"
   ]
  },
  {
   "cell_type": "code",
   "execution_count": 21,
   "metadata": {},
   "outputs": [],
   "source": [
    "embedding_model = \"gpt4all-falcon-newbpe-q4_0.gguf\"\n",
    "embedder = GPT4AllEmbeddings(embedding_model=embedding_model)\n",
    "embedded_query = embedder.embed_query(query)\n",
    "embedded_target = embedder.embed_query(target)\n",
    "embedded_kw = embedder.embed_documents(data_kw)"
   ]
  },
  {
   "cell_type": "code",
   "execution_count": 15,
   "metadata": {},
   "outputs": [
    {
     "data": {
      "text/plain": [
       "0.9753698810140833"
      ]
     },
     "execution_count": 15,
     "metadata": {},
     "output_type": "execute_result"
    }
   ],
   "source": [
    "# query_target similarity\n",
    "cosine_similarity([embedded_target, embedded_query])[0][1]"
   ]
  },
  {
   "cell_type": "code",
   "execution_count": 42,
   "metadata": {},
   "outputs": [],
   "source": [
    "# query_kw similairy\n",
    "def kw_similarity(embedded_query, embedded_kw, kw_threshold):\n",
    "    count = 0\n",
    "    # kw_query_list=  []\n",
    "    for i in embedded_kw:\n",
    "        sim_value = cosine_similarity([i, embedded_query])[0][1]\n",
    "        # kw_query_list.append(sim_value)\n",
    "        if sim_value > kw_threshold:\n",
    "            count += 1\n",
    "\n",
    "    similarity = count / len(embedded_kw)\n",
    "    return similarity"
   ]
  },
  {
   "cell_type": "code",
   "execution_count": 43,
   "metadata": {},
   "outputs": [
    {
     "data": {
      "text/plain": [
       "0.2"
      ]
     },
     "execution_count": 43,
     "metadata": {},
     "output_type": "execute_result"
    }
   ],
   "source": [
    "similarity= kw_similarity(embedded_query, embedded_kw, kw_threshold=0.7)\n",
    "similarity"
   ]
  },
  {
   "cell_type": "code",
   "execution_count": 86,
   "metadata": {},
   "outputs": [],
   "source": [
    "URI = \"bolt://localhost:7688\"\n",
    "user = 'neo4j'\n",
    "password = \"!QAZ2wsx\"\n",
    "AUTH = (user, password)\n",
    "\n",
    "with GraphDatabase.driver(URI, auth=AUTH, encrypted=False) as driver:\n",
    "    driver.verify_connectivity()"
   ]
  },
  {
   "cell_type": "code",
   "execution_count": 49,
   "metadata": {},
   "outputs": [],
   "source": [
    "def create_relationships(tx, data):\n",
    "    for item in data:\n",
    "        tx.run(\"MERGE (a:Entity {name: $entity1}) \"\n",
    "               \"MERGE (b:Entity {name: $entity2}) \"\n",
    "               \"MERGE (a)-[{type: $relationship}]->(b)\",\n",
    "               entity1=item[\"entity1\"], relationship=item[\"relationship\"], entity2=item[\"entity2\"])"
   ]
  },
  {
   "cell_type": "code",
   "execution_count": 127,
   "metadata": {},
   "outputs": [],
   "source": [
    "class Neo4jHandler:\n",
    "\n",
    "    def __init__(self, uri, user, password):\n",
    "        self.driver = GraphDatabase.driver(uri, auth=(user, password))\n",
    "\n",
    "    def close(self):\n",
    "        self.driver.close()\n",
    "\n",
    "    def insert_relationship(self, entity1, relationship, entity2):\n",
    "        with self.driver.session() as session:\n",
    "            session.write_transaction(self._create_and_return_relationship, entity1, relationship, entity2)\n",
    "\n",
    "    @staticmethod\n",
    "    def _create_and_return_relationship(tx, entity1, relationship, entity2):\n",
    "        query = (\n",
    "            \"MERGE (a:Entity {name: $entity1}) \"\n",
    "            \"MERGE (b:Entity {name: $entity2}) \"\n",
    "             f\"MERGE (a)-[r:{relationship}]->(b) \"\n",
    "            \"RETURN a, b, r\"\n",
    "        )\n",
    "        tx.run(query, entity1=entity1, relationship=relationship, entity2=entity2)\n",
    "\n",
    "    @staticmethod\n",
    "    def _fetch_node_rela(tx):\n",
    "        query = \"\"\"\n",
    "        MATCH (n:Entity)-[r]->(m:Entity)\n",
    "        RETURN n.name AS source, type(r) AS relationship, m.name AS target\n",
    "        \"\"\"\n",
    "        result = tx.run(query)\n",
    "        for record in result:\n",
    "            print(f\"{record['source']} {record['relationship']} {record['target']}\")\n",
    "\n",
    "    def fetch_all_data(self):\n",
    "        with GraphDatabase.driver(uri=URI, auth=(\"neo4j\", \"neo4j\")) as driver:\n",
    "            with driver.session() as session:\n",
    "                session.read_transaction(self._fetch_node_rela)\n",
    "\n",
    "        "
   ]
  },
  {
   "cell_type": "code",
   "execution_count": 128,
   "metadata": {},
   "outputs": [],
   "source": [
    "handler = Neo4jHandler(URI, user, password)"
   ]
  },
  {
   "cell_type": "code",
   "execution_count": 76,
   "metadata": {},
   "outputs": [
    {
     "name": "stdout",
     "output_type": "stream",
     "text": [
      "{'entity1': '立法委員', 'relationship': '函轉', 'entity2': '民眾陳訴'}\n",
      "{'entity1': '行政院原住民族委員會', 'relationship': '補助', 'entity2': '花蓮區漁會'}\n",
      "{'entity1': '花蓮區漁會', 'relationship': '採購', 'entity2': '「三機一體彩色漁探衛星導航電子海圖儀及船用ＤＳＢ無線電對講機」'}\n",
      "{'entity1': '行政院原住民族委員會', 'relationship': '監督', 'entity2': '花蓮區漁會'}\n",
      "{'entity1': '花蓮縣政府', 'relationship': '監督', 'entity2': '花蓮區漁會'}\n"
     ]
    }
   ],
   "source": [
    "for sublist in data['34829.pdf']['knowledge_graph']:\n",
    "    print(sublist)\n",
    "    # for item in sublist:"
   ]
  },
  {
   "cell_type": "code",
   "execution_count": 125,
   "metadata": {},
   "outputs": [
    {
     "name": "stderr",
     "output_type": "stream",
     "text": [
      "C:\\Users\\sean.chang\\AppData\\Local\\Temp\\ipykernel_26068\\3821333987.py:11: DeprecationWarning: write_transaction has been renamed to execute_write\n",
      "  session.write_transaction(self._create_and_return_relationship, entity1, relationship, entity2)\n"
     ]
    }
   ],
   "source": [
    "for key, value in data.items():\n",
    "    filename = key\n",
    "    knowledge_graph = value['knowledge_graph']\n",
    "    for item in knowledge_graph:\n",
    "        handler.insert_relationship(item['entity1'], item['relationship'], item['entity2'])"
   ]
  },
  {
   "cell_type": "code",
   "execution_count": 129,
   "metadata": {},
   "outputs": [
    {
     "name": "stdout",
     "output_type": "stream",
     "text": [
      "立法委員 函轉 民眾陳訴\n",
      "行政院原住民族委員會 補助 花蓮區漁會\n",
      "花蓮區漁會 採購 「三機一體彩色漁探衛星導航電子海圖儀及船用ＤＳＢ無線電對講機」\n",
      "行政院原住民族委員會 監督 花蓮區漁會\n",
      "花蓮縣政府 監督 花蓮區漁會\n",
      "立法委員 制定 法律\n",
      "研究主持人 接受 政府委託研究計畫\n",
      "衛生署 補助 國立台灣師範大學\n",
      "衛生署人員 出國 國外\n",
      "公教人員 申請 出國審核\n",
      "環保署 規定 主管機關\n",
      "主管機關 查核 清除機構\n",
      "清除機構 勾稽比對 主管機關\n",
      "環保署 提出書面資料 本院\n",
      "各級主管機關 針對 清除機構申報之營運紀錄\n",
      "台北榮總 誤解規定 相關法令\n",
      "台北榮總 提升資格 廠商投標資格\n",
      "台北榮總 延長工期 停車場工程\n",
      "台北榮總 未遵照工期 評輝營造公司\n",
      "評輝營造公司 建議工期 七二〇天\n",
      "退輔會 通函規定 各榮家\n",
      "受訪單位 擇定 SBR-CASS\n",
      "行政院環境保護署 函覆 退輔會\n",
      "退輔會 發包 桃園榮家\n",
      "桃園榮家 辦理 污水處理廠工程\n",
      "教育部 辦理 二○○一年國際生物奧林匹亞競賽參賽計畫\n",
      "教育部 委託 台灣師範大學\n",
      "曾哲明 指示 陳仙姿\n",
      "陳仙姿 篡改 陳宗佑的初試成績\n",
      "陳家楨 要求 曾哲明\n",
      "苗栗縣卓蘭鎮公所 排除招標規定 卓蘭鎮老庄區域排水震災修復工程\n",
      "苗栗縣卓蘭鎮公所 未核定工期展延 卓蘭鎮老庄區域排水震災修復工程\n",
      "苗栗縣政府 未確實監辦 卓蘭鎮老庄區域排水震災修復工程\n",
      "苗栗縣卓蘭鎮公所 施工品質不良 卓蘭鎮老庄區域排水震災修復工程\n",
      "苗栗縣卓蘭鎮公所 採限制性招標 卓蘭鎮老庄區域排水震災修復工程\n",
      "台鐵局 違反 政府採購法第三十七條第一項\n",
      "台鐵局機務處台北機廠 違反 政府採購法第四十八條第二項\n",
      "台鐵局 違反 政府採購公告及公報發行辦法第六條\n",
      "台鐵局餐旅服務總所 疏漏 決標結果公告應登載決標金額\n",
      "台鐵局 違反 政府採購法第一百零一條至第一百零三條\n"
     ]
    },
    {
     "name": "stderr",
     "output_type": "stream",
     "text": [
      "C:\\Users\\sean.chang\\AppData\\Local\\Temp\\ipykernel_26068\\1007173019.py:36: DeprecationWarning: read_transaction has been renamed to execute_read\n",
      "  session.read_transaction(self._fetch_node_rela)\n"
     ]
    }
   ],
   "source": [
    "handler.fetch_all_data()\n"
   ]
  },
  {
   "cell_type": "code",
   "execution_count": 121,
   "metadata": {},
   "outputs": [],
   "source": [
    "def fetch_node_rela(tx):\n",
    "    query = \"\"\"\n",
    "    MATCH (n:Entity)-[r]->(m:Entity)\n",
    "    RETURN n.name AS source, type(r) AS relationship, m.name AS target\n",
    "    \"\"\"\n",
    "    result = tx.run(query)\n",
    "    for record in result:\n",
    "        print(f\"{record['source']} {record['relationship']} {record['target']}\")\n"
   ]
  },
  {
   "cell_type": "code",
   "execution_count": 122,
   "metadata": {},
   "outputs": [
    {
     "name": "stdout",
     "output_type": "stream",
     "text": [
      "立法委員 函轉 民眾陳訴\n",
      "行政院原住民族委員會 補助 花蓮區漁會\n",
      "花蓮區漁會 採購 「三機一體彩色漁探衛星導航電子海圖儀及船用ＤＳＢ無線電對講機」\n",
      "行政院原住民族委員會 監督 花蓮區漁會\n",
      "花蓮縣政府 監督 花蓮區漁會\n",
      "立法委員 制定 法律\n",
      "研究主持人 接受 政府委託研究計畫\n",
      "衛生署 補助 國立台灣師範大學\n",
      "衛生署人員 出國 國外\n",
      "公教人員 申請 出國審核\n",
      "環保署 規定 主管機關\n",
      "主管機關 查核 清除機構\n",
      "清除機構 勾稽比對 主管機關\n",
      "環保署 提出書面資料 本院\n",
      "各級主管機關 針對 清除機構申報之營運紀錄\n",
      "台北榮總 誤解規定 相關法令\n",
      "台北榮總 提升資格 廠商投標資格\n",
      "台北榮總 延長工期 停車場工程\n",
      "台北榮總 未遵照工期 評輝營造公司\n",
      "評輝營造公司 建議工期 七二〇天\n",
      "退輔會 通函規定 各榮家\n",
      "受訪單位 擇定 SBR-CASS\n",
      "行政院環境保護署 函覆 退輔會\n",
      "退輔會 發包 桃園榮家\n",
      "桃園榮家 辦理 污水處理廠工程\n",
      "教育部 辦理 二○○一年國際生物奧林匹亞競賽參賽計畫\n",
      "教育部 委託 台灣師範大學\n",
      "曾哲明 指示 陳仙姿\n",
      "陳仙姿 篡改 陳宗佑的初試成績\n",
      "陳家楨 要求 曾哲明\n",
      "苗栗縣卓蘭鎮公所 排除招標規定 卓蘭鎮老庄區域排水震災修復工程\n",
      "苗栗縣卓蘭鎮公所 未核定工期展延 卓蘭鎮老庄區域排水震災修復工程\n",
      "苗栗縣政府 未確實監辦 卓蘭鎮老庄區域排水震災修復工程\n",
      "苗栗縣卓蘭鎮公所 施工品質不良 卓蘭鎮老庄區域排水震災修復工程\n",
      "苗栗縣卓蘭鎮公所 採限制性招標 卓蘭鎮老庄區域排水震災修復工程\n",
      "台鐵局 違反 政府採購法第三十七條第一項\n",
      "台鐵局機務處台北機廠 違反 政府採購法第四十八條第二項\n",
      "台鐵局 違反 政府採購公告及公報發行辦法第六條\n",
      "台鐵局餐旅服務總所 疏漏 決標結果公告應登載決標金額\n",
      "台鐵局 違反 政府採購法第一百零一條至第一百零三條\n"
     ]
    },
    {
     "name": "stderr",
     "output_type": "stream",
     "text": [
      "C:\\Users\\sean.chang\\AppData\\Local\\Temp\\ipykernel_26068\\3570948381.py:4: DeprecationWarning: read_transaction has been renamed to execute_read\n",
      "  session.read_transaction(fetch_node_rela)\n"
     ]
    }
   ],
   "source": [
    "def fetch_all_data():\n",
    "    with GraphDatabase.driver(uri=URI, auth=(\"neo4j\", \"neo4j\")) as driver:\n",
    "        with driver.session() as session:\n",
    "            session.read_transaction(fetch_node_rela)\n",
    "fetch_all_data()"
   ]
  }
 ],
 "metadata": {
  "kernelspec": {
   "display_name": "supervisor_llm",
   "language": "python",
   "name": "python3"
  },
  "language_info": {
   "codemirror_mode": {
    "name": "ipython",
    "version": 3
   },
   "file_extension": ".py",
   "mimetype": "text/x-python",
   "name": "python",
   "nbconvert_exporter": "python",
   "pygments_lexer": "ipython3",
   "version": "3.10.14"
  }
 },
 "nbformat": 4,
 "nbformat_minor": 2
}
