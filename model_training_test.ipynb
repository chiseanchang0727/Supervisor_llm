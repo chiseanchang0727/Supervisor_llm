{
 "cells": [
  {
   "cell_type": "code",
   "execution_count": 1,
   "metadata": {},
   "outputs": [],
   "source": [
    "import os\n",
    "import re\n",
    "import numpy as np\n",
    "import pandas as pd\n",
    "from datasets import load_dataset, Dataset, ClassLabel\n",
    "\n",
    "from langchain.document_loaders import PyPDFLoader\n",
    "from transformers import AutoTokenizer, AutoModelForCausalLM, pipeline\n",
    "from neo4j import GraphDatabase\n",
    "from utils import read_json\n",
    "\n",
    "import torch"
   ]
  },
  {
   "cell_type": "code",
   "execution_count": 2,
   "metadata": {},
   "outputs": [],
   "source": [
    "def get_whole_pdf(file_data):\n",
    "    whole_pdf = \"\"\n",
    "    for i in range(len(file_data)):\n",
    "        whole_pdf += file_data[i].page_content\n",
    "\n",
    "    return whole_pdf"
   ]
  },
  {
   "cell_type": "code",
   "execution_count": 3,
   "metadata": {},
   "outputs": [],
   "source": [
    "configs = read_json('configs.json')\n",
    "DATA_PATH = configs[\"DATA_PATH\"]\n",
    "DB_PATH = configs['DB_PATH']\n",
    "files_list = [file for file in os.listdir(DATA_PATH) if os.path.isfile(os.path.join(DATA_PATH, file))]\n",
    "\n",
    "def read_pdf(files_list, data_path=DATA_PATH):\n",
    "    content_dict = {}\n",
    "\n",
    "    for file_name in files_list:\n",
    "        file_path = data_path + file_name\n",
    "        loader = PyPDFLoader(file_path)\n",
    "        content = loader.load()\n",
    "        whole_pdf = \"\"\n",
    "        for i in range(len(content)):\n",
    "            whole_pdf += content[i].page_content\n",
    "\n",
    "        whole_pdf = re.sub(r'[：。\\n]', '', whole_pdf)\n",
    "        content_dict[file_name] = whole_pdf\n",
    "\n",
    "    return content_dict"
   ]
  },
  {
   "cell_type": "code",
   "execution_count": 4,
   "metadata": {},
   "outputs": [
    {
     "data": {
      "text/plain": [
       "['34944_高鐵_促參.pdf',\n",
       " '38005_核四_政策.pdf',\n",
       " '39243_核四_品質.pdf',\n",
       " '39477_核四_料件.pdf',\n",
       " '46365_高鐵_基金.pdf',\n",
       " '48052_大客車_逃生門.pdf',\n",
       " '48746_大客車_安全門.pdf',\n",
       " '49490_核四_延宕.pdf',\n",
       " '49627_核四_停建.pdf',\n",
       " '49676_大客車_駕照.pdf',\n",
       " '52922_大客車_超時.pdf',\n",
       " '54210_高鐵_出資.pdf',\n",
       " '54376_高鐵_航發.pdf',\n",
       " '54561_高鐵_機電.pdf',\n",
       " '58930_核四_封存.pdf']"
      ]
     },
     "execution_count": 4,
     "metadata": {},
     "output_type": "execute_result"
    }
   ],
   "source": [
    "files_list"
   ]
  },
  {
   "cell_type": "code",
   "execution_count": 5,
   "metadata": {},
   "outputs": [],
   "source": [
    "pdf_contents = read_pdf(files_list)"
   ]
  },
  {
   "cell_type": "code",
   "execution_count": 6,
   "metadata": {},
   "outputs": [],
   "source": [
    "def content_extraction(input, pattern):\n",
    "\n",
    "    # Search using the pattern\n",
    "    match = re.search(pattern, input, re.S)\n",
    "\n",
    "    if match:\n",
    "        result = match.group(1).strip()  # Use strip() to remove any leading/trailing whitespace\n",
    "        print(\"Extraction succeed.\")\n",
    "        return result\n",
    "    else:\n",
    "        print(\"No match found\")\n",
    "        pass"
   ]
  },
  {
   "cell_type": "code",
   "execution_count": 7,
   "metadata": {},
   "outputs": [
    {
     "name": "stdout",
     "output_type": "stream",
     "text": [
      "Extraction succeed.\n",
      "Extraction succeed.\n",
      "Extraction succeed.\n",
      "Extraction succeed.\n",
      "Extraction succeed.\n",
      "Extraction succeed.\n",
      "Extraction succeed.\n",
      "Extraction succeed.\n",
      "Extraction succeed.\n",
      "Extraction succeed.\n",
      "Extraction succeed.\n",
      "Extraction succeed.\n",
      "Extraction succeed.\n",
      "Extraction succeed.\n",
      "Extraction succeed.\n"
     ]
    }
   ],
   "source": [
    "pattern = r\"貳、案   由(.*?)參、事實與理由\"\n",
    "\n",
    "extracted_content = {}\n",
    "for filename, content in pdf_contents.items():\n",
    "    extracted_content[filename] = content_extraction(content, pattern)"
   ]
  },
  {
   "cell_type": "code",
   "execution_count": 40,
   "metadata": {},
   "outputs": [
    {
     "data": {
      "text/plain": [
       "{'34944_高鐵_促參.pdf': '交通部於 87年間與臺灣高速鐵路公司簽訂「臺灣南北高速鐵路興建營運合約」及「臺灣南北高速鐵路站區開發合約 」，疏未預先審度該公司展延高鐵通車營運時程及遲延受領站區用地所生 損失之責任歸屬，並綢繆約定 相關處罰條款 ，嗣對政府權益保障恝置不察，一再同意該公司展延通車營運時程及受領站區用地， 致政府蒙受回饋金與租金收入減少及顧問費用增加等鉅額損失，均有違失，爰依監察法第 24條規定提案糾正',\n",
       " '38005_核四_政策.pdf': '核四封存後每年仍耗費數億元於資產維護管理，行政院及經濟部對外宣告核四重啟不可行，核四興建費用 2,833億元頇列為損失，行政院及 經濟部對核四政策之重大變動，導致資源嚴重浪費； 再者，經濟部宣布能源配比 (燃氣50%、燃煤30%、再生能源20%)之能源轉型政策，未經能源安全、能源經濟及環境影響等完整評估 ，復於再生能源發電量增加有限情況下， 以運轉中核電機組長期停機 方式減核 ，致近年火力發購電量逐年提高， 106年占比達84.4%，燃煤發電增幅 甚至高於燃氣，造成嚴重空氣污染；以及經濟部宣布 新能源政策 之前，並未評估其對電價之影響，迄 106年3月行政院始於國公營企業體檢小組會議評估 等情，均有違失，爰依法提案糾正',\n",
       " '39243_核四_品質.pdf': '台電公司 未落實「核四工程品質保證方案」，致龍門電廠試運轉時違規與注意改善事項層出不窮，如 抑壓池灌水作業 不當，致反應器廠房底層淹水 、壓力試驗合格之室內消防栓 系統，其 太平龍頭 竟脫落，致汽機廠房積水等 ，均嚴重衝擊國人對核能安全運轉之信心等情 ，確有諸多違失，爰依法提案糾正',\n",
       " '39477_核四_料件.pdf': '台灣電力股份有限公司 (下稱台電公司 )於本院調查核四廠一號機因施工測詴期間設備損壞而移用二號機相關設備之過程，所提供資料內容前後不一，設備組件損壞、採購及修復個數未能確實清查正確，顯見台電公司核四廠之料件管理系統紊亂，且回復本院公文一再發生資料正確性不足，核有怠失；另台電公司於 81年陳報核四興建計畫， 竟以69年所估算成本陳報， 未能如實報告核四建廠成本，致使政府無法確實評估該項投資計畫之成本效益，台電公司表示當時即考慮日後再以追加預算方式提出，此亦導致政 府長年來不得不對核四預算持續加碼，形成台電公司及國家之財務負擔，核有違失，爰依法提案糾正',\n",
       " '46365_高鐵_基金.pdf': '近年利率逐年下調， 資金成本下降， 惟交通部未督飭高公局利用此 改變趨勢而進行財務調度，積極規劃國道基金債務之舉新還舊，減輕利息 負擔，改善財務結構 ；該部復坐視國道基金之財務操作 受高鐵基金之影響；又該部迄今未將 國道基金負擔 未具自償性且與國道並無直接關聯之地區性道路興建支出，撥還該基金等情，均核有重大違失，爰依法提案糾正',\n",
       " '48052_大客車_逃生門.pdf': '交通部暨公路總局未善盡監督及執行車輛之監理機制，輕縱尊龍客運等公司違規變更內裝而危害公共安全，致生本案大客車六名乘客因逃生門遭鐵板封閉，無法開啟而慘遭大火燒死之重大事故，顯有違失，爰依監察法第二十四條之規定提案糾正',\n",
       " '48746_大客車_安全門.pdf': '交通部核准之安審（ 98）第1620號車型大客車，其檢測報告判定緊急出口符合法規，得於車輛靜止時由車內及車外徒手開啟，然105年7月19日（下稱0719）陸客團火燒車事故發生時卻因遊覽車左側安全門掛有鐵鍊並未即時開啟，其相同型式 20部車輛經查核亦逾八成於安全門裝置暗鎖，業嚴重威脅乘客逃生機會 ；又該部於核發車輛型式安全審驗合格證明書後，未善盡監督車身打造廠依法落實執行品質一致性管制計畫書，無法確保大客車之安全品質具有一致性 ；復漠視國內遊覽車業者為增設原廠設計所無之相關配備，擅自變更底盤電路系統，新核定之大客車電氣設備審驗補充作業規定 亦未包含使用中之舊車型大客車，恐難避免使用中之遊覽車車輛電路系統因加裝施工不良或過度負荷引發火災之可能性，造成人民生命財產之嚴重危害， 確有重大違失，爰依法提案糾正',\n",
       " '49490_核四_延宕.pdf': '台灣電力股份有限公司辦理核四計畫， 未採統包模式 ，衍生各類採購標案多達 835項，界面 整合困難， 且怠忽控管顧問公司工作內容，肇致服務費用暴增卻無法依約完成工作 ，又在未取得關鍵外購設備細部規格前，竟同意承商以假設數據先行設計，致到貨後頇 額外補償 修改變更費用 ，加上工地防颱應變失當等諸多違失，導致計畫執行效能不彰，進度嚴重落後，商轉日期一再展延逾 11年迄仍無著，工程經費更由新台幣 1,697億餘元暴增至 2,736億餘元，增幅超過 6成達1,039億餘元，且後續增加勢必難免，斲喪國家利益與政府形象；經濟部為核四計畫執行督導機關，長期粉飾計畫執行遭遇之瓶頸癥結，未能積極督飭台電公司有效因應妥處，恝置履約爭議及施工管理問題層出不窮，亦難辭怠忽監督之咎',\n",
       " '49627_核四_停建.pdf': '行政院貿然於 89年10月27日宣布停建進度已達33.81%之核四工程，又經濟部對於臺電公司三度函詢核四停建相關疑義，卻一再模糊虛應，恝置所屬無所適從，另臺電公司為迎合上意，未待上級正式函示或召開董事會應變，即由公司高層僅以口諭方式擅為傳達停建核四，並倉促發函指示廠商 不限期暫停契約執行，且核四工程未能採統包方式辦理，亦未有總顧問協助整合複雜之施工界面，導致工期延宕、預算追加、鉅額損失及品質安全疑慮等情事，其工期至少增加 44個月，且損失高達 1,870億元，未來核四是否安全運轉，屢遭質疑， 且現已逾核四計畫一號機展延後 之預訂商轉日期，惟尚未見修訂計畫期程， 行政院暨所屬經濟部、臺電公司等均難辭其咎',\n",
       " '49676_大客車_駕照.pdf': '交通部公路總局 辦理遊覽車客運業營運管理考核業務， 怠未督促所屬落實 各項表件查核勾稽職責，縱任 世通遊覽車客運股份有限公司 長期僱用無大客車職業駕駛執照者駕駛遊覽車，未 能及時查處 並責令改正，肇生101年5月9日花蓮太魯閣錦文橋旁翻車事故，嚴重危害旅運安全；且該局派赴事故現場人員，竟未查知該 翻覆遊覽車未依規定隨車攜帶駕駛人登記證、派車單及租車契約等資料，迨本院約詢通知責請說明後，始急洽業者查證屬實，並依違反汽車運輸業管理規則補行罰款，確有怠失，爰依法提案糾正',\n",
       " '52922_大客車_超時.pdf': '勞委會辦理公路客運業司機工時稽查，長久坐視超時工作之嚴重性，僅就稽查結果轉送各地勞政單位裁罰，對後續執行及改善措施未能落實追蹤管考，輕忽該行業攸關公眾安全之特性 ；交通部未能參酌先進國家對公路客運業合理駕駛時間之制訂，復未對近年因疲勞駕駛之肇禍事件深切檢討，以訂定公路客運業司機合理駕駛時間；公路總局於執行大客車駕駛審驗措施，未能記取近年發生多次公路客運業司機因個人健康因素，中斷行車任務之教訓，訂定妥適之健檢項目與標準 ，均核有違失',\n",
       " '54210_高鐵_出資.pdf': '行政院明知高鐵公司籌資不順，財務困難，投資風險極高，不但未能督促原始股東履行「政府零出資」承諾，反而 准予所屬公營事業機構、或實質上受其控制之公私合營公司或政府捐助財團法人將資金投入該公司一再挹注該公司鉅額資金 ，復提供鉅額中長期資金及融資保證，不但危及政府財政，並以公權力牽拖耗喪社會資材，嚴重悖離 BOT基本精神另中鋼公司投資高鐵公司特別股，該公司董事長林 ○○不但同時兼任高鐵公司董事，並三次主導投資高鐵公司特別股，立場偏失，主管機關皆怠忽不察；中技社投資高鐵公司特別股，既不合原捐助目的及章程規定，且程序上亦有重大瑕疵，復影響該社財務資金運用甚鉅，主管機關經濟部皆恝置不理又 財政部甫 修正相關法令，各公營及公私 合營行庫旋即投資高鐵公司計一百七十三億元，招致非議；公營行庫將上開投資不當認列為短期投資，不僅傷及公營行庫財務表達之正確性，且得以短期投資拖延補辦預算之程序；高鐵公司財務狀況日趨惡化，政府財務擔保風險持續升高，交通部長期視若無睹，粉飾太帄，徒增政府財務風險，均有重大違失 ，爰依法提案糾正',\n",
       " '54376_高鐵_航發.pdf': '行政院為協助解決臺灣高速鐵路公司 (下稱高鐵公司 )資金需求，指示中華航空事業發展基金會 (下稱航發會 )限期購買該公司丙種特別股新臺幣 (下同 )四十五億元，惟該項投資決策未經正式會議及評估作業，亦未留存任何紀錄可供稽查，過程粗糙急率；又該院明知航發會屬財團法人，投資高速鐵路有違該會 協助發展航空事業之章程目的，亦可知悉因時間急迫，相關董事會召集程序勢難符合法令規定，仍為上開違反章程及法令之指示，顯有失當；而交通部長擔任航發會董事長，管理及監督財團法人之角色混同，董事會以遵守政策指示及考量國家利益為由通過相關議案，交通部復怠於監督，率予許可，致生航發會重大損害，財團法人設置之公益目的盪然無存，爰依法提案糾正',\n",
       " '54561_高鐵_機電.pdf': '交通部及所屬高速鐵路工程局 率爾同意 變更機電核心系統，致 台灣高鐵淪為歐、日混血系統，每百萬公里發生之行車事故件數，較日本新幹線高出甚多，迄未深入檢討等情，爰依法提案糾正',\n",
       " '58930_核四_封存.pdf': '我國核能安全監管機關為行政院原子能委員會，核四未經該會完整審查認可，未符合核能安全要求 下，經濟部卻以核四安檢過關，使部分民眾認 為核四安全已由經濟部審查掛保證通過， 積非成是，影響迄今；而核四封存前， 未能解決 諸多系統 之設計及設備問題，即使當時並未封存、繼續詴運轉下去，仍有安全疑慮， 在外界對於核四重啟見解不一之際， 經濟部反而提供錯誤訊息 ，導致核四紛擾不斷又，台電未能及時監督承商， 現因核四斷層新事證，更加劇後續處理之困難度，台電對核能安全與核四品質把關 之相關作為，確實不夠嚴謹， 經濟部及台電均 核有怠失，爰依法提案糾正'}"
      ]
     },
     "execution_count": 40,
     "metadata": {},
     "output_type": "execute_result"
    }
   ],
   "source": [
    "extracted_content"
   ]
  },
  {
   "cell_type": "code",
   "execution_count": 9,
   "metadata": {},
   "outputs": [],
   "source": [
    "import re\n",
    "\n",
    "def extract_label(filename):\n",
    "    # Assuming the label is always after the first underscore and ends before the second underscore\n",
    "    match = re.search(r'_(.*?)_', filename)\n",
    "    if match:\n",
    "        return match.group(1)  # This extracts text between the first pair of underscores\n",
    "    return None  # In case the pattern does not match"
   ]
  },
  {
   "cell_type": "code",
   "execution_count": 41,
   "metadata": {},
   "outputs": [
    {
     "data": {
      "text/plain": [
       "[{'label': '高鐵',\n",
       "  'text': '交通部於 87年間與臺灣高速鐵路公司簽訂「臺灣南北高速鐵路興建營運合約」及「臺灣南北高速鐵路站區開發合約 」，疏未預先審度該公司展延高鐵通車營運時程及遲延受領站區用地所生 損失之責任歸屬，並綢繆約定 相關處罰條款 ，嗣對政府權益保障恝置不察，一再同意該公司展延通車營運時程及受領站區用地， 致政府蒙受回饋金與租金收入減少及顧問費用增加等鉅額損失，均有違失，爰依監察法第 24條規定提案糾正'},\n",
       " {'label': '核四',\n",
       "  'text': '核四封存後每年仍耗費數億元於資產維護管理，行政院及經濟部對外宣告核四重啟不可行，核四興建費用 2,833億元頇列為損失，行政院及 經濟部對核四政策之重大變動，導致資源嚴重浪費； 再者，經濟部宣布能源配比 (燃氣50%、燃煤30%、再生能源20%)之能源轉型政策，未經能源安全、能源經濟及環境影響等完整評估 ，復於再生能源發電量增加有限情況下， 以運轉中核電機組長期停機 方式減核 ，致近年火力發購電量逐年提高， 106年占比達84.4%，燃煤發電增幅 甚至高於燃氣，造成嚴重空氣污染；以及經濟部宣布 新能源政策 之前，並未評估其對電價之影響，迄 106年3月行政院始於國公營企業體檢小組會議評估 等情，均有違失，爰依法提案糾正'},\n",
       " {'label': '核四',\n",
       "  'text': '台電公司 未落實「核四工程品質保證方案」，致龍門電廠試運轉時違規與注意改善事項層出不窮，如 抑壓池灌水作業 不當，致反應器廠房底層淹水 、壓力試驗合格之室內消防栓 系統，其 太平龍頭 竟脫落，致汽機廠房積水等 ，均嚴重衝擊國人對核能安全運轉之信心等情 ，確有諸多違失，爰依法提案糾正'},\n",
       " {'label': '核四',\n",
       "  'text': '台灣電力股份有限公司 (下稱台電公司 )於本院調查核四廠一號機因施工測詴期間設備損壞而移用二號機相關設備之過程，所提供資料內容前後不一，設備組件損壞、採購及修復個數未能確實清查正確，顯見台電公司核四廠之料件管理系統紊亂，且回復本院公文一再發生資料正確性不足，核有怠失；另台電公司於 81年陳報核四興建計畫， 竟以69年所估算成本陳報， 未能如實報告核四建廠成本，致使政府無法確實評估該項投資計畫之成本效益，台電公司表示當時即考慮日後再以追加預算方式提出，此亦導致政 府長年來不得不對核四預算持續加碼，形成台電公司及國家之財務負擔，核有違失，爰依法提案糾正'},\n",
       " {'label': '高鐵',\n",
       "  'text': '近年利率逐年下調， 資金成本下降， 惟交通部未督飭高公局利用此 改變趨勢而進行財務調度，積極規劃國道基金債務之舉新還舊，減輕利息 負擔，改善財務結構 ；該部復坐視國道基金之財務操作 受高鐵基金之影響；又該部迄今未將 國道基金負擔 未具自償性且與國道並無直接關聯之地區性道路興建支出，撥還該基金等情，均核有重大違失，爰依法提案糾正'},\n",
       " {'label': '大客車',\n",
       "  'text': '交通部暨公路總局未善盡監督及執行車輛之監理機制，輕縱尊龍客運等公司違規變更內裝而危害公共安全，致生本案大客車六名乘客因逃生門遭鐵板封閉，無法開啟而慘遭大火燒死之重大事故，顯有違失，爰依監察法第二十四條之規定提案糾正'},\n",
       " {'label': '大客車',\n",
       "  'text': '交通部核准之安審（ 98）第1620號車型大客車，其檢測報告判定緊急出口符合法規，得於車輛靜止時由車內及車外徒手開啟，然105年7月19日（下稱0719）陸客團火燒車事故發生時卻因遊覽車左側安全門掛有鐵鍊並未即時開啟，其相同型式 20部車輛經查核亦逾八成於安全門裝置暗鎖，業嚴重威脅乘客逃生機會 ；又該部於核發車輛型式安全審驗合格證明書後，未善盡監督車身打造廠依法落實執行品質一致性管制計畫書，無法確保大客車之安全品質具有一致性 ；復漠視國內遊覽車業者為增設原廠設計所無之相關配備，擅自變更底盤電路系統，新核定之大客車電氣設備審驗補充作業規定 亦未包含使用中之舊車型大客車，恐難避免使用中之遊覽車車輛電路系統因加裝施工不良或過度負荷引發火災之可能性，造成人民生命財產之嚴重危害， 確有重大違失，爰依法提案糾正'},\n",
       " {'label': '核四',\n",
       "  'text': '台灣電力股份有限公司辦理核四計畫， 未採統包模式 ，衍生各類採購標案多達 835項，界面 整合困難， 且怠忽控管顧問公司工作內容，肇致服務費用暴增卻無法依約完成工作 ，又在未取得關鍵外購設備細部規格前，竟同意承商以假設數據先行設計，致到貨後頇 額外補償 修改變更費用 ，加上工地防颱應變失當等諸多違失，導致計畫執行效能不彰，進度嚴重落後，商轉日期一再展延逾 11年迄仍無著，工程經費更由新台幣 1,697億餘元暴增至 2,736億餘元，增幅超過 6成達1,039億餘元，且後續增加勢必難免，斲喪國家利益與政府形象；經濟部為核四計畫執行督導機關，長期粉飾計畫執行遭遇之瓶頸癥結，未能積極督飭台電公司有效因應妥處，恝置履約爭議及施工管理問題層出不窮，亦難辭怠忽監督之咎'},\n",
       " {'label': '核四',\n",
       "  'text': '行政院貿然於 89年10月27日宣布停建進度已達33.81%之核四工程，又經濟部對於臺電公司三度函詢核四停建相關疑義，卻一再模糊虛應，恝置所屬無所適從，另臺電公司為迎合上意，未待上級正式函示或召開董事會應變，即由公司高層僅以口諭方式擅為傳達停建核四，並倉促發函指示廠商 不限期暫停契約執行，且核四工程未能採統包方式辦理，亦未有總顧問協助整合複雜之施工界面，導致工期延宕、預算追加、鉅額損失及品質安全疑慮等情事，其工期至少增加 44個月，且損失高達 1,870億元，未來核四是否安全運轉，屢遭質疑， 且現已逾核四計畫一號機展延後 之預訂商轉日期，惟尚未見修訂計畫期程， 行政院暨所屬經濟部、臺電公司等均難辭其咎'},\n",
       " {'label': '大客車',\n",
       "  'text': '交通部公路總局 辦理遊覽車客運業營運管理考核業務， 怠未督促所屬落實 各項表件查核勾稽職責，縱任 世通遊覽車客運股份有限公司 長期僱用無大客車職業駕駛執照者駕駛遊覽車，未 能及時查處 並責令改正，肇生101年5月9日花蓮太魯閣錦文橋旁翻車事故，嚴重危害旅運安全；且該局派赴事故現場人員，竟未查知該 翻覆遊覽車未依規定隨車攜帶駕駛人登記證、派車單及租車契約等資料，迨本院約詢通知責請說明後，始急洽業者查證屬實，並依違反汽車運輸業管理規則補行罰款，確有怠失，爰依法提案糾正'},\n",
       " {'label': '大客車',\n",
       "  'text': '勞委會辦理公路客運業司機工時稽查，長久坐視超時工作之嚴重性，僅就稽查結果轉送各地勞政單位裁罰，對後續執行及改善措施未能落實追蹤管考，輕忽該行業攸關公眾安全之特性 ；交通部未能參酌先進國家對公路客運業合理駕駛時間之制訂，復未對近年因疲勞駕駛之肇禍事件深切檢討，以訂定公路客運業司機合理駕駛時間；公路總局於執行大客車駕駛審驗措施，未能記取近年發生多次公路客運業司機因個人健康因素，中斷行車任務之教訓，訂定妥適之健檢項目與標準 ，均核有違失'},\n",
       " {'label': '高鐵',\n",
       "  'text': '行政院明知高鐵公司籌資不順，財務困難，投資風險極高，不但未能督促原始股東履行「政府零出資」承諾，反而 准予所屬公營事業機構、或實質上受其控制之公私合營公司或政府捐助財團法人將資金投入該公司一再挹注該公司鉅額資金 ，復提供鉅額中長期資金及融資保證，不但危及政府財政，並以公權力牽拖耗喪社會資材，嚴重悖離 BOT基本精神另中鋼公司投資高鐵公司特別股，該公司董事長林 ○○不但同時兼任高鐵公司董事，並三次主導投資高鐵公司特別股，立場偏失，主管機關皆怠忽不察；中技社投資高鐵公司特別股，既不合原捐助目的及章程規定，且程序上亦有重大瑕疵，復影響該社財務資金運用甚鉅，主管機關經濟部皆恝置不理又 財政部甫 修正相關法令，各公營及公私 合營行庫旋即投資高鐵公司計一百七十三億元，招致非議；公營行庫將上開投資不當認列為短期投資，不僅傷及公營行庫財務表達之正確性，且得以短期投資拖延補辦預算之程序；高鐵公司財務狀況日趨惡化，政府財務擔保風險持續升高，交通部長期視若無睹，粉飾太帄，徒增政府財務風險，均有重大違失 ，爰依法提案糾正'},\n",
       " {'label': '高鐵',\n",
       "  'text': '行政院為協助解決臺灣高速鐵路公司 (下稱高鐵公司 )資金需求，指示中華航空事業發展基金會 (下稱航發會 )限期購買該公司丙種特別股新臺幣 (下同 )四十五億元，惟該項投資決策未經正式會議及評估作業，亦未留存任何紀錄可供稽查，過程粗糙急率；又該院明知航發會屬財團法人，投資高速鐵路有違該會 協助發展航空事業之章程目的，亦可知悉因時間急迫，相關董事會召集程序勢難符合法令規定，仍為上開違反章程及法令之指示，顯有失當；而交通部長擔任航發會董事長，管理及監督財團法人之角色混同，董事會以遵守政策指示及考量國家利益為由通過相關議案，交通部復怠於監督，率予許可，致生航發會重大損害，財團法人設置之公益目的盪然無存，爰依法提案糾正'},\n",
       " {'label': '高鐵',\n",
       "  'text': '交通部及所屬高速鐵路工程局 率爾同意 變更機電核心系統，致 台灣高鐵淪為歐、日混血系統，每百萬公里發生之行車事故件數，較日本新幹線高出甚多，迄未深入檢討等情，爰依法提案糾正'},\n",
       " {'label': '核四',\n",
       "  'text': '我國核能安全監管機關為行政院原子能委員會，核四未經該會完整審查認可，未符合核能安全要求 下，經濟部卻以核四安檢過關，使部分民眾認 為核四安全已由經濟部審查掛保證通過， 積非成是，影響迄今；而核四封存前， 未能解決 諸多系統 之設計及設備問題，即使當時並未封存、繼續詴運轉下去，仍有安全疑慮， 在外界對於核四重啟見解不一之際， 經濟部反而提供錯誤訊息 ，導致核四紛擾不斷又，台電未能及時監督承商， 現因核四斷層新事證，更加劇後續處理之困難度，台電對核能安全與核四品質把關 之相關作為，確實不夠嚴謹， 經濟部及台電均 核有怠失，爰依法提案糾正'}]"
      ]
     },
     "execution_count": 41,
     "metadata": {},
     "output_type": "execute_result"
    }
   ],
   "source": [
    "formatted_data  = [{'label': extract_label(filename), 'text' : content } for filename, content in extracted_content.items()]\n",
    "formatted_data "
   ]
  },
  {
   "cell_type": "code",
   "execution_count": 42,
   "metadata": {},
   "outputs": [
    {
     "data": {
      "text/plain": [
       "ClassLabel(names=['高鐵', '核四', '大客車'], id=None)"
      ]
     },
     "execution_count": 42,
     "metadata": {},
     "output_type": "execute_result"
    }
   ],
   "source": [
    "label = []\n",
    "for i in range(len(formatted_data)):\n",
    "    current_label = formatted_data[i]['label']\n",
    "    if current_label not in label:\n",
    "        label.append(current_label)\n",
    "    else:\n",
    "        continue\n",
    "label_feature = ClassLabel(names=label)\n",
    "label_feature"
   ]
  },
  {
   "cell_type": "code",
   "execution_count": 43,
   "metadata": {},
   "outputs": [],
   "source": [
    "dataset = Dataset.from_dict({\n",
    "    'text': [item['text'] for item in formatted_data],\n",
    "    'label': [item['label'] for item in formatted_data]\n",
    "})\n"
   ]
  },
  {
   "cell_type": "code",
   "execution_count": 44,
   "metadata": {},
   "outputs": [
    {
     "data": {
      "text/plain": [
       "Dataset({\n",
       "    features: ['text', 'label'],\n",
       "    num_rows: 15\n",
       "})"
      ]
     },
     "execution_count": 44,
     "metadata": {},
     "output_type": "execute_result"
    }
   ],
   "source": [
    "dataset"
   ]
  },
  {
   "cell_type": "code",
   "execution_count": 45,
   "metadata": {},
   "outputs": [],
   "source": [
    "def preprocess_label(example):\n",
    "    \n",
    "    example['label'] = [label_feature.str2int(label) for label in example['label']]\n",
    "    return example"
   ]
  },
  {
   "cell_type": "code",
   "execution_count": 46,
   "metadata": {},
   "outputs": [
    {
     "data": {
      "application/vnd.jupyter.widget-view+json": {
       "model_id": "96e03d2f5e174c23899dfee6999242f6",
       "version_major": 2,
       "version_minor": 0
      },
      "text/plain": [
       "Map:   0%|          | 0/15 [00:00<?, ? examples/s]"
      ]
     },
     "metadata": {},
     "output_type": "display_data"
    }
   ],
   "source": [
    "dataset_processed = dataset.map(preprocess_label, batched=True)\n",
    "dataset_split = dataset_processed.train_test_split(test_size=0.3)"
   ]
  },
  {
   "cell_type": "code",
   "execution_count": 47,
   "metadata": {},
   "outputs": [
    {
     "data": {
      "text/plain": [
       "DatasetDict({\n",
       "    train: Dataset({\n",
       "        features: ['text', 'label'],\n",
       "        num_rows: 10\n",
       "    })\n",
       "    test: Dataset({\n",
       "        features: ['text', 'label'],\n",
       "        num_rows: 5\n",
       "    })\n",
       "})"
      ]
     },
     "execution_count": 47,
     "metadata": {},
     "output_type": "execute_result"
    }
   ],
   "source": [
    "dataset_split"
   ]
  },
  {
   "cell_type": "code",
   "execution_count": null,
   "metadata": {},
   "outputs": [],
   "source": []
  },
  {
   "cell_type": "markdown",
   "metadata": {},
   "source": [
    "## sentence-transformers/all-MiniLM-L6-v2"
   ]
  },
  {
   "cell_type": "code",
   "execution_count": 17,
   "metadata": {},
   "outputs": [],
   "source": [
    "from transformers import AutoTokenizer, AutoModel\n",
    "import torch\n",
    "import torch.nn.functional as F\n",
    "from sklearn.metrics.pairwise import cosine_similarity"
   ]
  },
  {
   "cell_type": "code",
   "execution_count": 18,
   "metadata": {},
   "outputs": [],
   "source": [
    "model_ckpt = 'sentence-transformers/all-MiniLM-L6-v2'\n",
    "tokenizer = AutoTokenizer.from_pretrained(model_ckpt)\n",
    "model = AutoModel.from_pretrained(model_ckpt)"
   ]
  },
  {
   "cell_type": "code",
   "execution_count": 19,
   "metadata": {},
   "outputs": [
    {
     "data": {
      "text/plain": [
       "{'input_ids': tensor([[ 101, 1776, 1811,  100,  100,  100, 1752,  102],\n",
       "        [ 101,  100, 1811,  100,  100,  100, 1752,  102]]), 'token_type_ids': tensor([[0, 0, 0, 0, 0, 0, 0, 0],\n",
       "        [0, 0, 0, 0, 0, 0, 0, 0]]), 'attention_mask': tensor([[1, 1, 1, 1, 1, 1, 1, 1],\n",
       "        [1, 1, 1, 1, 1, 1, 1, 1]])}"
      ]
     },
     "execution_count": 19,
     "metadata": {},
     "output_type": "execute_result"
    }
   ],
   "source": [
    "sentences = ['前天是禮拜二', '昨天是禮拜二']\n",
    "encoded_input = tokenizer(sentences, padding=True, truncation=True, return_tensors='pt')\n",
    "encoded_input"
   ]
  },
  {
   "cell_type": "code",
   "execution_count": 20,
   "metadata": {},
   "outputs": [],
   "source": [
    "with torch.inference_mode():\n",
    "    model_output = model(**encoded_input)"
   ]
  },
  {
   "cell_type": "code",
   "execution_count": 21,
   "metadata": {},
   "outputs": [],
   "source": [
    "def mean_pooling(model_output, attention_mask):\n",
    "    token_embeddings = model_output[0] #First element of model_output contains all token embeddings\n",
    "    input_mask_expanded = attention_mask.unsqueeze(-1).expand(token_embeddings.size()).float()\n",
    "    return torch.sum(token_embeddings * input_mask_expanded, 1) / torch.clamp(input_mask_expanded.sum(1), min=1e-9)"
   ]
  },
  {
   "cell_type": "code",
   "execution_count": 22,
   "metadata": {},
   "outputs": [],
   "source": [
    "# Perform pooling\n",
    "sentence_embeddings = mean_pooling(model_output, encoded_input['attention_mask'])\n",
    "\n",
    "# Normalize embeddings\n",
    "sentence_embeddings = F.normalize(sentence_embeddings, p=2, dim=1)"
   ]
  },
  {
   "cell_type": "code",
   "execution_count": 23,
   "metadata": {},
   "outputs": [
    {
     "data": {
      "text/plain": [
       "array([[0.92570424]], dtype=float32)"
      ]
     },
     "execution_count": 23,
     "metadata": {},
     "output_type": "execute_result"
    }
   ],
   "source": [
    "cosine_similarity(sentence_embeddings[0].reshape(1, -1), sentence_embeddings[1].reshape(1, -1))"
   ]
  },
  {
   "cell_type": "code",
   "execution_count": 24,
   "metadata": {},
   "outputs": [],
   "source": [
    "tokenized_dict = {}\n",
    "for filename, content in extracted_content.items():\n",
    "    encoded_content = tokenizer(content, padding=True, truncation=True, return_tensors='pt')\n",
    "    with torch.inference_mode():\n",
    "        model_output = model(**encoded_content)\n",
    "    # Perform pooling\n",
    "    sentence_embeddings = mean_pooling(model_output, encoded_content['attention_mask'])\n",
    "\n",
    "    # Normalize embeddings\n",
    "    sentence_embeddings = F.normalize(sentence_embeddings, p=2, dim=1)\n",
    "\n",
    "    tokenized_dict[filename] = sentence_embeddings"
   ]
  },
  {
   "cell_type": "code",
   "execution_count": 25,
   "metadata": {},
   "outputs": [],
   "source": [
    "similarity_df = pd.DataFrame(index=tokenized_dict.keys(), columns=tokenized_dict.keys())"
   ]
  },
  {
   "cell_type": "code",
   "execution_count": 26,
   "metadata": {},
   "outputs": [],
   "source": [
    "# Create an empty DataFrame\n",
    "similarity_df = pd.DataFrame(index=tokenized_dict.keys(), columns=tokenized_dict.keys())\n",
    "\n",
    "# Calculate cosine similarity between each pair of vectors\n",
    "for name1, vec1 in tokenized_dict.items():\n",
    "    for name2, vec2 in tokenized_dict.items():\n",
    "        similarity_df.loc[name1, name2] = cosine_similarity(vec1, vec2)[0][0]"
   ]
  },
  {
   "cell_type": "code",
   "execution_count": 27,
   "metadata": {},
   "outputs": [
    {
     "data": {
      "text/html": [
       "<div>\n",
       "<style scoped>\n",
       "    .dataframe tbody tr th:only-of-type {\n",
       "        vertical-align: middle;\n",
       "    }\n",
       "\n",
       "    .dataframe tbody tr th {\n",
       "        vertical-align: top;\n",
       "    }\n",
       "\n",
       "    .dataframe thead th {\n",
       "        text-align: right;\n",
       "    }\n",
       "</style>\n",
       "<table border=\"1\" class=\"dataframe\">\n",
       "  <thead>\n",
       "    <tr style=\"text-align: right;\">\n",
       "      <th></th>\n",
       "      <th>34944_高鐵_促參.pdf</th>\n",
       "      <th>38005_核四_政策.pdf</th>\n",
       "      <th>39243_核四_品質.pdf</th>\n",
       "      <th>39477_核四_料件.pdf</th>\n",
       "      <th>46365_高鐵_基金.pdf</th>\n",
       "      <th>48052_大客車_逃生門.pdf</th>\n",
       "      <th>48746_大客車_安全門.pdf</th>\n",
       "      <th>49490_核四_延宕.pdf</th>\n",
       "      <th>49627_核四_停建.pdf</th>\n",
       "      <th>49676_大客車_駕照.pdf</th>\n",
       "      <th>52922_大客車_超時.pdf</th>\n",
       "      <th>54210_高鐵_出資.pdf</th>\n",
       "      <th>54376_高鐵_航發.pdf</th>\n",
       "      <th>54561_高鐵_機電.pdf</th>\n",
       "      <th>58930_核四_封存.pdf</th>\n",
       "    </tr>\n",
       "  </thead>\n",
       "  <tbody>\n",
       "    <tr>\n",
       "      <th>34944_高鐵_促參.pdf</th>\n",
       "      <td>1.0</td>\n",
       "      <td>0.771646</td>\n",
       "      <td>0.715157</td>\n",
       "      <td>0.810293</td>\n",
       "      <td>0.757769</td>\n",
       "      <td>0.724102</td>\n",
       "      <td>0.737007</td>\n",
       "      <td>0.831104</td>\n",
       "      <td>0.843057</td>\n",
       "      <td>0.820516</td>\n",
       "      <td>0.881772</td>\n",
       "      <td>0.808</td>\n",
       "      <td>0.81963</td>\n",
       "      <td>0.696251</td>\n",
       "      <td>0.693054</td>\n",
       "    </tr>\n",
       "    <tr>\n",
       "      <th>38005_核四_政策.pdf</th>\n",
       "      <td>0.771646</td>\n",
       "      <td>1.0</td>\n",
       "      <td>0.5546</td>\n",
       "      <td>0.769547</td>\n",
       "      <td>0.676038</td>\n",
       "      <td>0.573962</td>\n",
       "      <td>0.77681</td>\n",
       "      <td>0.841877</td>\n",
       "      <td>0.869432</td>\n",
       "      <td>0.682205</td>\n",
       "      <td>0.759324</td>\n",
       "      <td>0.786793</td>\n",
       "      <td>0.833689</td>\n",
       "      <td>0.545257</td>\n",
       "      <td>0.829629</td>\n",
       "    </tr>\n",
       "    <tr>\n",
       "      <th>39243_核四_品質.pdf</th>\n",
       "      <td>0.715157</td>\n",
       "      <td>0.5546</td>\n",
       "      <td>1.0</td>\n",
       "      <td>0.638359</td>\n",
       "      <td>0.575538</td>\n",
       "      <td>0.738709</td>\n",
       "      <td>0.514832</td>\n",
       "      <td>0.668872</td>\n",
       "      <td>0.666733</td>\n",
       "      <td>0.613016</td>\n",
       "      <td>0.701931</td>\n",
       "      <td>0.53878</td>\n",
       "      <td>0.608017</td>\n",
       "      <td>0.680304</td>\n",
       "      <td>0.52084</td>\n",
       "    </tr>\n",
       "    <tr>\n",
       "      <th>39477_核四_料件.pdf</th>\n",
       "      <td>0.810293</td>\n",
       "      <td>0.769547</td>\n",
       "      <td>0.638359</td>\n",
       "      <td>1.0</td>\n",
       "      <td>0.569365</td>\n",
       "      <td>0.558339</td>\n",
       "      <td>0.700211</td>\n",
       "      <td>0.87964</td>\n",
       "      <td>0.864525</td>\n",
       "      <td>0.762747</td>\n",
       "      <td>0.870343</td>\n",
       "      <td>0.848424</td>\n",
       "      <td>0.852757</td>\n",
       "      <td>0.476027</td>\n",
       "      <td>0.704625</td>\n",
       "    </tr>\n",
       "    <tr>\n",
       "      <th>46365_高鐵_基金.pdf</th>\n",
       "      <td>0.757769</td>\n",
       "      <td>0.676038</td>\n",
       "      <td>0.575538</td>\n",
       "      <td>0.569365</td>\n",
       "      <td>1.0</td>\n",
       "      <td>0.562911</td>\n",
       "      <td>0.567731</td>\n",
       "      <td>0.649495</td>\n",
       "      <td>0.647114</td>\n",
       "      <td>0.580461</td>\n",
       "      <td>0.615131</td>\n",
       "      <td>0.614591</td>\n",
       "      <td>0.653924</td>\n",
       "      <td>0.599685</td>\n",
       "      <td>0.605182</td>\n",
       "    </tr>\n",
       "    <tr>\n",
       "      <th>48052_大客車_逃生門.pdf</th>\n",
       "      <td>0.724102</td>\n",
       "      <td>0.573962</td>\n",
       "      <td>0.738709</td>\n",
       "      <td>0.558339</td>\n",
       "      <td>0.562911</td>\n",
       "      <td>1.0</td>\n",
       "      <td>0.66724</td>\n",
       "      <td>0.631306</td>\n",
       "      <td>0.607808</td>\n",
       "      <td>0.745443</td>\n",
       "      <td>0.694181</td>\n",
       "      <td>0.489822</td>\n",
       "      <td>0.543012</td>\n",
       "      <td>0.774908</td>\n",
       "      <td>0.499585</td>\n",
       "    </tr>\n",
       "    <tr>\n",
       "      <th>48746_大客車_安全門.pdf</th>\n",
       "      <td>0.737007</td>\n",
       "      <td>0.77681</td>\n",
       "      <td>0.514832</td>\n",
       "      <td>0.700211</td>\n",
       "      <td>0.567731</td>\n",
       "      <td>0.66724</td>\n",
       "      <td>1.0</td>\n",
       "      <td>0.783596</td>\n",
       "      <td>0.730051</td>\n",
       "      <td>0.839712</td>\n",
       "      <td>0.767071</td>\n",
       "      <td>0.732613</td>\n",
       "      <td>0.744173</td>\n",
       "      <td>0.559655</td>\n",
       "      <td>0.742649</td>\n",
       "    </tr>\n",
       "    <tr>\n",
       "      <th>49490_核四_延宕.pdf</th>\n",
       "      <td>0.831104</td>\n",
       "      <td>0.841877</td>\n",
       "      <td>0.668872</td>\n",
       "      <td>0.87964</td>\n",
       "      <td>0.649495</td>\n",
       "      <td>0.631306</td>\n",
       "      <td>0.783596</td>\n",
       "      <td>1.0</td>\n",
       "      <td>0.913284</td>\n",
       "      <td>0.808667</td>\n",
       "      <td>0.870392</td>\n",
       "      <td>0.842519</td>\n",
       "      <td>0.865204</td>\n",
       "      <td>0.556715</td>\n",
       "      <td>0.786616</td>\n",
       "    </tr>\n",
       "    <tr>\n",
       "      <th>49627_核四_停建.pdf</th>\n",
       "      <td>0.843057</td>\n",
       "      <td>0.869432</td>\n",
       "      <td>0.666733</td>\n",
       "      <td>0.864525</td>\n",
       "      <td>0.647114</td>\n",
       "      <td>0.607808</td>\n",
       "      <td>0.730051</td>\n",
       "      <td>0.913284</td>\n",
       "      <td>1.0</td>\n",
       "      <td>0.740321</td>\n",
       "      <td>0.842977</td>\n",
       "      <td>0.853902</td>\n",
       "      <td>0.885557</td>\n",
       "      <td>0.599092</td>\n",
       "      <td>0.808137</td>\n",
       "    </tr>\n",
       "    <tr>\n",
       "      <th>49676_大客車_駕照.pdf</th>\n",
       "      <td>0.820516</td>\n",
       "      <td>0.682205</td>\n",
       "      <td>0.613016</td>\n",
       "      <td>0.762747</td>\n",
       "      <td>0.580461</td>\n",
       "      <td>0.745443</td>\n",
       "      <td>0.839712</td>\n",
       "      <td>0.808667</td>\n",
       "      <td>0.740321</td>\n",
       "      <td>1.0</td>\n",
       "      <td>0.841511</td>\n",
       "      <td>0.707834</td>\n",
       "      <td>0.727746</td>\n",
       "      <td>0.638968</td>\n",
       "      <td>0.687937</td>\n",
       "    </tr>\n",
       "    <tr>\n",
       "      <th>52922_大客車_超時.pdf</th>\n",
       "      <td>0.881772</td>\n",
       "      <td>0.759324</td>\n",
       "      <td>0.701931</td>\n",
       "      <td>0.870343</td>\n",
       "      <td>0.615131</td>\n",
       "      <td>0.694181</td>\n",
       "      <td>0.767071</td>\n",
       "      <td>0.870392</td>\n",
       "      <td>0.842977</td>\n",
       "      <td>0.841511</td>\n",
       "      <td>1.0</td>\n",
       "      <td>0.829786</td>\n",
       "      <td>0.835373</td>\n",
       "      <td>0.601635</td>\n",
       "      <td>0.679446</td>\n",
       "    </tr>\n",
       "    <tr>\n",
       "      <th>54210_高鐵_出資.pdf</th>\n",
       "      <td>0.808</td>\n",
       "      <td>0.786793</td>\n",
       "      <td>0.53878</td>\n",
       "      <td>0.848424</td>\n",
       "      <td>0.614591</td>\n",
       "      <td>0.489822</td>\n",
       "      <td>0.732613</td>\n",
       "      <td>0.842519</td>\n",
       "      <td>0.853902</td>\n",
       "      <td>0.707834</td>\n",
       "      <td>0.829786</td>\n",
       "      <td>1.0</td>\n",
       "      <td>0.905333</td>\n",
       "      <td>0.487889</td>\n",
       "      <td>0.696772</td>\n",
       "    </tr>\n",
       "    <tr>\n",
       "      <th>54376_高鐵_航發.pdf</th>\n",
       "      <td>0.81963</td>\n",
       "      <td>0.833689</td>\n",
       "      <td>0.608017</td>\n",
       "      <td>0.852757</td>\n",
       "      <td>0.653924</td>\n",
       "      <td>0.543012</td>\n",
       "      <td>0.744173</td>\n",
       "      <td>0.865204</td>\n",
       "      <td>0.885557</td>\n",
       "      <td>0.727746</td>\n",
       "      <td>0.835373</td>\n",
       "      <td>0.905333</td>\n",
       "      <td>1.0</td>\n",
       "      <td>0.539263</td>\n",
       "      <td>0.739105</td>\n",
       "    </tr>\n",
       "    <tr>\n",
       "      <th>54561_高鐵_機電.pdf</th>\n",
       "      <td>0.696251</td>\n",
       "      <td>0.545257</td>\n",
       "      <td>0.680304</td>\n",
       "      <td>0.476027</td>\n",
       "      <td>0.599685</td>\n",
       "      <td>0.774908</td>\n",
       "      <td>0.559655</td>\n",
       "      <td>0.556715</td>\n",
       "      <td>0.599092</td>\n",
       "      <td>0.638968</td>\n",
       "      <td>0.601635</td>\n",
       "      <td>0.487889</td>\n",
       "      <td>0.539263</td>\n",
       "      <td>1.0</td>\n",
       "      <td>0.51256</td>\n",
       "    </tr>\n",
       "    <tr>\n",
       "      <th>58930_核四_封存.pdf</th>\n",
       "      <td>0.693054</td>\n",
       "      <td>0.829629</td>\n",
       "      <td>0.52084</td>\n",
       "      <td>0.704625</td>\n",
       "      <td>0.605182</td>\n",
       "      <td>0.499585</td>\n",
       "      <td>0.742649</td>\n",
       "      <td>0.786616</td>\n",
       "      <td>0.808137</td>\n",
       "      <td>0.687937</td>\n",
       "      <td>0.679446</td>\n",
       "      <td>0.696772</td>\n",
       "      <td>0.739105</td>\n",
       "      <td>0.51256</td>\n",
       "      <td>1.0</td>\n",
       "    </tr>\n",
       "  </tbody>\n",
       "</table>\n",
       "</div>"
      ],
      "text/plain": [
       "                  34944_高鐵_促參.pdf 38005_核四_政策.pdf 39243_核四_品質.pdf  \\\n",
       "34944_高鐵_促參.pdf               1.0        0.771646        0.715157   \n",
       "38005_核四_政策.pdf          0.771646             1.0          0.5546   \n",
       "39243_核四_品質.pdf          0.715157          0.5546             1.0   \n",
       "39477_核四_料件.pdf          0.810293        0.769547        0.638359   \n",
       "46365_高鐵_基金.pdf          0.757769        0.676038        0.575538   \n",
       "48052_大客車_逃生門.pdf        0.724102        0.573962        0.738709   \n",
       "48746_大客車_安全門.pdf        0.737007         0.77681        0.514832   \n",
       "49490_核四_延宕.pdf          0.831104        0.841877        0.668872   \n",
       "49627_核四_停建.pdf          0.843057        0.869432        0.666733   \n",
       "49676_大客車_駕照.pdf         0.820516        0.682205        0.613016   \n",
       "52922_大客車_超時.pdf         0.881772        0.759324        0.701931   \n",
       "54210_高鐵_出資.pdf             0.808        0.786793         0.53878   \n",
       "54376_高鐵_航發.pdf           0.81963        0.833689        0.608017   \n",
       "54561_高鐵_機電.pdf          0.696251        0.545257        0.680304   \n",
       "58930_核四_封存.pdf          0.693054        0.829629         0.52084   \n",
       "\n",
       "                  39477_核四_料件.pdf 46365_高鐵_基金.pdf 48052_大客車_逃生門.pdf  \\\n",
       "34944_高鐵_促參.pdf          0.810293        0.757769          0.724102   \n",
       "38005_核四_政策.pdf          0.769547        0.676038          0.573962   \n",
       "39243_核四_品質.pdf          0.638359        0.575538          0.738709   \n",
       "39477_核四_料件.pdf               1.0        0.569365          0.558339   \n",
       "46365_高鐵_基金.pdf          0.569365             1.0          0.562911   \n",
       "48052_大客車_逃生門.pdf        0.558339        0.562911               1.0   \n",
       "48746_大客車_安全門.pdf        0.700211        0.567731           0.66724   \n",
       "49490_核四_延宕.pdf           0.87964        0.649495          0.631306   \n",
       "49627_核四_停建.pdf          0.864525        0.647114          0.607808   \n",
       "49676_大客車_駕照.pdf         0.762747        0.580461          0.745443   \n",
       "52922_大客車_超時.pdf         0.870343        0.615131          0.694181   \n",
       "54210_高鐵_出資.pdf          0.848424        0.614591          0.489822   \n",
       "54376_高鐵_航發.pdf          0.852757        0.653924          0.543012   \n",
       "54561_高鐵_機電.pdf          0.476027        0.599685          0.774908   \n",
       "58930_核四_封存.pdf          0.704625        0.605182          0.499585   \n",
       "\n",
       "                  48746_大客車_安全門.pdf 49490_核四_延宕.pdf 49627_核四_停建.pdf  \\\n",
       "34944_高鐵_促參.pdf            0.737007        0.831104        0.843057   \n",
       "38005_核四_政策.pdf             0.77681        0.841877        0.869432   \n",
       "39243_核四_品質.pdf            0.514832        0.668872        0.666733   \n",
       "39477_核四_料件.pdf            0.700211         0.87964        0.864525   \n",
       "46365_高鐵_基金.pdf            0.567731        0.649495        0.647114   \n",
       "48052_大客車_逃生門.pdf           0.66724        0.631306        0.607808   \n",
       "48746_大客車_安全門.pdf               1.0        0.783596        0.730051   \n",
       "49490_核四_延宕.pdf            0.783596             1.0        0.913284   \n",
       "49627_核四_停建.pdf            0.730051        0.913284             1.0   \n",
       "49676_大客車_駕照.pdf           0.839712        0.808667        0.740321   \n",
       "52922_大客車_超時.pdf           0.767071        0.870392        0.842977   \n",
       "54210_高鐵_出資.pdf            0.732613        0.842519        0.853902   \n",
       "54376_高鐵_航發.pdf            0.744173        0.865204        0.885557   \n",
       "54561_高鐵_機電.pdf            0.559655        0.556715        0.599092   \n",
       "58930_核四_封存.pdf            0.742649        0.786616        0.808137   \n",
       "\n",
       "                  49676_大客車_駕照.pdf 52922_大客車_超時.pdf 54210_高鐵_出資.pdf  \\\n",
       "34944_高鐵_促參.pdf           0.820516         0.881772           0.808   \n",
       "38005_核四_政策.pdf           0.682205         0.759324        0.786793   \n",
       "39243_核四_品質.pdf           0.613016         0.701931         0.53878   \n",
       "39477_核四_料件.pdf           0.762747         0.870343        0.848424   \n",
       "46365_高鐵_基金.pdf           0.580461         0.615131        0.614591   \n",
       "48052_大客車_逃生門.pdf         0.745443         0.694181        0.489822   \n",
       "48746_大客車_安全門.pdf         0.839712         0.767071        0.732613   \n",
       "49490_核四_延宕.pdf           0.808667         0.870392        0.842519   \n",
       "49627_核四_停建.pdf           0.740321         0.842977        0.853902   \n",
       "49676_大客車_駕照.pdf               1.0         0.841511        0.707834   \n",
       "52922_大客車_超時.pdf          0.841511              1.0        0.829786   \n",
       "54210_高鐵_出資.pdf           0.707834         0.829786             1.0   \n",
       "54376_高鐵_航發.pdf           0.727746         0.835373        0.905333   \n",
       "54561_高鐵_機電.pdf           0.638968         0.601635        0.487889   \n",
       "58930_核四_封存.pdf           0.687937         0.679446        0.696772   \n",
       "\n",
       "                  54376_高鐵_航發.pdf 54561_高鐵_機電.pdf 58930_核四_封存.pdf  \n",
       "34944_高鐵_促參.pdf           0.81963        0.696251        0.693054  \n",
       "38005_核四_政策.pdf          0.833689        0.545257        0.829629  \n",
       "39243_核四_品質.pdf          0.608017        0.680304         0.52084  \n",
       "39477_核四_料件.pdf          0.852757        0.476027        0.704625  \n",
       "46365_高鐵_基金.pdf          0.653924        0.599685        0.605182  \n",
       "48052_大客車_逃生門.pdf        0.543012        0.774908        0.499585  \n",
       "48746_大客車_安全門.pdf        0.744173        0.559655        0.742649  \n",
       "49490_核四_延宕.pdf          0.865204        0.556715        0.786616  \n",
       "49627_核四_停建.pdf          0.885557        0.599092        0.808137  \n",
       "49676_大客車_駕照.pdf         0.727746        0.638968        0.687937  \n",
       "52922_大客車_超時.pdf         0.835373        0.601635        0.679446  \n",
       "54210_高鐵_出資.pdf          0.905333        0.487889        0.696772  \n",
       "54376_高鐵_航發.pdf               1.0        0.539263        0.739105  \n",
       "54561_高鐵_機電.pdf          0.539263             1.0         0.51256  \n",
       "58930_核四_封存.pdf          0.739105         0.51256             1.0  "
      ]
     },
     "execution_count": 27,
     "metadata": {},
     "output_type": "execute_result"
    }
   ],
   "source": [
    "similarity_df"
   ]
  },
  {
   "cell_type": "markdown",
   "metadata": {},
   "source": [
    "## distilbert-base-uncased"
   ]
  },
  {
   "cell_type": "code",
   "execution_count": 48,
   "metadata": {},
   "outputs": [],
   "source": [
    "from transformers import AutoModel\n",
    "from transformers import Trainer, TrainingArguments\n"
   ]
  },
  {
   "cell_type": "code",
   "execution_count": 49,
   "metadata": {},
   "outputs": [],
   "source": [
    "model_ckpt = \"distilbert-base-uncased\"\n",
    "device = torch.device(\"cuda\" if torch.cuda.is_available() else \"cpu\")\n",
    "model = AutoModel.from_pretrained(model_ckpt).to(device)"
   ]
  },
  {
   "cell_type": "code",
   "execution_count": 30,
   "metadata": {},
   "outputs": [],
   "source": [
    "def extract_hidden_states(batch):\n",
    "    # Place model inputs on the GPU\n",
    "    inputs = {k:v.to(device) for k,v in batch.items() \n",
    "              if k in tokenizer.model_input_names}\n",
    "    # Extract last hidden states\n",
    "    with torch.no_grad():\n",
    "        last_hidden_state = model(**inputs).last_hidden_state\n",
    "    # Return vector for [CLS] token\n",
    "    return {\"hidden_state\": last_hidden_state[:,0].cpu().numpy()}"
   ]
  },
  {
   "cell_type": "code",
   "execution_count": 31,
   "metadata": {},
   "outputs": [],
   "source": [
    "def tokenize(batch):\n",
    "    return tokenizer(batch[\"text\"], padding=True, truncation=True)"
   ]
  },
  {
   "cell_type": "code",
   "execution_count": 50,
   "metadata": {},
   "outputs": [
    {
     "data": {
      "application/vnd.jupyter.widget-view+json": {
       "model_id": "746005b4d0de4a2fb94dc2d9dcf7322a",
       "version_major": 2,
       "version_minor": 0
      },
      "text/plain": [
       "Map:   0%|          | 0/10 [00:00<?, ? examples/s]"
      ]
     },
     "metadata": {},
     "output_type": "display_data"
    },
    {
     "data": {
      "application/vnd.jupyter.widget-view+json": {
       "model_id": "83fcabf2f0084ca9aded17bda1b2c412",
       "version_major": 2,
       "version_minor": 0
      },
      "text/plain": [
       "Map:   0%|          | 0/5 [00:00<?, ? examples/s]"
      ]
     },
     "metadata": {},
     "output_type": "display_data"
    }
   ],
   "source": [
    "dataset_encoded = dataset_split.map(tokenize, batched=True, batch_size=None)"
   ]
  },
  {
   "cell_type": "code",
   "execution_count": 71,
   "metadata": {},
   "outputs": [],
   "source": [
    "dataset_encoded.set_format(\"torch\", \n",
    "                            columns=[\"input_ids\",  \"label\",\"attention_mask\"])"
   ]
  },
  {
   "cell_type": "code",
   "execution_count": 72,
   "metadata": {},
   "outputs": [
    {
     "data": {
      "text/plain": [
       "DatasetDict({\n",
       "    train: Dataset({\n",
       "        features: ['text', 'label', 'input_ids', 'token_type_ids', 'attention_mask'],\n",
       "        num_rows: 10\n",
       "    })\n",
       "    test: Dataset({\n",
       "        features: ['text', 'label', 'input_ids', 'token_type_ids', 'attention_mask'],\n",
       "        num_rows: 5\n",
       "    })\n",
       "})"
      ]
     },
     "execution_count": 72,
     "metadata": {},
     "output_type": "execute_result"
    }
   ],
   "source": [
    "dataset_encoded"
   ]
  },
  {
   "cell_type": "code",
   "execution_count": 54,
   "metadata": {},
   "outputs": [],
   "source": [
    "from sklearn.metrics import accuracy_score, f1_score\n",
    "\n",
    "def compute_metrics(pred):\n",
    "    label = pred.label_ids\n",
    "    preds = pred.predictions.argmax(-1)\n",
    "    f1 = f1_score(label, preds, average=\"weighted\")\n",
    "    acc = accuracy_score(label, preds)\n",
    "    return {\"accuracy\": acc, \"f1\": f1}"
   ]
  },
  {
   "cell_type": "code",
   "execution_count": 56,
   "metadata": {},
   "outputs": [
    {
     "data": {
      "text/plain": [
       "DatasetDict({\n",
       "    train: Dataset({\n",
       "        features: ['text', 'label', 'input_ids', 'token_type_ids', 'attention_mask'],\n",
       "        num_rows: 10\n",
       "    })\n",
       "    test: Dataset({\n",
       "        features: ['text', 'label', 'input_ids', 'token_type_ids', 'attention_mask'],\n",
       "        num_rows: 5\n",
       "    })\n",
       "})"
      ]
     },
     "execution_count": 56,
     "metadata": {},
     "output_type": "execute_result"
    }
   ],
   "source": [
    "dataset_encoded"
   ]
  },
  {
   "cell_type": "code",
   "execution_count": 75,
   "metadata": {},
   "outputs": [],
   "source": [
    "from transformers import DistilBertTokenizer, DistilBertForSequenceClassification, TrainingArguments, Trainer"
   ]
  },
  {
   "cell_type": "code",
   "execution_count": 101,
   "metadata": {},
   "outputs": [
    {
     "data": {
      "application/vnd.jupyter.widget-view+json": {
       "model_id": "2a2586c61f3e414ca1fbd28da36427b9",
       "version_major": 2,
       "version_minor": 0
      },
      "text/plain": [
       "  0%|          | 0/200 [00:00<?, ?it/s]"
      ]
     },
     "metadata": {},
     "output_type": "display_data"
    },
    {
     "name": "stdout",
     "output_type": "stream",
     "text": [
      "{'loss': 1.1551, 'grad_norm': 8.319483757019043, 'learning_rate': 1.9e-05, 'epoch': 1.0}\n"
     ]
    },
    {
     "data": {
      "application/vnd.jupyter.widget-view+json": {
       "model_id": "7ccf76abafc7446981451e171e64fe56",
       "version_major": 2,
       "version_minor": 0
      },
      "text/plain": [
       "  0%|          | 0/5 [00:00<?, ?it/s]"
      ]
     },
     "metadata": {},
     "output_type": "display_data"
    },
    {
     "name": "stdout",
     "output_type": "stream",
     "text": [
      "{'eval_loss': 1.1386288404464722, 'eval_accuracy': 0.2, 'eval_f1': 0.06666666666666667, 'eval_runtime': 1.039, 'eval_samples_per_second': 4.812, 'eval_steps_per_second': 4.812, 'epoch': 1.0}\n",
      "{'loss': 1.1296, 'grad_norm': 6.946297645568848, 'learning_rate': 1.8e-05, 'epoch': 2.0}\n"
     ]
    },
    {
     "data": {
      "application/vnd.jupyter.widget-view+json": {
       "model_id": "9eaf6e00597346ed95fe3b6889693eb5",
       "version_major": 2,
       "version_minor": 0
      },
      "text/plain": [
       "  0%|          | 0/5 [00:00<?, ?it/s]"
      ]
     },
     "metadata": {},
     "output_type": "display_data"
    },
    {
     "name": "stdout",
     "output_type": "stream",
     "text": [
      "{'eval_loss': 1.1377588510513306, 'eval_accuracy': 0.2, 'eval_f1': 0.06666666666666667, 'eval_runtime': 1.1127, 'eval_samples_per_second': 4.494, 'eval_steps_per_second': 4.494, 'epoch': 2.0}\n",
      "{'loss': 1.0862, 'grad_norm': 6.751904010772705, 'learning_rate': 1.7e-05, 'epoch': 3.0}\n"
     ]
    },
    {
     "data": {
      "application/vnd.jupyter.widget-view+json": {
       "model_id": "b17d49ad7a8b4424b41de1f3280c0359",
       "version_major": 2,
       "version_minor": 0
      },
      "text/plain": [
       "  0%|          | 0/5 [00:00<?, ?it/s]"
      ]
     },
     "metadata": {},
     "output_type": "display_data"
    },
    {
     "name": "stdout",
     "output_type": "stream",
     "text": [
      "{'eval_loss': 1.1359937191009521, 'eval_accuracy': 0.2, 'eval_f1': 0.06666666666666667, 'eval_runtime': 1.2097, 'eval_samples_per_second': 4.133, 'eval_steps_per_second': 4.133, 'epoch': 3.0}\n",
      "{'loss': 1.0782, 'grad_norm': 7.853911876678467, 'learning_rate': 1.6000000000000003e-05, 'epoch': 4.0}\n"
     ]
    },
    {
     "data": {
      "application/vnd.jupyter.widget-view+json": {
       "model_id": "5ffbb994f48e462c9d620b8b26693a63",
       "version_major": 2,
       "version_minor": 0
      },
      "text/plain": [
       "  0%|          | 0/5 [00:00<?, ?it/s]"
      ]
     },
     "metadata": {},
     "output_type": "display_data"
    },
    {
     "name": "stdout",
     "output_type": "stream",
     "text": [
      "{'eval_loss': 1.1462042331695557, 'eval_accuracy': 0.2, 'eval_f1': 0.06666666666666667, 'eval_runtime': 1.1893, 'eval_samples_per_second': 4.204, 'eval_steps_per_second': 4.204, 'epoch': 4.0}\n",
      "{'loss': 1.0757, 'grad_norm': 6.789600372314453, 'learning_rate': 1.5000000000000002e-05, 'epoch': 5.0}\n"
     ]
    },
    {
     "data": {
      "application/vnd.jupyter.widget-view+json": {
       "model_id": "25755d0a9f314a8eb3f4ccf1377883e7",
       "version_major": 2,
       "version_minor": 0
      },
      "text/plain": [
       "  0%|          | 0/5 [00:00<?, ?it/s]"
      ]
     },
     "metadata": {},
     "output_type": "display_data"
    },
    {
     "name": "stdout",
     "output_type": "stream",
     "text": [
      "{'eval_loss': 1.1500064134597778, 'eval_accuracy': 0.2, 'eval_f1': 0.06666666666666667, 'eval_runtime': 1.2472, 'eval_samples_per_second': 4.009, 'eval_steps_per_second': 4.009, 'epoch': 5.0}\n",
      "{'loss': 1.1227, 'grad_norm': 9.460415840148926, 'learning_rate': 1.4e-05, 'epoch': 6.0}\n"
     ]
    },
    {
     "data": {
      "application/vnd.jupyter.widget-view+json": {
       "model_id": "36532ceaabe442449811dbdd01f0e5fd",
       "version_major": 2,
       "version_minor": 0
      },
      "text/plain": [
       "  0%|          | 0/5 [00:00<?, ?it/s]"
      ]
     },
     "metadata": {},
     "output_type": "display_data"
    },
    {
     "name": "stdout",
     "output_type": "stream",
     "text": [
      "{'eval_loss': 1.2012755870819092, 'eval_accuracy': 0.2, 'eval_f1': 0.06666666666666667, 'eval_runtime': 1.2192, 'eval_samples_per_second': 4.101, 'eval_steps_per_second': 4.101, 'epoch': 6.0}\n",
      "{'loss': 0.9331, 'grad_norm': 13.309745788574219, 'learning_rate': 1.3000000000000001e-05, 'epoch': 7.0}\n"
     ]
    },
    {
     "data": {
      "application/vnd.jupyter.widget-view+json": {
       "model_id": "a916e5a91c3c4e318943aeb9e9c7f727",
       "version_major": 2,
       "version_minor": 0
      },
      "text/plain": [
       "  0%|          | 0/5 [00:00<?, ?it/s]"
      ]
     },
     "metadata": {},
     "output_type": "display_data"
    },
    {
     "name": "stdout",
     "output_type": "stream",
     "text": [
      "{'eval_loss': 1.228084921836853, 'eval_accuracy': 0.2, 'eval_f1': 0.06666666666666667, 'eval_runtime': 1.2225, 'eval_samples_per_second': 4.09, 'eval_steps_per_second': 4.09, 'epoch': 7.0}\n",
      "{'loss': 0.8886, 'grad_norm': 9.892206192016602, 'learning_rate': 1.2e-05, 'epoch': 8.0}\n"
     ]
    },
    {
     "data": {
      "application/vnd.jupyter.widget-view+json": {
       "model_id": "4dbfd126d4c4442589005f70d5d3d0a9",
       "version_major": 2,
       "version_minor": 0
      },
      "text/plain": [
       "  0%|          | 0/5 [00:00<?, ?it/s]"
      ]
     },
     "metadata": {},
     "output_type": "display_data"
    },
    {
     "name": "stdout",
     "output_type": "stream",
     "text": [
      "{'eval_loss': 1.3707287311553955, 'eval_accuracy': 0.2, 'eval_f1': 0.06666666666666667, 'eval_runtime': 1.2167, 'eval_samples_per_second': 4.109, 'eval_steps_per_second': 4.109, 'epoch': 8.0}\n",
      "{'loss': 0.7912, 'grad_norm': 8.491416931152344, 'learning_rate': 1.1000000000000001e-05, 'epoch': 9.0}\n"
     ]
    },
    {
     "data": {
      "application/vnd.jupyter.widget-view+json": {
       "model_id": "84a065c040b24aa9b0071833bc27191c",
       "version_major": 2,
       "version_minor": 0
      },
      "text/plain": [
       "  0%|          | 0/5 [00:00<?, ?it/s]"
      ]
     },
     "metadata": {},
     "output_type": "display_data"
    },
    {
     "name": "stdout",
     "output_type": "stream",
     "text": [
      "{'eval_loss': 1.205600380897522, 'eval_accuracy': 0.2, 'eval_f1': 0.06666666666666667, 'eval_runtime': 1.3043, 'eval_samples_per_second': 3.833, 'eval_steps_per_second': 3.833, 'epoch': 9.0}\n",
      "{'loss': 0.7645, 'grad_norm': 7.788821697235107, 'learning_rate': 1e-05, 'epoch': 10.0}\n"
     ]
    },
    {
     "data": {
      "application/vnd.jupyter.widget-view+json": {
       "model_id": "a8ed978738a94d8ba5aa27da682e1745",
       "version_major": 2,
       "version_minor": 0
      },
      "text/plain": [
       "  0%|          | 0/5 [00:00<?, ?it/s]"
      ]
     },
     "metadata": {},
     "output_type": "display_data"
    },
    {
     "name": "stdout",
     "output_type": "stream",
     "text": [
      "{'eval_loss': 1.2606313228607178, 'eval_accuracy': 0.4, 'eval_f1': 0.3466666666666667, 'eval_runtime': 1.281, 'eval_samples_per_second': 3.903, 'eval_steps_per_second': 3.903, 'epoch': 10.0}\n",
      "{'loss': 0.7061, 'grad_norm': 8.695698738098145, 'learning_rate': 9e-06, 'epoch': 11.0}\n"
     ]
    },
    {
     "data": {
      "application/vnd.jupyter.widget-view+json": {
       "model_id": "f8e265eb1e134aa09cccc0e99e7dec05",
       "version_major": 2,
       "version_minor": 0
      },
      "text/plain": [
       "  0%|          | 0/5 [00:00<?, ?it/s]"
      ]
     },
     "metadata": {},
     "output_type": "display_data"
    },
    {
     "name": "stdout",
     "output_type": "stream",
     "text": [
      "{'eval_loss': 1.301788330078125, 'eval_accuracy': 0.4, 'eval_f1': 0.3466666666666667, 'eval_runtime': 1.2318, 'eval_samples_per_second': 4.059, 'eval_steps_per_second': 4.059, 'epoch': 11.0}\n",
      "{'loss': 0.67, 'grad_norm': 5.898575305938721, 'learning_rate': 8.000000000000001e-06, 'epoch': 12.0}\n"
     ]
    },
    {
     "data": {
      "application/vnd.jupyter.widget-view+json": {
       "model_id": "eb50ba9192a0423eb18df49aab3d0f39",
       "version_major": 2,
       "version_minor": 0
      },
      "text/plain": [
       "  0%|          | 0/5 [00:00<?, ?it/s]"
      ]
     },
     "metadata": {},
     "output_type": "display_data"
    },
    {
     "name": "stdout",
     "output_type": "stream",
     "text": [
      "{'eval_loss': 1.181201696395874, 'eval_accuracy': 0.4, 'eval_f1': 0.3466666666666667, 'eval_runtime': 1.2407, 'eval_samples_per_second': 4.03, 'eval_steps_per_second': 4.03, 'epoch': 12.0}\n",
      "{'loss': 0.5768, 'grad_norm': 5.834155559539795, 'learning_rate': 7e-06, 'epoch': 13.0}\n"
     ]
    },
    {
     "data": {
      "application/vnd.jupyter.widget-view+json": {
       "model_id": "7a87661d52854f13a5a78e499fefc2c1",
       "version_major": 2,
       "version_minor": 0
      },
      "text/plain": [
       "  0%|          | 0/5 [00:00<?, ?it/s]"
      ]
     },
     "metadata": {},
     "output_type": "display_data"
    },
    {
     "name": "stdout",
     "output_type": "stream",
     "text": [
      "{'eval_loss': 1.2224562168121338, 'eval_accuracy': 0.4, 'eval_f1': 0.3466666666666667, 'eval_runtime': 1.2315, 'eval_samples_per_second': 4.06, 'eval_steps_per_second': 4.06, 'epoch': 13.0}\n",
      "{'loss': 0.4893, 'grad_norm': 18.326879501342773, 'learning_rate': 6e-06, 'epoch': 14.0}\n"
     ]
    },
    {
     "data": {
      "application/vnd.jupyter.widget-view+json": {
       "model_id": "6d50c672ee034a46b9793bc66bbc2221",
       "version_major": 2,
       "version_minor": 0
      },
      "text/plain": [
       "  0%|          | 0/5 [00:00<?, ?it/s]"
      ]
     },
     "metadata": {},
     "output_type": "display_data"
    },
    {
     "name": "stdout",
     "output_type": "stream",
     "text": [
      "{'eval_loss': 1.2091728448867798, 'eval_accuracy': 0.4, 'eval_f1': 0.3466666666666667, 'eval_runtime': 1.1875, 'eval_samples_per_second': 4.211, 'eval_steps_per_second': 4.211, 'epoch': 14.0}\n",
      "{'loss': 0.4565, 'grad_norm': 2.8798296451568604, 'learning_rate': 5e-06, 'epoch': 15.0}\n"
     ]
    },
    {
     "data": {
      "application/vnd.jupyter.widget-view+json": {
       "model_id": "8cbdff968fcd4fc2903f0539610acf81",
       "version_major": 2,
       "version_minor": 0
      },
      "text/plain": [
       "  0%|          | 0/5 [00:00<?, ?it/s]"
      ]
     },
     "metadata": {},
     "output_type": "display_data"
    },
    {
     "name": "stdout",
     "output_type": "stream",
     "text": [
      "{'eval_loss': 1.0896174907684326, 'eval_accuracy': 0.4, 'eval_f1': 0.3466666666666667, 'eval_runtime': 1.199, 'eval_samples_per_second': 4.17, 'eval_steps_per_second': 4.17, 'epoch': 15.0}\n",
      "{'loss': 0.4258, 'grad_norm': 3.137932300567627, 'learning_rate': 4.000000000000001e-06, 'epoch': 16.0}\n"
     ]
    },
    {
     "data": {
      "application/vnd.jupyter.widget-view+json": {
       "model_id": "d042f8d1ebd04022accbeade81de9f44",
       "version_major": 2,
       "version_minor": 0
      },
      "text/plain": [
       "  0%|          | 0/5 [00:00<?, ?it/s]"
      ]
     },
     "metadata": {},
     "output_type": "display_data"
    },
    {
     "name": "stdout",
     "output_type": "stream",
     "text": [
      "{'eval_loss': 1.1726857423782349, 'eval_accuracy': 0.4, 'eval_f1': 0.3466666666666667, 'eval_runtime': 1.1877, 'eval_samples_per_second': 4.21, 'eval_steps_per_second': 4.21, 'epoch': 16.0}\n",
      "{'loss': 0.4137, 'grad_norm': 2.465749740600586, 'learning_rate': 3e-06, 'epoch': 17.0}\n"
     ]
    },
    {
     "data": {
      "application/vnd.jupyter.widget-view+json": {
       "model_id": "cf770316701c46e89a3b4b79febf4429",
       "version_major": 2,
       "version_minor": 0
      },
      "text/plain": [
       "  0%|          | 0/5 [00:00<?, ?it/s]"
      ]
     },
     "metadata": {},
     "output_type": "display_data"
    },
    {
     "name": "stdout",
     "output_type": "stream",
     "text": [
      "{'eval_loss': 1.1477117538452148, 'eval_accuracy': 0.4, 'eval_f1': 0.3, 'eval_runtime': 1.1482, 'eval_samples_per_second': 4.355, 'eval_steps_per_second': 4.355, 'epoch': 17.0}\n",
      "{'loss': 0.3755, 'grad_norm': 2.1963443756103516, 'learning_rate': 2.0000000000000003e-06, 'epoch': 18.0}\n"
     ]
    },
    {
     "data": {
      "application/vnd.jupyter.widget-view+json": {
       "model_id": "2864653abfbb4a199f8239d8fb8c7356",
       "version_major": 2,
       "version_minor": 0
      },
      "text/plain": [
       "  0%|          | 0/5 [00:00<?, ?it/s]"
      ]
     },
     "metadata": {},
     "output_type": "display_data"
    },
    {
     "name": "stdout",
     "output_type": "stream",
     "text": [
      "{'eval_loss': 1.0761504173278809, 'eval_accuracy': 0.4, 'eval_f1': 0.3, 'eval_runtime': 1.1941, 'eval_samples_per_second': 4.187, 'eval_steps_per_second': 4.187, 'epoch': 18.0}\n",
      "{'loss': 0.338, 'grad_norm': 7.272915840148926, 'learning_rate': 1.0000000000000002e-06, 'epoch': 19.0}\n"
     ]
    },
    {
     "data": {
      "application/vnd.jupyter.widget-view+json": {
       "model_id": "12ac643a083d41da9ba02f662cbec30f",
       "version_major": 2,
       "version_minor": 0
      },
      "text/plain": [
       "  0%|          | 0/5 [00:00<?, ?it/s]"
      ]
     },
     "metadata": {},
     "output_type": "display_data"
    },
    {
     "name": "stdout",
     "output_type": "stream",
     "text": [
      "{'eval_loss': 1.0705875158309937, 'eval_accuracy': 0.4, 'eval_f1': 0.3, 'eval_runtime': 1.2075, 'eval_samples_per_second': 4.141, 'eval_steps_per_second': 4.141, 'epoch': 19.0}\n",
      "{'loss': 0.3382, 'grad_norm': 7.091785907745361, 'learning_rate': 0.0, 'epoch': 20.0}\n"
     ]
    },
    {
     "data": {
      "application/vnd.jupyter.widget-view+json": {
       "model_id": "d2920a8831884caa8db58dd56ef605b7",
       "version_major": 2,
       "version_minor": 0
      },
      "text/plain": [
       "  0%|          | 0/5 [00:00<?, ?it/s]"
      ]
     },
     "metadata": {},
     "output_type": "display_data"
    },
    {
     "name": "stdout",
     "output_type": "stream",
     "text": [
      "{'eval_loss': 1.062636375427246, 'eval_accuracy': 0.4, 'eval_f1': 0.3, 'eval_runtime': 1.1825, 'eval_samples_per_second': 4.228, 'eval_steps_per_second': 4.228, 'epoch': 20.0}\n",
      "{'train_runtime': 263.1584, 'train_samples_per_second': 0.76, 'train_steps_per_second': 0.76, 'train_loss': 0.740736973285675, 'epoch': 20.0}\n"
     ]
    },
    {
     "data": {
      "text/plain": [
       "TrainOutput(global_step=200, training_loss=0.740736973285675, metrics={'train_runtime': 263.1584, 'train_samples_per_second': 0.76, 'train_steps_per_second': 0.76, 'total_flos': 23078716178400.0, 'train_loss': 0.740736973285675, 'epoch': 20.0})"
      ]
     },
     "execution_count": 101,
     "metadata": {},
     "output_type": "execute_result"
    }
   ],
   "source": [
    "model = DistilBertForSequenceClassification.from_pretrained(model_ckpt, num_labels=3)\n",
    "\n",
    "batch_size = 1\n",
    "logging_steps = len(dataset_encoded[\"train\"]) // batch_size\n",
    "model_name = f\"{model_ckpt}-finetuned-emotion\"\n",
    "training_args = TrainingArguments(output_dir=model_name,\n",
    "                                  num_train_epochs=20,\n",
    "                                  learning_rate=2e-5,\n",
    "                                  per_device_train_batch_size=batch_size,\n",
    "                                  per_device_eval_batch_size=batch_size,\n",
    "                                  weight_decay=0.01,\n",
    "                                  evaluation_strategy=\"epoch\",\n",
    "                                  disable_tqdm=False,\n",
    "                                  logging_steps=logging_steps,\n",
    "                                  push_to_hub=False, \n",
    "                                  log_level=\"error\")\n",
    "\n",
    "trainer = Trainer(model=model, args=training_args, \n",
    "                  compute_metrics=compute_metrics,\n",
    "                  train_dataset=dataset_encoded[\"train\"],\n",
    "                  eval_dataset=dataset_encoded[\"test\"],\n",
    "                  tokenizer=tokenizer)\n",
    "\n",
    "# Now you can train the model\n",
    "trainer.train()\n"
   ]
  },
  {
   "cell_type": "code",
   "execution_count": 102,
   "metadata": {},
   "outputs": [
    {
     "data": {
      "text/plain": [
       "('./models/DistilBertForSequenceClassification_finetune\\\\tokenizer_config.json',\n",
       " './models/DistilBertForSequenceClassification_finetune\\\\special_tokens_map.json',\n",
       " './models/DistilBertForSequenceClassification_finetune\\\\vocab.txt',\n",
       " './models/DistilBertForSequenceClassification_finetune\\\\added_tokens.json')"
      ]
     },
     "execution_count": 102,
     "metadata": {},
     "output_type": "execute_result"
    }
   ],
   "source": [
    "trainer.save_model(\"./models/DistilBertForSequenceClassification_finetune\")\n",
    "tokenizer.save_pretrained(\"./models/DistilBertForSequenceClassification_finetune\")"
   ]
  },
  {
   "cell_type": "code",
   "execution_count": 103,
   "metadata": {},
   "outputs": [
    {
     "data": {
      "text/plain": [
       "DistilBertForSequenceClassification(\n",
       "  (distilbert): DistilBertModel(\n",
       "    (embeddings): Embeddings(\n",
       "      (word_embeddings): Embedding(30522, 768, padding_idx=0)\n",
       "      (position_embeddings): Embedding(512, 768)\n",
       "      (LayerNorm): LayerNorm((768,), eps=1e-12, elementwise_affine=True)\n",
       "      (dropout): Dropout(p=0.1, inplace=False)\n",
       "    )\n",
       "    (transformer): Transformer(\n",
       "      (layer): ModuleList(\n",
       "        (0-5): 6 x TransformerBlock(\n",
       "          (attention): MultiHeadSelfAttention(\n",
       "            (dropout): Dropout(p=0.1, inplace=False)\n",
       "            (q_lin): Linear(in_features=768, out_features=768, bias=True)\n",
       "            (k_lin): Linear(in_features=768, out_features=768, bias=True)\n",
       "            (v_lin): Linear(in_features=768, out_features=768, bias=True)\n",
       "            (out_lin): Linear(in_features=768, out_features=768, bias=True)\n",
       "          )\n",
       "          (sa_layer_norm): LayerNorm((768,), eps=1e-12, elementwise_affine=True)\n",
       "          (ffn): FFN(\n",
       "            (dropout): Dropout(p=0.1, inplace=False)\n",
       "            (lin1): Linear(in_features=768, out_features=3072, bias=True)\n",
       "            (lin2): Linear(in_features=3072, out_features=768, bias=True)\n",
       "            (activation): GELUActivation()\n",
       "          )\n",
       "          (output_layer_norm): LayerNorm((768,), eps=1e-12, elementwise_affine=True)\n",
       "        )\n",
       "      )\n",
       "    )\n",
       "  )\n",
       "  (pre_classifier): Linear(in_features=768, out_features=768, bias=True)\n",
       "  (classifier): Linear(in_features=768, out_features=3, bias=True)\n",
       "  (dropout): Dropout(p=0.2, inplace=False)\n",
       ")"
      ]
     },
     "execution_count": 103,
     "metadata": {},
     "output_type": "execute_result"
    }
   ],
   "source": [
    "# Load the model and tokenizer for classification\n",
    "model_name = \"./models/DistilBertForSequenceClassification_finetune\"\n",
    "model = DistilBertForSequenceClassification.from_pretrained(model_name)\n",
    "tokenizer = DistilBertTokenizer.from_pretrained(model_name)\n",
    "model.eval()\n"
   ]
  },
  {
   "cell_type": "code",
   "execution_count": 118,
   "metadata": {},
   "outputs": [],
   "source": [
    "def get_embeddings(texts, model, tokenizer):\n",
    "    # Tokenize the input texts\n",
    "    inputs = tokenizer(texts, return_tensors=\"pt\", padding=True, truncation=True)\n",
    "    # Pass inputs through the model to get hidden states\n",
    "    with torch.no_grad():\n",
    "        outputs = model(**inputs, output_hidden_states=True)\n",
    "    # Get the embeddings from the last hidden state\n",
    "    hidden_states = outputs.hidden_states[-1]\n",
    "    # Average the hidden states to get a single vector representation for each text\n",
    "    embeddings = hidden_states.mean(dim=1)\n",
    "    return embeddings\n"
   ]
  },
  {
   "cell_type": "code",
   "execution_count": 119,
   "metadata": {},
   "outputs": [],
   "source": [
    "# Extract texts from the dictionary\n",
    "texts = list(extracted_content.values())\n",
    "\n",
    "# Get embeddings for all documents\n",
    "embeddings = get_embeddings(texts, model, tokenizer)\n",
    "\n",
    "# Compute cosine similarity between all pairs of embeddings\n",
    "cosine_similarities = cosine_similarity(embeddings)\n",
    "\n",
    "# Convert cosine similarity matrix to a DataFrame\n",
    "doc_keys = list(extracted_content.keys())\n",
    "cosine_sim_df = pd.DataFrame(cosine_similarities, index=doc_keys, columns=doc_keys)\n"
   ]
  },
  {
   "cell_type": "code",
   "execution_count": 120,
   "metadata": {},
   "outputs": [
    {
     "data": {
      "text/html": [
       "<div>\n",
       "<style scoped>\n",
       "    .dataframe tbody tr th:only-of-type {\n",
       "        vertical-align: middle;\n",
       "    }\n",
       "\n",
       "    .dataframe tbody tr th {\n",
       "        vertical-align: top;\n",
       "    }\n",
       "\n",
       "    .dataframe thead th {\n",
       "        text-align: right;\n",
       "    }\n",
       "</style>\n",
       "<table border=\"1\" class=\"dataframe\">\n",
       "  <thead>\n",
       "    <tr style=\"text-align: right;\">\n",
       "      <th></th>\n",
       "      <th>34944_高鐵_促參.pdf</th>\n",
       "      <th>38005_核四_政策.pdf</th>\n",
       "      <th>39243_核四_品質.pdf</th>\n",
       "      <th>39477_核四_料件.pdf</th>\n",
       "      <th>46365_高鐵_基金.pdf</th>\n",
       "      <th>48052_大客車_逃生門.pdf</th>\n",
       "      <th>48746_大客車_安全門.pdf</th>\n",
       "      <th>49490_核四_延宕.pdf</th>\n",
       "      <th>49627_核四_停建.pdf</th>\n",
       "      <th>49676_大客車_駕照.pdf</th>\n",
       "      <th>52922_大客車_超時.pdf</th>\n",
       "      <th>54210_高鐵_出資.pdf</th>\n",
       "      <th>54376_高鐵_航發.pdf</th>\n",
       "      <th>54561_高鐵_機電.pdf</th>\n",
       "      <th>58930_核四_封存.pdf</th>\n",
       "    </tr>\n",
       "  </thead>\n",
       "  <tbody>\n",
       "    <tr>\n",
       "      <th>34944_高鐵_促參.pdf</th>\n",
       "      <td>1.000000</td>\n",
       "      <td>0.962280</td>\n",
       "      <td>0.974743</td>\n",
       "      <td>0.980940</td>\n",
       "      <td>0.983955</td>\n",
       "      <td>0.961192</td>\n",
       "      <td>0.957041</td>\n",
       "      <td>0.949913</td>\n",
       "      <td>0.966856</td>\n",
       "      <td>0.986660</td>\n",
       "      <td>0.981854</td>\n",
       "      <td>0.918519</td>\n",
       "      <td>0.967689</td>\n",
       "      <td>0.894094</td>\n",
       "      <td>0.968567</td>\n",
       "    </tr>\n",
       "    <tr>\n",
       "      <th>38005_核四_政策.pdf</th>\n",
       "      <td>0.962280</td>\n",
       "      <td>1.000000</td>\n",
       "      <td>0.937627</td>\n",
       "      <td>0.981116</td>\n",
       "      <td>0.942181</td>\n",
       "      <td>0.899119</td>\n",
       "      <td>0.978538</td>\n",
       "      <td>0.981397</td>\n",
       "      <td>0.989672</td>\n",
       "      <td>0.976286</td>\n",
       "      <td>0.962156</td>\n",
       "      <td>0.954688</td>\n",
       "      <td>0.978305</td>\n",
       "      <td>0.824177</td>\n",
       "      <td>0.983393</td>\n",
       "    </tr>\n",
       "    <tr>\n",
       "      <th>39243_核四_品質.pdf</th>\n",
       "      <td>0.974743</td>\n",
       "      <td>0.937627</td>\n",
       "      <td>1.000000</td>\n",
       "      <td>0.952167</td>\n",
       "      <td>0.974248</td>\n",
       "      <td>0.967946</td>\n",
       "      <td>0.924130</td>\n",
       "      <td>0.923296</td>\n",
       "      <td>0.939098</td>\n",
       "      <td>0.963191</td>\n",
       "      <td>0.958713</td>\n",
       "      <td>0.866308</td>\n",
       "      <td>0.932105</td>\n",
       "      <td>0.894870</td>\n",
       "      <td>0.951001</td>\n",
       "    </tr>\n",
       "    <tr>\n",
       "      <th>39477_核四_料件.pdf</th>\n",
       "      <td>0.980940</td>\n",
       "      <td>0.981116</td>\n",
       "      <td>0.952167</td>\n",
       "      <td>1.000000</td>\n",
       "      <td>0.962773</td>\n",
       "      <td>0.928281</td>\n",
       "      <td>0.985181</td>\n",
       "      <td>0.981115</td>\n",
       "      <td>0.990165</td>\n",
       "      <td>0.989079</td>\n",
       "      <td>0.985264</td>\n",
       "      <td>0.960494</td>\n",
       "      <td>0.988859</td>\n",
       "      <td>0.833852</td>\n",
       "      <td>0.988852</td>\n",
       "    </tr>\n",
       "    <tr>\n",
       "      <th>46365_高鐵_基金.pdf</th>\n",
       "      <td>0.983955</td>\n",
       "      <td>0.942181</td>\n",
       "      <td>0.974248</td>\n",
       "      <td>0.962773</td>\n",
       "      <td>1.000000</td>\n",
       "      <td>0.966325</td>\n",
       "      <td>0.936774</td>\n",
       "      <td>0.930900</td>\n",
       "      <td>0.942926</td>\n",
       "      <td>0.968626</td>\n",
       "      <td>0.965432</td>\n",
       "      <td>0.896264</td>\n",
       "      <td>0.949064</td>\n",
       "      <td>0.912097</td>\n",
       "      <td>0.948836</td>\n",
       "    </tr>\n",
       "    <tr>\n",
       "      <th>48052_大客車_逃生門.pdf</th>\n",
       "      <td>0.961192</td>\n",
       "      <td>0.899119</td>\n",
       "      <td>0.967946</td>\n",
       "      <td>0.928281</td>\n",
       "      <td>0.966325</td>\n",
       "      <td>1.000000</td>\n",
       "      <td>0.883831</td>\n",
       "      <td>0.874687</td>\n",
       "      <td>0.900912</td>\n",
       "      <td>0.944919</td>\n",
       "      <td>0.942805</td>\n",
       "      <td>0.820494</td>\n",
       "      <td>0.897106</td>\n",
       "      <td>0.907426</td>\n",
       "      <td>0.910080</td>\n",
       "    </tr>\n",
       "    <tr>\n",
       "      <th>48746_大客車_安全門.pdf</th>\n",
       "      <td>0.957041</td>\n",
       "      <td>0.978538</td>\n",
       "      <td>0.924130</td>\n",
       "      <td>0.985181</td>\n",
       "      <td>0.936774</td>\n",
       "      <td>0.883831</td>\n",
       "      <td>1.000000</td>\n",
       "      <td>0.989947</td>\n",
       "      <td>0.990211</td>\n",
       "      <td>0.979068</td>\n",
       "      <td>0.970056</td>\n",
       "      <td>0.979183</td>\n",
       "      <td>0.991997</td>\n",
       "      <td>0.790399</td>\n",
       "      <td>0.983443</td>\n",
       "    </tr>\n",
       "    <tr>\n",
       "      <th>49490_核四_延宕.pdf</th>\n",
       "      <td>0.949913</td>\n",
       "      <td>0.981397</td>\n",
       "      <td>0.923296</td>\n",
       "      <td>0.981115</td>\n",
       "      <td>0.930900</td>\n",
       "      <td>0.874687</td>\n",
       "      <td>0.989947</td>\n",
       "      <td>1.000000</td>\n",
       "      <td>0.991793</td>\n",
       "      <td>0.973724</td>\n",
       "      <td>0.967373</td>\n",
       "      <td>0.972944</td>\n",
       "      <td>0.988754</td>\n",
       "      <td>0.784708</td>\n",
       "      <td>0.986784</td>\n",
       "    </tr>\n",
       "    <tr>\n",
       "      <th>49627_核四_停建.pdf</th>\n",
       "      <td>0.966856</td>\n",
       "      <td>0.989672</td>\n",
       "      <td>0.939098</td>\n",
       "      <td>0.990165</td>\n",
       "      <td>0.942926</td>\n",
       "      <td>0.900912</td>\n",
       "      <td>0.990211</td>\n",
       "      <td>0.991793</td>\n",
       "      <td>1.000000</td>\n",
       "      <td>0.983878</td>\n",
       "      <td>0.977314</td>\n",
       "      <td>0.966638</td>\n",
       "      <td>0.989626</td>\n",
       "      <td>0.803488</td>\n",
       "      <td>0.993448</td>\n",
       "    </tr>\n",
       "    <tr>\n",
       "      <th>49676_大客車_駕照.pdf</th>\n",
       "      <td>0.986660</td>\n",
       "      <td>0.976286</td>\n",
       "      <td>0.963191</td>\n",
       "      <td>0.989079</td>\n",
       "      <td>0.968626</td>\n",
       "      <td>0.944919</td>\n",
       "      <td>0.979068</td>\n",
       "      <td>0.973724</td>\n",
       "      <td>0.983878</td>\n",
       "      <td>1.000000</td>\n",
       "      <td>0.991682</td>\n",
       "      <td>0.938168</td>\n",
       "      <td>0.981119</td>\n",
       "      <td>0.847832</td>\n",
       "      <td>0.985918</td>\n",
       "    </tr>\n",
       "    <tr>\n",
       "      <th>52922_大客車_超時.pdf</th>\n",
       "      <td>0.981854</td>\n",
       "      <td>0.962156</td>\n",
       "      <td>0.958713</td>\n",
       "      <td>0.985264</td>\n",
       "      <td>0.965432</td>\n",
       "      <td>0.942805</td>\n",
       "      <td>0.970056</td>\n",
       "      <td>0.967373</td>\n",
       "      <td>0.977314</td>\n",
       "      <td>0.991682</td>\n",
       "      <td>1.000000</td>\n",
       "      <td>0.928190</td>\n",
       "      <td>0.972218</td>\n",
       "      <td>0.821230</td>\n",
       "      <td>0.981521</td>\n",
       "    </tr>\n",
       "    <tr>\n",
       "      <th>54210_高鐵_出資.pdf</th>\n",
       "      <td>0.918519</td>\n",
       "      <td>0.954688</td>\n",
       "      <td>0.866308</td>\n",
       "      <td>0.960494</td>\n",
       "      <td>0.896264</td>\n",
       "      <td>0.820494</td>\n",
       "      <td>0.979183</td>\n",
       "      <td>0.972944</td>\n",
       "      <td>0.966638</td>\n",
       "      <td>0.938168</td>\n",
       "      <td>0.928190</td>\n",
       "      <td>1.000000</td>\n",
       "      <td>0.978911</td>\n",
       "      <td>0.753107</td>\n",
       "      <td>0.950631</td>\n",
       "    </tr>\n",
       "    <tr>\n",
       "      <th>54376_高鐵_航發.pdf</th>\n",
       "      <td>0.967689</td>\n",
       "      <td>0.978305</td>\n",
       "      <td>0.932105</td>\n",
       "      <td>0.988859</td>\n",
       "      <td>0.949064</td>\n",
       "      <td>0.897106</td>\n",
       "      <td>0.991997</td>\n",
       "      <td>0.988754</td>\n",
       "      <td>0.989626</td>\n",
       "      <td>0.981119</td>\n",
       "      <td>0.972218</td>\n",
       "      <td>0.978911</td>\n",
       "      <td>1.000000</td>\n",
       "      <td>0.821860</td>\n",
       "      <td>0.983509</td>\n",
       "    </tr>\n",
       "    <tr>\n",
       "      <th>54561_高鐵_機電.pdf</th>\n",
       "      <td>0.894094</td>\n",
       "      <td>0.824177</td>\n",
       "      <td>0.894870</td>\n",
       "      <td>0.833852</td>\n",
       "      <td>0.912097</td>\n",
       "      <td>0.907426</td>\n",
       "      <td>0.790399</td>\n",
       "      <td>0.784708</td>\n",
       "      <td>0.803488</td>\n",
       "      <td>0.847832</td>\n",
       "      <td>0.821230</td>\n",
       "      <td>0.753107</td>\n",
       "      <td>0.821860</td>\n",
       "      <td>1.000000</td>\n",
       "      <td>0.807071</td>\n",
       "    </tr>\n",
       "    <tr>\n",
       "      <th>58930_核四_封存.pdf</th>\n",
       "      <td>0.968567</td>\n",
       "      <td>0.983393</td>\n",
       "      <td>0.951001</td>\n",
       "      <td>0.988852</td>\n",
       "      <td>0.948836</td>\n",
       "      <td>0.910080</td>\n",
       "      <td>0.983443</td>\n",
       "      <td>0.986784</td>\n",
       "      <td>0.993448</td>\n",
       "      <td>0.985918</td>\n",
       "      <td>0.981521</td>\n",
       "      <td>0.950631</td>\n",
       "      <td>0.983509</td>\n",
       "      <td>0.807071</td>\n",
       "      <td>1.000000</td>\n",
       "    </tr>\n",
       "  </tbody>\n",
       "</table>\n",
       "</div>"
      ],
      "text/plain": [
       "                   34944_高鐵_促參.pdf  38005_核四_政策.pdf  39243_核四_品質.pdf  \\\n",
       "34944_高鐵_促參.pdf           1.000000         0.962280         0.974743   \n",
       "38005_核四_政策.pdf           0.962280         1.000000         0.937627   \n",
       "39243_核四_品質.pdf           0.974743         0.937627         1.000000   \n",
       "39477_核四_料件.pdf           0.980940         0.981116         0.952167   \n",
       "46365_高鐵_基金.pdf           0.983955         0.942181         0.974248   \n",
       "48052_大客車_逃生門.pdf         0.961192         0.899119         0.967946   \n",
       "48746_大客車_安全門.pdf         0.957041         0.978538         0.924130   \n",
       "49490_核四_延宕.pdf           0.949913         0.981397         0.923296   \n",
       "49627_核四_停建.pdf           0.966856         0.989672         0.939098   \n",
       "49676_大客車_駕照.pdf          0.986660         0.976286         0.963191   \n",
       "52922_大客車_超時.pdf          0.981854         0.962156         0.958713   \n",
       "54210_高鐵_出資.pdf           0.918519         0.954688         0.866308   \n",
       "54376_高鐵_航發.pdf           0.967689         0.978305         0.932105   \n",
       "54561_高鐵_機電.pdf           0.894094         0.824177         0.894870   \n",
       "58930_核四_封存.pdf           0.968567         0.983393         0.951001   \n",
       "\n",
       "                   39477_核四_料件.pdf  46365_高鐵_基金.pdf  48052_大客車_逃生門.pdf  \\\n",
       "34944_高鐵_促參.pdf           0.980940         0.983955           0.961192   \n",
       "38005_核四_政策.pdf           0.981116         0.942181           0.899119   \n",
       "39243_核四_品質.pdf           0.952167         0.974248           0.967946   \n",
       "39477_核四_料件.pdf           1.000000         0.962773           0.928281   \n",
       "46365_高鐵_基金.pdf           0.962773         1.000000           0.966325   \n",
       "48052_大客車_逃生門.pdf         0.928281         0.966325           1.000000   \n",
       "48746_大客車_安全門.pdf         0.985181         0.936774           0.883831   \n",
       "49490_核四_延宕.pdf           0.981115         0.930900           0.874687   \n",
       "49627_核四_停建.pdf           0.990165         0.942926           0.900912   \n",
       "49676_大客車_駕照.pdf          0.989079         0.968626           0.944919   \n",
       "52922_大客車_超時.pdf          0.985264         0.965432           0.942805   \n",
       "54210_高鐵_出資.pdf           0.960494         0.896264           0.820494   \n",
       "54376_高鐵_航發.pdf           0.988859         0.949064           0.897106   \n",
       "54561_高鐵_機電.pdf           0.833852         0.912097           0.907426   \n",
       "58930_核四_封存.pdf           0.988852         0.948836           0.910080   \n",
       "\n",
       "                   48746_大客車_安全門.pdf  49490_核四_延宕.pdf  49627_核四_停建.pdf  \\\n",
       "34944_高鐵_促參.pdf             0.957041         0.949913         0.966856   \n",
       "38005_核四_政策.pdf             0.978538         0.981397         0.989672   \n",
       "39243_核四_品質.pdf             0.924130         0.923296         0.939098   \n",
       "39477_核四_料件.pdf             0.985181         0.981115         0.990165   \n",
       "46365_高鐵_基金.pdf             0.936774         0.930900         0.942926   \n",
       "48052_大客車_逃生門.pdf           0.883831         0.874687         0.900912   \n",
       "48746_大客車_安全門.pdf           1.000000         0.989947         0.990211   \n",
       "49490_核四_延宕.pdf             0.989947         1.000000         0.991793   \n",
       "49627_核四_停建.pdf             0.990211         0.991793         1.000000   \n",
       "49676_大客車_駕照.pdf            0.979068         0.973724         0.983878   \n",
       "52922_大客車_超時.pdf            0.970056         0.967373         0.977314   \n",
       "54210_高鐵_出資.pdf             0.979183         0.972944         0.966638   \n",
       "54376_高鐵_航發.pdf             0.991997         0.988754         0.989626   \n",
       "54561_高鐵_機電.pdf             0.790399         0.784708         0.803488   \n",
       "58930_核四_封存.pdf             0.983443         0.986784         0.993448   \n",
       "\n",
       "                   49676_大客車_駕照.pdf  52922_大客車_超時.pdf  54210_高鐵_出資.pdf  \\\n",
       "34944_高鐵_促參.pdf            0.986660          0.981854         0.918519   \n",
       "38005_核四_政策.pdf            0.976286          0.962156         0.954688   \n",
       "39243_核四_品質.pdf            0.963191          0.958713         0.866308   \n",
       "39477_核四_料件.pdf            0.989079          0.985264         0.960494   \n",
       "46365_高鐵_基金.pdf            0.968626          0.965432         0.896264   \n",
       "48052_大客車_逃生門.pdf          0.944919          0.942805         0.820494   \n",
       "48746_大客車_安全門.pdf          0.979068          0.970056         0.979183   \n",
       "49490_核四_延宕.pdf            0.973724          0.967373         0.972944   \n",
       "49627_核四_停建.pdf            0.983878          0.977314         0.966638   \n",
       "49676_大客車_駕照.pdf           1.000000          0.991682         0.938168   \n",
       "52922_大客車_超時.pdf           0.991682          1.000000         0.928190   \n",
       "54210_高鐵_出資.pdf            0.938168          0.928190         1.000000   \n",
       "54376_高鐵_航發.pdf            0.981119          0.972218         0.978911   \n",
       "54561_高鐵_機電.pdf            0.847832          0.821230         0.753107   \n",
       "58930_核四_封存.pdf            0.985918          0.981521         0.950631   \n",
       "\n",
       "                   54376_高鐵_航發.pdf  54561_高鐵_機電.pdf  58930_核四_封存.pdf  \n",
       "34944_高鐵_促參.pdf           0.967689         0.894094         0.968567  \n",
       "38005_核四_政策.pdf           0.978305         0.824177         0.983393  \n",
       "39243_核四_品質.pdf           0.932105         0.894870         0.951001  \n",
       "39477_核四_料件.pdf           0.988859         0.833852         0.988852  \n",
       "46365_高鐵_基金.pdf           0.949064         0.912097         0.948836  \n",
       "48052_大客車_逃生門.pdf         0.897106         0.907426         0.910080  \n",
       "48746_大客車_安全門.pdf         0.991997         0.790399         0.983443  \n",
       "49490_核四_延宕.pdf           0.988754         0.784708         0.986784  \n",
       "49627_核四_停建.pdf           0.989626         0.803488         0.993448  \n",
       "49676_大客車_駕照.pdf          0.981119         0.847832         0.985918  \n",
       "52922_大客車_超時.pdf          0.972218         0.821230         0.981521  \n",
       "54210_高鐵_出資.pdf           0.978911         0.753107         0.950631  \n",
       "54376_高鐵_航發.pdf           1.000000         0.821860         0.983509  \n",
       "54561_高鐵_機電.pdf           0.821860         1.000000         0.807071  \n",
       "58930_核四_封存.pdf           0.983509         0.807071         1.000000  "
      ]
     },
     "execution_count": 120,
     "metadata": {},
     "output_type": "execute_result"
    }
   ],
   "source": [
    "cosine_sim_df"
   ]
  },
  {
   "cell_type": "code",
   "execution_count": 128,
   "metadata": {},
   "outputs": [
    {
     "data": {
      "text/plain": [
       "49490_核四_延宕.pdf      1.000000\n",
       "49627_核四_停建.pdf      0.991793\n",
       "48746_大客車_安全門.pdf    0.989947\n",
       "54376_高鐵_航發.pdf      0.988754\n",
       "58930_核四_封存.pdf      0.986784\n",
       "38005_核四_政策.pdf      0.981397\n",
       "39477_核四_料件.pdf      0.981115\n",
       "49676_大客車_駕照.pdf     0.973724\n",
       "54210_高鐵_出資.pdf      0.972944\n",
       "52922_大客車_超時.pdf     0.967373\n",
       "34944_高鐵_促參.pdf      0.949913\n",
       "46365_高鐵_基金.pdf      0.930900\n",
       "39243_核四_品質.pdf      0.923296\n",
       "48052_大客車_逃生門.pdf    0.874687\n",
       "54561_高鐵_機電.pdf      0.784708\n",
       "Name: 49490_核四_延宕.pdf, dtype: float32"
      ]
     },
     "execution_count": 128,
     "metadata": {},
     "output_type": "execute_result"
    }
   ],
   "source": [
    "cosine_sim_df['49490_核四_延宕.pdf'].sort_values(ascending=False)"
   ]
  },
  {
   "cell_type": "code",
   "execution_count": 124,
   "metadata": {},
   "outputs": [],
   "source": [
    "cosine_sim_df.to_csv('cos_sim_v1.csv', encoding='big5')"
   ]
  },
  {
   "cell_type": "markdown",
   "metadata": {},
   "source": [
    "## paraphrase-MiniLM-L6-v2"
   ]
  },
  {
   "cell_type": "code",
   "execution_count": 141,
   "metadata": {},
   "outputs": [],
   "source": [
    "from transformers import AutoModel, AutoTokenizer\n",
    "import torch"
   ]
  },
  {
   "cell_type": "code",
   "execution_count": 146,
   "metadata": {},
   "outputs": [],
   "source": [
    "tokenizer = AutoTokenizer.from_pretrained('sentence-transformers/paraphrase-MiniLM-L6-v2')\n",
    "model = AutoModel.from_pretrained('sentence-transformers/paraphrase-MiniLM-L6-v2')\n",
    "#Mean Pooling - Take attention mask into account for correct averaging\n",
    "def mean_pooling(model_output, attention_mask):\n",
    "    token_embeddings = model_output[0] #First element of model_output contains all token embeddings\n",
    "    input_mask_expanded = attention_mask.unsqueeze(-1).expand(token_embeddings.size()).float()\n",
    "    return torch.sum(token_embeddings * input_mask_expanded, 1) / torch.clamp(input_mask_expanded.sum(1), min=1e-9)\n",
    "\n",
    "def get_embeddings(texts, model, tokenizer):\n",
    "    # Tokenize the input texts\n",
    "    inputs = tokenizer(texts, return_tensors=\"pt\", padding=True, truncation=True)\n",
    "\n",
    "    # Pass inputs through the model to get hidden states\n",
    "    with torch.no_grad():\n",
    "        outputs = model(**inputs, output_hidden_states=True)\n",
    "\n",
    "    return outputs"
   ]
  },
  {
   "cell_type": "code",
   "execution_count": 147,
   "metadata": {},
   "outputs": [
    {
     "name": "stdout",
     "output_type": "stream",
     "text": [
      "start\n",
      "end\n"
     ]
    },
    {
     "ename": "RuntimeError",
     "evalue": "The expanded size of the tensor (446) must match the existing size (8) at non-singleton dimension 1.  Target sizes: [15, 446, 384].  Tensor sizes: [2, 8, 1]",
     "output_type": "error",
     "traceback": [
      "\u001b[1;31m---------------------------------------------------------------------------\u001b[0m",
      "\u001b[1;31mRuntimeError\u001b[0m                              Traceback (most recent call last)",
      "Cell \u001b[1;32mIn[147], line 8\u001b[0m\n\u001b[0;32m      5\u001b[0m embeddings \u001b[38;5;241m=\u001b[39m get_embeddings(texts, model, tokenizer)\n\u001b[0;32m      7\u001b[0m \u001b[38;5;66;03m# normalized embedding\u001b[39;00m\n\u001b[1;32m----> 8\u001b[0m norm_embeddings  \u001b[38;5;241m=\u001b[39m \u001b[43mmean_pooling\u001b[49m\u001b[43m(\u001b[49m\u001b[43membeddings\u001b[49m\u001b[43m,\u001b[49m\u001b[43m \u001b[49m\u001b[43mencoded_input\u001b[49m\u001b[43m[\u001b[49m\u001b[38;5;124;43m'\u001b[39;49m\u001b[38;5;124;43mattention_mask\u001b[39;49m\u001b[38;5;124;43m'\u001b[39;49m\u001b[43m]\u001b[49m\u001b[43m)\u001b[49m\n\u001b[0;32m     10\u001b[0m \u001b[38;5;66;03m# Compute cosine similarity between all pairs of embeddings\u001b[39;00m\n\u001b[0;32m     11\u001b[0m cosine_similarities \u001b[38;5;241m=\u001b[39m cosine_similarity(norm_embeddings)\n",
      "Cell \u001b[1;32mIn[146], line 6\u001b[0m, in \u001b[0;36mmean_pooling\u001b[1;34m(model_output, attention_mask)\u001b[0m\n\u001b[0;32m      4\u001b[0m \u001b[38;5;28;01mdef\u001b[39;00m \u001b[38;5;21mmean_pooling\u001b[39m(model_output, attention_mask):\n\u001b[0;32m      5\u001b[0m     token_embeddings \u001b[38;5;241m=\u001b[39m model_output[\u001b[38;5;241m0\u001b[39m] \u001b[38;5;66;03m#First element of model_output contains all token embeddings\u001b[39;00m\n\u001b[1;32m----> 6\u001b[0m     input_mask_expanded \u001b[38;5;241m=\u001b[39m \u001b[43mattention_mask\u001b[49m\u001b[38;5;241;43m.\u001b[39;49m\u001b[43munsqueeze\u001b[49m\u001b[43m(\u001b[49m\u001b[38;5;241;43m-\u001b[39;49m\u001b[38;5;241;43m1\u001b[39;49m\u001b[43m)\u001b[49m\u001b[38;5;241;43m.\u001b[39;49m\u001b[43mexpand\u001b[49m\u001b[43m(\u001b[49m\u001b[43mtoken_embeddings\u001b[49m\u001b[38;5;241;43m.\u001b[39;49m\u001b[43msize\u001b[49m\u001b[43m(\u001b[49m\u001b[43m)\u001b[49m\u001b[43m)\u001b[49m\u001b[38;5;241m.\u001b[39mfloat()\n\u001b[0;32m      7\u001b[0m     \u001b[38;5;28;01mreturn\u001b[39;00m torch\u001b[38;5;241m.\u001b[39msum(token_embeddings \u001b[38;5;241m*\u001b[39m input_mask_expanded, \u001b[38;5;241m1\u001b[39m) \u001b[38;5;241m/\u001b[39m torch\u001b[38;5;241m.\u001b[39mclamp(input_mask_expanded\u001b[38;5;241m.\u001b[39msum(\u001b[38;5;241m1\u001b[39m), \u001b[38;5;28mmin\u001b[39m\u001b[38;5;241m=\u001b[39m\u001b[38;5;241m1e-9\u001b[39m)\n",
      "\u001b[1;31mRuntimeError\u001b[0m: The expanded size of the tensor (446) must match the existing size (8) at non-singleton dimension 1.  Target sizes: [15, 446, 384].  Tensor sizes: [2, 8, 1]"
     ]
    }
   ],
   "source": [
    "# Extract texts from the dictionary\n",
    "texts = list(extracted_content.values())\n",
    "\n",
    "# Get embeddings for all documents\n",
    "embeddings = get_embeddings(texts, model, tokenizer)\n",
    "\n",
    "# normalized embedding\n",
    "norm_embeddings  = mean_pooling(embeddings, encoded_input['attention_mask'])\n",
    "\n",
    "# Compute cosine similarity between all pairs of embeddings\n",
    "cosine_similarities = cosine_similarity(norm_embeddings)\n",
    "\n",
    "# Convert cosine similarity matrix to a DataFrame\n",
    "doc_keys = list(extracted_content.keys())\n",
    "cosine_sim_df = pd.DataFrame(cosine_similarities, index=doc_keys, columns=doc_keys)\n"
   ]
  },
  {
   "cell_type": "code",
   "execution_count": 152,
   "metadata": {},
   "outputs": [
    {
     "data": {
      "text/plain": [
       "'近年利率逐年下調， 資金成本下降， 惟交通部未督飭高公局利用此 改變趨勢而進行財務調度，積極規劃國道基金債務之舉新還舊，減輕利息 負擔，改善財務結構 ；該部復坐視國道基金之財務操作 受高鐵基金之影響；又該部迄今未將 國道基金負擔 未具自償性且與國道並無直接關聯之地區性道路興建支出，撥還該基金等情，均核有重大違失，爰依法提案糾正'"
      ]
     },
     "execution_count": 152,
     "metadata": {},
     "output_type": "execute_result"
    }
   ],
   "source": [
    "texts[4]"
   ]
  },
  {
   "cell_type": "code",
   "execution_count": 153,
   "metadata": {},
   "outputs": [
    {
     "name": "stdout",
     "output_type": "stream",
     "text": [
      "Sentence embeddings:\n",
      "tensor([[-0.2189,  0.8674,  0.4606,  ..., -0.6580, -0.4033,  0.6827],\n",
      "        [ 0.0677,  0.7340,  0.7409,  ..., -0.4495, -0.2585,  0.5965],\n",
      "        [-0.5176,  0.7155,  0.3799,  ..., -0.7914, -0.3436,  0.7034],\n",
      "        ...,\n",
      "        [-0.0959,  0.8173,  0.6737,  ..., -0.6921, -0.6189,  0.6678],\n",
      "        [-0.2214,  0.6630,  0.3330,  ..., -0.8624,  0.2184,  0.6604],\n",
      "        [ 0.0169,  0.9363,  0.4728,  ..., -0.5107, -0.2639,  0.6777]])\n"
     ]
    }
   ],
   "source": [
    "from transformers import AutoTokenizer, AutoModel\n",
    "import torch\n",
    "\n",
    "\n",
    "#Mean Pooling - Take attention mask into account for correct averaging\n",
    "def mean_pooling(model_output, attention_mask):\n",
    "    token_embeddings = model_output[0] #First element of model_output contains all token embeddings\n",
    "    input_mask_expanded = attention_mask.unsqueeze(-1).expand(token_embeddings.size()).float()\n",
    "    return torch.sum(token_embeddings * input_mask_expanded, 1) / torch.clamp(input_mask_expanded.sum(1), min=1e-9)\n",
    "\n",
    "\n",
    "# Sentences we want sentence embeddings for\n",
    "sentences = list(extracted_content.values())\n",
    "\n",
    "# Load model from HuggingFace Hub\n",
    "tokenizer = AutoTokenizer.from_pretrained('sentence-transformers/paraphrase-MiniLM-L6-v2')\n",
    "model = AutoModel.from_pretrained('sentence-transformers/paraphrase-MiniLM-L6-v2')\n",
    "\n",
    "# Tokenize sentences\n",
    "encoded_input = tokenizer(sentences, padding=True, truncation=True, return_tensors='pt')\n",
    "\n",
    "# Compute token embeddings\n",
    "with torch.no_grad():\n",
    "    model_output = model(**encoded_input)\n",
    "\n",
    "# Perform pooling. In this case, max pooling.\n",
    "sentence_embeddings = mean_pooling(model_output, encoded_input['attention_mask'])\n",
    "\n",
    "print(\"Sentence embeddings:\")\n",
    "print(sentence_embeddings)"
   ]
  },
  {
   "cell_type": "code",
   "execution_count": 156,
   "metadata": {},
   "outputs": [],
   "source": [
    "cosine_similarities = cosine_similarity(sentence_embeddings)"
   ]
  },
  {
   "cell_type": "code",
   "execution_count": 157,
   "metadata": {},
   "outputs": [],
   "source": [
    "doc_keys = list(extracted_content.keys())\n",
    "cosine_sim_df = pd.DataFrame(cosine_similarities, index=doc_keys, columns=doc_keys)"
   ]
  },
  {
   "cell_type": "code",
   "execution_count": 163,
   "metadata": {},
   "outputs": [
    {
     "data": {
      "text/plain": [
       "48052_大客車_逃生門.pdf    1.000000\n",
       "39243_核四_品質.pdf      0.949153\n",
       "54561_高鐵_機電.pdf      0.939176\n",
       "46365_高鐵_基金.pdf      0.906380\n",
       "34944_高鐵_促參.pdf      0.888729\n",
       "52922_大客車_超時.pdf     0.878784\n",
       "39477_核四_料件.pdf      0.874396\n",
       "49676_大客車_駕照.pdf     0.863293\n",
       "54376_高鐵_航發.pdf      0.849896\n",
       "49627_核四_停建.pdf      0.848142\n",
       "54210_高鐵_出資.pdf      0.836646\n",
       "49490_核四_延宕.pdf      0.791983\n",
       "58930_核四_封存.pdf      0.791870\n",
       "38005_核四_政策.pdf      0.789064\n",
       "48746_大客車_安全門.pdf    0.784512\n",
       "Name: 48052_大客車_逃生門.pdf, dtype: float32"
      ]
     },
     "execution_count": 163,
     "metadata": {},
     "output_type": "execute_result"
    }
   ],
   "source": [
    "cosine_sim_df['48052_大客車_逃生門.pdf'].sort_values(ascending=False)"
   ]
  },
  {
   "cell_type": "code",
   "execution_count": 162,
   "metadata": {},
   "outputs": [
    {
     "data": {
      "text/plain": [
       "{'34944_高鐵_促參.pdf': '交通部於 87年間與臺灣高速鐵路公司簽訂「臺灣南北高速鐵路興建營運合約」及「臺灣南北高速鐵路站區開發合約 」，疏未預先審度該公司展延高鐵通車營運時程及遲延受領站區用地所生 損失之責任歸屬，並綢繆約定 相關處罰條款 ，嗣對政府權益保障恝置不察，一再同意該公司展延通車營運時程及受領站區用地， 致政府蒙受回饋金與租金收入減少及顧問費用增加等鉅額損失，均有違失，爰依監察法第 24條規定提案糾正',\n",
       " '38005_核四_政策.pdf': '核四封存後每年仍耗費數億元於資產維護管理，行政院及經濟部對外宣告核四重啟不可行，核四興建費用 2,833億元頇列為損失，行政院及 經濟部對核四政策之重大變動，導致資源嚴重浪費； 再者，經濟部宣布能源配比 (燃氣50%、燃煤30%、再生能源20%)之能源轉型政策，未經能源安全、能源經濟及環境影響等完整評估 ，復於再生能源發電量增加有限情況下， 以運轉中核電機組長期停機 方式減核 ，致近年火力發購電量逐年提高， 106年占比達84.4%，燃煤發電增幅 甚至高於燃氣，造成嚴重空氣污染；以及經濟部宣布 新能源政策 之前，並未評估其對電價之影響，迄 106年3月行政院始於國公營企業體檢小組會議評估 等情，均有違失，爰依法提案糾正',\n",
       " '39243_核四_品質.pdf': '台電公司 未落實「核四工程品質保證方案」，致龍門電廠試運轉時違規與注意改善事項層出不窮，如 抑壓池灌水作業 不當，致反應器廠房底層淹水 、壓力試驗合格之室內消防栓 系統，其 太平龍頭 竟脫落，致汽機廠房積水等 ，均嚴重衝擊國人對核能安全運轉之信心等情 ，確有諸多違失，爰依法提案糾正',\n",
       " '39477_核四_料件.pdf': '台灣電力股份有限公司 (下稱台電公司 )於本院調查核四廠一號機因施工測詴期間設備損壞而移用二號機相關設備之過程，所提供資料內容前後不一，設備組件損壞、採購及修復個數未能確實清查正確，顯見台電公司核四廠之料件管理系統紊亂，且回復本院公文一再發生資料正確性不足，核有怠失；另台電公司於 81年陳報核四興建計畫， 竟以69年所估算成本陳報， 未能如實報告核四建廠成本，致使政府無法確實評估該項投資計畫之成本效益，台電公司表示當時即考慮日後再以追加預算方式提出，此亦導致政 府長年來不得不對核四預算持續加碼，形成台電公司及國家之財務負擔，核有違失，爰依法提案糾正',\n",
       " '46365_高鐵_基金.pdf': '近年利率逐年下調， 資金成本下降， 惟交通部未督飭高公局利用此 改變趨勢而進行財務調度，積極規劃國道基金債務之舉新還舊，減輕利息 負擔，改善財務結構 ；該部復坐視國道基金之財務操作 受高鐵基金之影響；又該部迄今未將 國道基金負擔 未具自償性且與國道並無直接關聯之地區性道路興建支出，撥還該基金等情，均核有重大違失，爰依法提案糾正',\n",
       " '48052_大客車_逃生門.pdf': '交通部暨公路總局未善盡監督及執行車輛之監理機制，輕縱尊龍客運等公司違規變更內裝而危害公共安全，致生本案大客車六名乘客因逃生門遭鐵板封閉，無法開啟而慘遭大火燒死之重大事故，顯有違失，爰依監察法第二十四條之規定提案糾正',\n",
       " '48746_大客車_安全門.pdf': '交通部核准之安審（ 98）第1620號車型大客車，其檢測報告判定緊急出口符合法規，得於車輛靜止時由車內及車外徒手開啟，然105年7月19日（下稱0719）陸客團火燒車事故發生時卻因遊覽車左側安全門掛有鐵鍊並未即時開啟，其相同型式 20部車輛經查核亦逾八成於安全門裝置暗鎖，業嚴重威脅乘客逃生機會 ；又該部於核發車輛型式安全審驗合格證明書後，未善盡監督車身打造廠依法落實執行品質一致性管制計畫書，無法確保大客車之安全品質具有一致性 ；復漠視國內遊覽車業者為增設原廠設計所無之相關配備，擅自變更底盤電路系統，新核定之大客車電氣設備審驗補充作業規定 亦未包含使用中之舊車型大客車，恐難避免使用中之遊覽車車輛電路系統因加裝施工不良或過度負荷引發火災之可能性，造成人民生命財產之嚴重危害， 確有重大違失，爰依法提案糾正',\n",
       " '49490_核四_延宕.pdf': '台灣電力股份有限公司辦理核四計畫， 未採統包模式 ，衍生各類採購標案多達 835項，界面 整合困難， 且怠忽控管顧問公司工作內容，肇致服務費用暴增卻無法依約完成工作 ，又在未取得關鍵外購設備細部規格前，竟同意承商以假設數據先行設計，致到貨後頇 額外補償 修改變更費用 ，加上工地防颱應變失當等諸多違失，導致計畫執行效能不彰，進度嚴重落後，商轉日期一再展延逾 11年迄仍無著，工程經費更由新台幣 1,697億餘元暴增至 2,736億餘元，增幅超過 6成達1,039億餘元，且後續增加勢必難免，斲喪國家利益與政府形象；經濟部為核四計畫執行督導機關，長期粉飾計畫執行遭遇之瓶頸癥結，未能積極督飭台電公司有效因應妥處，恝置履約爭議及施工管理問題層出不窮，亦難辭怠忽監督之咎',\n",
       " '49627_核四_停建.pdf': '行政院貿然於 89年10月27日宣布停建進度已達33.81%之核四工程，又經濟部對於臺電公司三度函詢核四停建相關疑義，卻一再模糊虛應，恝置所屬無所適從，另臺電公司為迎合上意，未待上級正式函示或召開董事會應變，即由公司高層僅以口諭方式擅為傳達停建核四，並倉促發函指示廠商 不限期暫停契約執行，且核四工程未能採統包方式辦理，亦未有總顧問協助整合複雜之施工界面，導致工期延宕、預算追加、鉅額損失及品質安全疑慮等情事，其工期至少增加 44個月，且損失高達 1,870億元，未來核四是否安全運轉，屢遭質疑， 且現已逾核四計畫一號機展延後 之預訂商轉日期，惟尚未見修訂計畫期程， 行政院暨所屬經濟部、臺電公司等均難辭其咎',\n",
       " '49676_大客車_駕照.pdf': '交通部公路總局 辦理遊覽車客運業營運管理考核業務， 怠未督促所屬落實 各項表件查核勾稽職責，縱任 世通遊覽車客運股份有限公司 長期僱用無大客車職業駕駛執照者駕駛遊覽車，未 能及時查處 並責令改正，肇生101年5月9日花蓮太魯閣錦文橋旁翻車事故，嚴重危害旅運安全；且該局派赴事故現場人員，竟未查知該 翻覆遊覽車未依規定隨車攜帶駕駛人登記證、派車單及租車契約等資料，迨本院約詢通知責請說明後，始急洽業者查證屬實，並依違反汽車運輸業管理規則補行罰款，確有怠失，爰依法提案糾正',\n",
       " '52922_大客車_超時.pdf': '勞委會辦理公路客運業司機工時稽查，長久坐視超時工作之嚴重性，僅就稽查結果轉送各地勞政單位裁罰，對後續執行及改善措施未能落實追蹤管考，輕忽該行業攸關公眾安全之特性 ；交通部未能參酌先進國家對公路客運業合理駕駛時間之制訂，復未對近年因疲勞駕駛之肇禍事件深切檢討，以訂定公路客運業司機合理駕駛時間；公路總局於執行大客車駕駛審驗措施，未能記取近年發生多次公路客運業司機因個人健康因素，中斷行車任務之教訓，訂定妥適之健檢項目與標準 ，均核有違失',\n",
       " '54210_高鐵_出資.pdf': '行政院明知高鐵公司籌資不順，財務困難，投資風險極高，不但未能督促原始股東履行「政府零出資」承諾，反而 准予所屬公營事業機構、或實質上受其控制之公私合營公司或政府捐助財團法人將資金投入該公司一再挹注該公司鉅額資金 ，復提供鉅額中長期資金及融資保證，不但危及政府財政，並以公權力牽拖耗喪社會資材，嚴重悖離 BOT基本精神另中鋼公司投資高鐵公司特別股，該公司董事長林 ○○不但同時兼任高鐵公司董事，並三次主導投資高鐵公司特別股，立場偏失，主管機關皆怠忽不察；中技社投資高鐵公司特別股，既不合原捐助目的及章程規定，且程序上亦有重大瑕疵，復影響該社財務資金運用甚鉅，主管機關經濟部皆恝置不理又 財政部甫 修正相關法令，各公營及公私 合營行庫旋即投資高鐵公司計一百七十三億元，招致非議；公營行庫將上開投資不當認列為短期投資，不僅傷及公營行庫財務表達之正確性，且得以短期投資拖延補辦預算之程序；高鐵公司財務狀況日趨惡化，政府財務擔保風險持續升高，交通部長期視若無睹，粉飾太帄，徒增政府財務風險，均有重大違失 ，爰依法提案糾正',\n",
       " '54376_高鐵_航發.pdf': '行政院為協助解決臺灣高速鐵路公司 (下稱高鐵公司 )資金需求，指示中華航空事業發展基金會 (下稱航發會 )限期購買該公司丙種特別股新臺幣 (下同 )四十五億元，惟該項投資決策未經正式會議及評估作業，亦未留存任何紀錄可供稽查，過程粗糙急率；又該院明知航發會屬財團法人，投資高速鐵路有違該會 協助發展航空事業之章程目的，亦可知悉因時間急迫，相關董事會召集程序勢難符合法令規定，仍為上開違反章程及法令之指示，顯有失當；而交通部長擔任航發會董事長，管理及監督財團法人之角色混同，董事會以遵守政策指示及考量國家利益為由通過相關議案，交通部復怠於監督，率予許可，致生航發會重大損害，財團法人設置之公益目的盪然無存，爰依法提案糾正',\n",
       " '54561_高鐵_機電.pdf': '交通部及所屬高速鐵路工程局 率爾同意 變更機電核心系統，致 台灣高鐵淪為歐、日混血系統，每百萬公里發生之行車事故件數，較日本新幹線高出甚多，迄未深入檢討等情，爰依法提案糾正',\n",
       " '58930_核四_封存.pdf': '我國核能安全監管機關為行政院原子能委員會，核四未經該會完整審查認可，未符合核能安全要求 下，經濟部卻以核四安檢過關，使部分民眾認 為核四安全已由經濟部審查掛保證通過， 積非成是，影響迄今；而核四封存前， 未能解決 諸多系統 之設計及設備問題，即使當時並未封存、繼續詴運轉下去，仍有安全疑慮， 在外界對於核四重啟見解不一之際， 經濟部反而提供錯誤訊息 ，導致核四紛擾不斷又，台電未能及時監督承商， 現因核四斷層新事證，更加劇後續處理之困難度，台電對核能安全與核四品質把關 之相關作為，確實不夠嚴謹， 經濟部及台電均 核有怠失，爰依法提案糾正'}"
      ]
     },
     "execution_count": 162,
     "metadata": {},
     "output_type": "execute_result"
    }
   ],
   "source": [
    "extracted_content"
   ]
  }
 ],
 "metadata": {
  "kernelspec": {
   "display_name": "supervisor_llm",
   "language": "python",
   "name": "python3"
  },
  "language_info": {
   "codemirror_mode": {
    "name": "ipython",
    "version": 3
   },
   "file_extension": ".py",
   "mimetype": "text/x-python",
   "name": "python",
   "nbconvert_exporter": "python",
   "pygments_lexer": "ipython3",
   "version": "3.10.14"
  }
 },
 "nbformat": 4,
 "nbformat_minor": 2
}
