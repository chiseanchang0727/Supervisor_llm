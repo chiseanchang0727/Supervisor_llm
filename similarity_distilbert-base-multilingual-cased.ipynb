{
 "cells": [
  {
   "cell_type": "code",
   "execution_count": 1,
   "metadata": {},
   "outputs": [],
   "source": [
    "import os\n",
    "import re\n",
    "import numpy as np\n",
    "import pandas as pd\n",
    "from datasets import load_dataset, Dataset, ClassLabel\n",
    "from langchain.document_loaders import PyPDFLoader\n",
    "from utils import read_json\n",
    "import torch\n",
    "from transformers import DistilBertTokenizer, DistilBertForSequenceClassification, TrainingArguments, Trainer\n",
    "from sklearn.metrics import accuracy_score, f1_score\n",
    "from sklearn.metrics.pairwise import cosine_similarity"
   ]
  },
  {
   "cell_type": "code",
   "execution_count": 2,
   "metadata": {},
   "outputs": [],
   "source": [
    "def get_whole_pdf(file_data):\n",
    "    whole_pdf = \"\"\n",
    "    for i in range(len(file_data)):\n",
    "        whole_pdf += file_data[i].page_content\n",
    "\n",
    "    return whole_pdf"
   ]
  },
  {
   "cell_type": "code",
   "execution_count": 3,
   "metadata": {},
   "outputs": [],
   "source": [
    "configs = read_json('configs.json')\n",
    "DATA_PATH = configs[\"DATA_PATH\"]\n",
    "DB_PATH = configs['DB_PATH']\n",
    "files_list = [file for file in os.listdir(DATA_PATH) if os.path.isfile(os.path.join(DATA_PATH, file))]\n",
    "\n",
    "def read_pdf(files_list, data_path=DATA_PATH):\n",
    "    content_dict = {}\n",
    "\n",
    "    for file_name in files_list:\n",
    "        file_path = data_path + file_name\n",
    "        loader = PyPDFLoader(file_path)\n",
    "        content = loader.load()\n",
    "        whole_pdf = \"\"\n",
    "        for i in range(len(content)):\n",
    "            whole_pdf += content[i].page_content\n",
    "\n",
    "        whole_pdf = re.sub(r'[：。\\n]', '', whole_pdf)\n",
    "        content_dict[file_name] = whole_pdf\n",
    "\n",
    "    return content_dict"
   ]
  },
  {
   "cell_type": "code",
   "execution_count": 4,
   "metadata": {},
   "outputs": [
    {
     "data": {
      "text/plain": [
       "['34944_高鐵_促參.pdf',\n",
       " '38005_核四_政策.pdf',\n",
       " '39243_核四_品質.pdf',\n",
       " '39477_核四_料件.pdf',\n",
       " '46365_高鐵_基金.pdf',\n",
       " '48052_大客車_逃生門.pdf',\n",
       " '48746_大客車_安全門.pdf',\n",
       " '49490_核四_延宕.pdf',\n",
       " '49627_核四_停建.pdf',\n",
       " '49676_大客車_駕照.pdf',\n",
       " '52922_大客車_超時.pdf',\n",
       " '54210_高鐵_出資.pdf',\n",
       " '54376_高鐵_航發.pdf',\n",
       " '54561_高鐵_機電.pdf',\n",
       " '58930_核四_封存.pdf']"
      ]
     },
     "execution_count": 4,
     "metadata": {},
     "output_type": "execute_result"
    }
   ],
   "source": [
    "files_list"
   ]
  },
  {
   "cell_type": "code",
   "execution_count": 5,
   "metadata": {},
   "outputs": [],
   "source": [
    "pdf_contents = read_pdf(files_list)"
   ]
  },
  {
   "cell_type": "code",
   "execution_count": 6,
   "metadata": {},
   "outputs": [],
   "source": [
    "def content_extraction(input, pattern):\n",
    "\n",
    "    # Search using the pattern\n",
    "    match = re.search(pattern, input, re.S)\n",
    "\n",
    "    if match:\n",
    "        result = match.group(1).strip()  # Use strip() to remove any leading/trailing whitespace\n",
    "        print(\"Extraction succeed.\")\n",
    "        return result\n",
    "    else:\n",
    "        print(\"No match found\")\n",
    "        pass"
   ]
  },
  {
   "cell_type": "code",
   "execution_count": 7,
   "metadata": {},
   "outputs": [
    {
     "name": "stdout",
     "output_type": "stream",
     "text": [
      "Extraction succeed.\n",
      "Extraction succeed.\n",
      "Extraction succeed.\n",
      "Extraction succeed.\n",
      "Extraction succeed.\n",
      "Extraction succeed.\n",
      "Extraction succeed.\n",
      "Extraction succeed.\n",
      "Extraction succeed.\n",
      "Extraction succeed.\n",
      "Extraction succeed.\n",
      "Extraction succeed.\n",
      "Extraction succeed.\n",
      "Extraction succeed.\n",
      "Extraction succeed.\n"
     ]
    }
   ],
   "source": [
    "pattern = r\"貳、案   由(.*?)參、事實與理由\"\n",
    "\n",
    "extracted_content = {}\n",
    "for filename, content in pdf_contents.items():\n",
    "    extracted_content[filename] = content_extraction(content, pattern)"
   ]
  },
  {
   "cell_type": "code",
   "execution_count": 8,
   "metadata": {},
   "outputs": [],
   "source": [
    "def extract_label(filename):\n",
    "    # Assuming the label is always after the first underscore and ends before the second underscore\n",
    "    match = re.search(r'_(.*?)_', filename)\n",
    "    if match:\n",
    "        return match.group(1)  # This extracts text between the first pair of underscores\n",
    "    return None  # In case the pattern does not match"
   ]
  },
  {
   "cell_type": "code",
   "execution_count": 9,
   "metadata": {},
   "outputs": [
    {
     "data": {
      "text/plain": [
       "[{'label': '高鐵',\n",
       "  'text': '交通部於 87年間與臺灣高速鐵路公司簽訂「臺灣南北高速鐵路興建營運合約」及「臺灣南北高速鐵路站區開發合約 」，疏未預先審度該公司展延高鐵通車營運時程及遲延受領站區用地所生 損失之責任歸屬，並綢繆約定 相關處罰條款 ，嗣對政府權益保障恝置不察，一再同意該公司展延通車營運時程及受領站區用地， 致政府蒙受回饋金與租金收入減少及顧問費用增加等鉅額損失，均有違失，爰依監察法第 24條規定提案糾正'},\n",
       " {'label': '核四',\n",
       "  'text': '核四封存後每年仍耗費數億元於資產維護管理，行政院及經濟部對外宣告核四重啟不可行，核四興建費用 2,833億元頇列為損失，行政院及 經濟部對核四政策之重大變動，導致資源嚴重浪費； 再者，經濟部宣布能源配比 (燃氣50%、燃煤30%、再生能源20%)之能源轉型政策，未經能源安全、能源經濟及環境影響等完整評估 ，復於再生能源發電量增加有限情況下， 以運轉中核電機組長期停機 方式減核 ，致近年火力發購電量逐年提高， 106年占比達84.4%，燃煤發電增幅 甚至高於燃氣，造成嚴重空氣污染；以及經濟部宣布 新能源政策 之前，並未評估其對電價之影響，迄 106年3月行政院始於國公營企業體檢小組會議評估 等情，均有違失，爰依法提案糾正'},\n",
       " {'label': '核四',\n",
       "  'text': '台電公司 未落實「核四工程品質保證方案」，致龍門電廠試運轉時違規與注意改善事項層出不窮，如 抑壓池灌水作業 不當，致反應器廠房底層淹水 、壓力試驗合格之室內消防栓 系統，其 太平龍頭 竟脫落，致汽機廠房積水等 ，均嚴重衝擊國人對核能安全運轉之信心等情 ，確有諸多違失，爰依法提案糾正'},\n",
       " {'label': '核四',\n",
       "  'text': '台灣電力股份有限公司 (下稱台電公司 )於本院調查核四廠一號機因施工測詴期間設備損壞而移用二號機相關設備之過程，所提供資料內容前後不一，設備組件損壞、採購及修復個數未能確實清查正確，顯見台電公司核四廠之料件管理系統紊亂，且回復本院公文一再發生資料正確性不足，核有怠失；另台電公司於 81年陳報核四興建計畫， 竟以69年所估算成本陳報， 未能如實報告核四建廠成本，致使政府無法確實評估該項投資計畫之成本效益，台電公司表示當時即考慮日後再以追加預算方式提出，此亦導致政 府長年來不得不對核四預算持續加碼，形成台電公司及國家之財務負擔，核有違失，爰依法提案糾正'},\n",
       " {'label': '高鐵',\n",
       "  'text': '近年利率逐年下調， 資金成本下降， 惟交通部未督飭高公局利用此 改變趨勢而進行財務調度，積極規劃國道基金債務之舉新還舊，減輕利息 負擔，改善財務結構 ；該部復坐視國道基金之財務操作 受高鐵基金之影響；又該部迄今未將 國道基金負擔 未具自償性且與國道並無直接關聯之地區性道路興建支出，撥還該基金等情，均核有重大違失，爰依法提案糾正'},\n",
       " {'label': '大客車',\n",
       "  'text': '交通部暨公路總局未善盡監督及執行車輛之監理機制，輕縱尊龍客運等公司違規變更內裝而危害公共安全，致生本案大客車六名乘客因逃生門遭鐵板封閉，無法開啟而慘遭大火燒死之重大事故，顯有違失，爰依監察法第二十四條之規定提案糾正'},\n",
       " {'label': '大客車',\n",
       "  'text': '交通部核准之安審（ 98）第1620號車型大客車，其檢測報告判定緊急出口符合法規，得於車輛靜止時由車內及車外徒手開啟，然105年7月19日（下稱0719）陸客團火燒車事故發生時卻因遊覽車左側安全門掛有鐵鍊並未即時開啟，其相同型式 20部車輛經查核亦逾八成於安全門裝置暗鎖，業嚴重威脅乘客逃生機會 ；又該部於核發車輛型式安全審驗合格證明書後，未善盡監督車身打造廠依法落實執行品質一致性管制計畫書，無法確保大客車之安全品質具有一致性 ；復漠視國內遊覽車業者為增設原廠設計所無之相關配備，擅自變更底盤電路系統，新核定之大客車電氣設備審驗補充作業規定 亦未包含使用中之舊車型大客車，恐難避免使用中之遊覽車車輛電路系統因加裝施工不良或過度負荷引發火災之可能性，造成人民生命財產之嚴重危害， 確有重大違失，爰依法提案糾正'},\n",
       " {'label': '核四',\n",
       "  'text': '台灣電力股份有限公司辦理核四計畫， 未採統包模式 ，衍生各類採購標案多達 835項，界面 整合困難， 且怠忽控管顧問公司工作內容，肇致服務費用暴增卻無法依約完成工作 ，又在未取得關鍵外購設備細部規格前，竟同意承商以假設數據先行設計，致到貨後頇 額外補償 修改變更費用 ，加上工地防颱應變失當等諸多違失，導致計畫執行效能不彰，進度嚴重落後，商轉日期一再展延逾 11年迄仍無著，工程經費更由新台幣 1,697億餘元暴增至 2,736億餘元，增幅超過 6成達1,039億餘元，且後續增加勢必難免，斲喪國家利益與政府形象；經濟部為核四計畫執行督導機關，長期粉飾計畫執行遭遇之瓶頸癥結，未能積極督飭台電公司有效因應妥處，恝置履約爭議及施工管理問題層出不窮，亦難辭怠忽監督之咎'},\n",
       " {'label': '核四',\n",
       "  'text': '行政院貿然於 89年10月27日宣布停建進度已達33.81%之核四工程，又經濟部對於臺電公司三度函詢核四停建相關疑義，卻一再模糊虛應，恝置所屬無所適從，另臺電公司為迎合上意，未待上級正式函示或召開董事會應變，即由公司高層僅以口諭方式擅為傳達停建核四，並倉促發函指示廠商 不限期暫停契約執行，且核四工程未能採統包方式辦理，亦未有總顧問協助整合複雜之施工界面，導致工期延宕、預算追加、鉅額損失及品質安全疑慮等情事，其工期至少增加 44個月，且損失高達 1,870億元，未來核四是否安全運轉，屢遭質疑， 且現已逾核四計畫一號機展延後 之預訂商轉日期，惟尚未見修訂計畫期程， 行政院暨所屬經濟部、臺電公司等均難辭其咎'},\n",
       " {'label': '大客車',\n",
       "  'text': '交通部公路總局 辦理遊覽車客運業營運管理考核業務， 怠未督促所屬落實 各項表件查核勾稽職責，縱任 世通遊覽車客運股份有限公司 長期僱用無大客車職業駕駛執照者駕駛遊覽車，未 能及時查處 並責令改正，肇生101年5月9日花蓮太魯閣錦文橋旁翻車事故，嚴重危害旅運安全；且該局派赴事故現場人員，竟未查知該 翻覆遊覽車未依規定隨車攜帶駕駛人登記證、派車單及租車契約等資料，迨本院約詢通知責請說明後，始急洽業者查證屬實，並依違反汽車運輸業管理規則補行罰款，確有怠失，爰依法提案糾正'},\n",
       " {'label': '大客車',\n",
       "  'text': '勞委會辦理公路客運業司機工時稽查，長久坐視超時工作之嚴重性，僅就稽查結果轉送各地勞政單位裁罰，對後續執行及改善措施未能落實追蹤管考，輕忽該行業攸關公眾安全之特性 ；交通部未能參酌先進國家對公路客運業合理駕駛時間之制訂，復未對近年因疲勞駕駛之肇禍事件深切檢討，以訂定公路客運業司機合理駕駛時間；公路總局於執行大客車駕駛審驗措施，未能記取近年發生多次公路客運業司機因個人健康因素，中斷行車任務之教訓，訂定妥適之健檢項目與標準 ，均核有違失'},\n",
       " {'label': '高鐵',\n",
       "  'text': '行政院明知高鐵公司籌資不順，財務困難，投資風險極高，不但未能督促原始股東履行「政府零出資」承諾，反而 准予所屬公營事業機構、或實質上受其控制之公私合營公司或政府捐助財團法人將資金投入該公司一再挹注該公司鉅額資金 ，復提供鉅額中長期資金及融資保證，不但危及政府財政，並以公權力牽拖耗喪社會資材，嚴重悖離 BOT基本精神另中鋼公司投資高鐵公司特別股，該公司董事長林 ○○不但同時兼任高鐵公司董事，並三次主導投資高鐵公司特別股，立場偏失，主管機關皆怠忽不察；中技社投資高鐵公司特別股，既不合原捐助目的及章程規定，且程序上亦有重大瑕疵，復影響該社財務資金運用甚鉅，主管機關經濟部皆恝置不理又 財政部甫 修正相關法令，各公營及公私 合營行庫旋即投資高鐵公司計一百七十三億元，招致非議；公營行庫將上開投資不當認列為短期投資，不僅傷及公營行庫財務表達之正確性，且得以短期投資拖延補辦預算之程序；高鐵公司財務狀況日趨惡化，政府財務擔保風險持續升高，交通部長期視若無睹，粉飾太帄，徒增政府財務風險，均有重大違失 ，爰依法提案糾正'},\n",
       " {'label': '高鐵',\n",
       "  'text': '行政院為協助解決臺灣高速鐵路公司 (下稱高鐵公司 )資金需求，指示中華航空事業發展基金會 (下稱航發會 )限期購買該公司丙種特別股新臺幣 (下同 )四十五億元，惟該項投資決策未經正式會議及評估作業，亦未留存任何紀錄可供稽查，過程粗糙急率；又該院明知航發會屬財團法人，投資高速鐵路有違該會 協助發展航空事業之章程目的，亦可知悉因時間急迫，相關董事會召集程序勢難符合法令規定，仍為上開違反章程及法令之指示，顯有失當；而交通部長擔任航發會董事長，管理及監督財團法人之角色混同，董事會以遵守政策指示及考量國家利益為由通過相關議案，交通部復怠於監督，率予許可，致生航發會重大損害，財團法人設置之公益目的盪然無存，爰依法提案糾正'},\n",
       " {'label': '高鐵',\n",
       "  'text': '交通部及所屬高速鐵路工程局 率爾同意 變更機電核心系統，致 台灣高鐵淪為歐、日混血系統，每百萬公里發生之行車事故件數，較日本新幹線高出甚多，迄未深入檢討等情，爰依法提案糾正'},\n",
       " {'label': '核四',\n",
       "  'text': '我國核能安全監管機關為行政院原子能委員會，核四未經該會完整審查認可，未符合核能安全要求 下，經濟部卻以核四安檢過關，使部分民眾認 為核四安全已由經濟部審查掛保證通過， 積非成是，影響迄今；而核四封存前， 未能解決 諸多系統 之設計及設備問題，即使當時並未封存、繼續詴運轉下去，仍有安全疑慮， 在外界對於核四重啟見解不一之際， 經濟部反而提供錯誤訊息 ，導致核四紛擾不斷又，台電未能及時監督承商， 現因核四斷層新事證，更加劇後續處理之困難度，台電對核能安全與核四品質把關 之相關作為，確實不夠嚴謹， 經濟部及台電均 核有怠失，爰依法提案糾正'}]"
      ]
     },
     "execution_count": 9,
     "metadata": {},
     "output_type": "execute_result"
    }
   ],
   "source": [
    "formatted_data  = [{'label': extract_label(filename), 'text' : content } for filename, content in extracted_content.items()]\n",
    "formatted_data "
   ]
  },
  {
   "cell_type": "code",
   "execution_count": 10,
   "metadata": {},
   "outputs": [
    {
     "data": {
      "text/plain": [
       "ClassLabel(names=['高鐵', '核四', '大客車'], id=None)"
      ]
     },
     "execution_count": 10,
     "metadata": {},
     "output_type": "execute_result"
    }
   ],
   "source": [
    "label = []\n",
    "for i in range(len(formatted_data)):\n",
    "    current_label = formatted_data[i]['label']\n",
    "    if current_label not in label:\n",
    "        label.append(current_label)\n",
    "    else:\n",
    "        continue\n",
    "label_feature = ClassLabel(names=label)\n",
    "label_feature"
   ]
  },
  {
   "cell_type": "code",
   "execution_count": 11,
   "metadata": {},
   "outputs": [
    {
     "data": {
      "text/plain": [
       "Dataset({\n",
       "    features: ['text', 'label'],\n",
       "    num_rows: 15\n",
       "})"
      ]
     },
     "execution_count": 11,
     "metadata": {},
     "output_type": "execute_result"
    }
   ],
   "source": [
    "dataset = Dataset.from_dict({\n",
    "    'text': [item['text'] for item in formatted_data],\n",
    "    'label': [item['label'] for item in formatted_data]\n",
    "})\n",
    "dataset"
   ]
  },
  {
   "cell_type": "code",
   "execution_count": 12,
   "metadata": {},
   "outputs": [],
   "source": [
    "def preprocess_label(example):\n",
    "    \n",
    "    example['label'] = [label_feature.str2int(label) for label in example['label']]\n",
    "    return example"
   ]
  },
  {
   "cell_type": "code",
   "execution_count": 13,
   "metadata": {},
   "outputs": [
    {
     "data": {
      "application/vnd.jupyter.widget-view+json": {
       "model_id": "507d2f7830ed4bd0b9ac406ca4163bab",
       "version_major": 2,
       "version_minor": 0
      },
      "text/plain": [
       "Map:   0%|          | 0/15 [00:00<?, ? examples/s]"
      ]
     },
     "metadata": {},
     "output_type": "display_data"
    }
   ],
   "source": [
    "dataset_processed = dataset.map(preprocess_label, batched=True)\n",
    "dataset_split = dataset_processed.train_test_split(test_size=0.3)"
   ]
  },
  {
   "cell_type": "code",
   "execution_count": 14,
   "metadata": {},
   "outputs": [
    {
     "data": {
      "text/plain": [
       "DatasetDict({\n",
       "    train: Dataset({\n",
       "        features: ['text', 'label'],\n",
       "        num_rows: 10\n",
       "    })\n",
       "    test: Dataset({\n",
       "        features: ['text', 'label'],\n",
       "        num_rows: 5\n",
       "    })\n",
       "})"
      ]
     },
     "execution_count": 14,
     "metadata": {},
     "output_type": "execute_result"
    }
   ],
   "source": [
    "dataset_split"
   ]
  },
  {
   "cell_type": "markdown",
   "metadata": {},
   "source": [
    "## distilbert-base-cased"
   ]
  },
  {
   "cell_type": "code",
   "execution_count": 15,
   "metadata": {},
   "outputs": [
    {
     "name": "stderr",
     "output_type": "stream",
     "text": [
      "Some weights of DistilBertForSequenceClassification were not initialized from the model checkpoint at distilbert-base-multilingual-cased and are newly initialized: ['classifier.bias', 'classifier.weight', 'pre_classifier.bias', 'pre_classifier.weight']\n",
      "You should probably TRAIN this model on a down-stream task to be able to use it for predictions and inference.\n"
     ]
    }
   ],
   "source": [
    "model_ckpt = \"distilbert-base-multilingual-cased\"\n",
    "device = torch.device(\"cuda\" if torch.cuda.is_available() else \"cpu\")\n",
    "# model = AutoModel.from_pretrained(model_ckpt).to(device)\n",
    "tokenizer = DistilBertTokenizer.from_pretrained(model_ckpt)\n",
    "model = DistilBertForSequenceClassification.from_pretrained(model_ckpt, num_labels=3)"
   ]
  },
  {
   "cell_type": "code",
   "execution_count": 16,
   "metadata": {},
   "outputs": [],
   "source": [
    "def extract_hidden_states(batch):\n",
    "    # Place model inputs on the GPU\n",
    "    inputs = {k:v.to(device) for k,v in batch.items() \n",
    "              if k in tokenizer.model_input_names}\n",
    "    # Extract last hidden states\n",
    "    with torch.no_grad():\n",
    "        last_hidden_state = model(**inputs).last_hidden_state\n",
    "    # Return vector for [CLS] token\n",
    "    return {\"hidden_state\": last_hidden_state[:,0].cpu().numpy()}"
   ]
  },
  {
   "cell_type": "code",
   "execution_count": 17,
   "metadata": {},
   "outputs": [],
   "source": [
    "def tokenize(batch):\n",
    "    return tokenizer(batch[\"text\"], padding=True, truncation=True)"
   ]
  },
  {
   "cell_type": "code",
   "execution_count": 18,
   "metadata": {},
   "outputs": [
    {
     "data": {
      "text/plain": [
       "DatasetDict({\n",
       "    train: Dataset({\n",
       "        features: ['text', 'label'],\n",
       "        num_rows: 10\n",
       "    })\n",
       "    test: Dataset({\n",
       "        features: ['text', 'label'],\n",
       "        num_rows: 5\n",
       "    })\n",
       "})"
      ]
     },
     "execution_count": 18,
     "metadata": {},
     "output_type": "execute_result"
    }
   ],
   "source": [
    "dataset_split"
   ]
  },
  {
   "cell_type": "code",
   "execution_count": 19,
   "metadata": {},
   "outputs": [
    {
     "data": {
      "application/vnd.jupyter.widget-view+json": {
       "model_id": "31a3381af86b4cf191fd3db753d08553",
       "version_major": 2,
       "version_minor": 0
      },
      "text/plain": [
       "Map:   0%|          | 0/10 [00:00<?, ? examples/s]"
      ]
     },
     "metadata": {},
     "output_type": "display_data"
    },
    {
     "data": {
      "application/vnd.jupyter.widget-view+json": {
       "model_id": "f743beeda91443269295f45e5fc902a2",
       "version_major": 2,
       "version_minor": 0
      },
      "text/plain": [
       "Map:   0%|          | 0/5 [00:00<?, ? examples/s]"
      ]
     },
     "metadata": {},
     "output_type": "display_data"
    }
   ],
   "source": [
    "dataset_encoded = dataset_split.map(tokenize, batched=True, batch_size=None)"
   ]
  },
  {
   "cell_type": "code",
   "execution_count": 20,
   "metadata": {},
   "outputs": [],
   "source": [
    "dataset_encoded.set_format(\"torch\", \n",
    "                            columns=[\"input_ids\",  \"label\",\"attention_mask\"])"
   ]
  },
  {
   "cell_type": "code",
   "execution_count": 21,
   "metadata": {},
   "outputs": [
    {
     "data": {
      "text/plain": [
       "DatasetDict({\n",
       "    train: Dataset({\n",
       "        features: ['text', 'label', 'input_ids', 'attention_mask'],\n",
       "        num_rows: 10\n",
       "    })\n",
       "    test: Dataset({\n",
       "        features: ['text', 'label', 'input_ids', 'attention_mask'],\n",
       "        num_rows: 5\n",
       "    })\n",
       "})"
      ]
     },
     "execution_count": 21,
     "metadata": {},
     "output_type": "execute_result"
    }
   ],
   "source": [
    "dataset_encoded"
   ]
  },
  {
   "cell_type": "code",
   "execution_count": 22,
   "metadata": {},
   "outputs": [],
   "source": [
    "def compute_metrics(pred):\n",
    "    label = pred.label_ids\n",
    "    preds = pred.predictions.argmax(-1)\n",
    "    f1 = f1_score(label, preds, average=\"weighted\")\n",
    "    acc = accuracy_score(label, preds)\n",
    "    return {\"accuracy\": acc, \"f1\": f1}"
   ]
  },
  {
   "cell_type": "code",
   "execution_count": 23,
   "metadata": {},
   "outputs": [
    {
     "data": {
      "application/vnd.jupyter.widget-view+json": {
       "model_id": "e38e13d9aa514c7db5d3699767b23e5d",
       "version_major": 2,
       "version_minor": 0
      },
      "text/plain": [
       "  0%|          | 0/200 [00:00<?, ?it/s]"
      ]
     },
     "metadata": {},
     "output_type": "display_data"
    },
    {
     "name": "stdout",
     "output_type": "stream",
     "text": [
      "{'loss': 1.1654, 'grad_norm': 7.438181400299072, 'learning_rate': 1.9e-05, 'epoch': 1.0}\n"
     ]
    },
    {
     "data": {
      "application/vnd.jupyter.widget-view+json": {
       "model_id": "9fe9854a756c43c8af35efdb0da4f3f6",
       "version_major": 2,
       "version_minor": 0
      },
      "text/plain": [
       "  0%|          | 0/5 [00:00<?, ?it/s]"
      ]
     },
     "metadata": {},
     "output_type": "display_data"
    },
    {
     "name": "stdout",
     "output_type": "stream",
     "text": [
      "{'eval_loss': 1.1690927743911743, 'eval_accuracy': 0.2, 'eval_f1': 0.06666666666666667, 'eval_runtime': 1.3755, 'eval_samples_per_second': 3.635, 'eval_steps_per_second': 3.635, 'epoch': 1.0}\n",
      "{'loss': 1.0836, 'grad_norm': 7.246498107910156, 'learning_rate': 1.8e-05, 'epoch': 2.0}\n"
     ]
    },
    {
     "data": {
      "application/vnd.jupyter.widget-view+json": {
       "model_id": "45fa69d3634b43a08002b657574f79ad",
       "version_major": 2,
       "version_minor": 0
      },
      "text/plain": [
       "  0%|          | 0/5 [00:00<?, ?it/s]"
      ]
     },
     "metadata": {},
     "output_type": "display_data"
    },
    {
     "name": "stdout",
     "output_type": "stream",
     "text": [
      "{'eval_loss': 1.1631773710250854, 'eval_accuracy': 0.2, 'eval_f1': 0.06666666666666667, 'eval_runtime': 1.6121, 'eval_samples_per_second': 3.102, 'eval_steps_per_second': 3.102, 'epoch': 2.0}\n",
      "{'loss': 1.0287, 'grad_norm': 8.482099533081055, 'learning_rate': 1.7e-05, 'epoch': 3.0}\n"
     ]
    },
    {
     "data": {
      "application/vnd.jupyter.widget-view+json": {
       "model_id": "36d065f78a244154a4948ce5a8fd7b6c",
       "version_major": 2,
       "version_minor": 0
      },
      "text/plain": [
       "  0%|          | 0/5 [00:00<?, ?it/s]"
      ]
     },
     "metadata": {},
     "output_type": "display_data"
    },
    {
     "name": "stdout",
     "output_type": "stream",
     "text": [
      "{'eval_loss': 1.1824707984924316, 'eval_accuracy': 0.2, 'eval_f1': 0.06666666666666667, 'eval_runtime': 1.6381, 'eval_samples_per_second': 3.052, 'eval_steps_per_second': 3.052, 'epoch': 3.0}\n",
      "{'loss': 0.9582, 'grad_norm': 8.392460823059082, 'learning_rate': 1.6000000000000003e-05, 'epoch': 4.0}\n"
     ]
    },
    {
     "data": {
      "application/vnd.jupyter.widget-view+json": {
       "model_id": "a7ec4acf596447319a833514ebe18ee4",
       "version_major": 2,
       "version_minor": 0
      },
      "text/plain": [
       "  0%|          | 0/5 [00:00<?, ?it/s]"
      ]
     },
     "metadata": {},
     "output_type": "display_data"
    },
    {
     "name": "stdout",
     "output_type": "stream",
     "text": [
      "{'eval_loss': 1.2898257970809937, 'eval_accuracy': 0.2, 'eval_f1': 0.06666666666666667, 'eval_runtime': 1.5987, 'eval_samples_per_second': 3.128, 'eval_steps_per_second': 3.128, 'epoch': 4.0}\n",
      "{'loss': 0.8, 'grad_norm': 5.679369926452637, 'learning_rate': 1.5000000000000002e-05, 'epoch': 5.0}\n"
     ]
    },
    {
     "data": {
      "application/vnd.jupyter.widget-view+json": {
       "model_id": "449fbd1d70b84f41987e09f001d3eb8b",
       "version_major": 2,
       "version_minor": 0
      },
      "text/plain": [
       "  0%|          | 0/5 [00:00<?, ?it/s]"
      ]
     },
     "metadata": {},
     "output_type": "display_data"
    },
    {
     "name": "stdout",
     "output_type": "stream",
     "text": [
      "{'eval_loss': 1.433881402015686, 'eval_accuracy': 0.2, 'eval_f1': 0.06666666666666667, 'eval_runtime': 1.5596, 'eval_samples_per_second': 3.206, 'eval_steps_per_second': 3.206, 'epoch': 5.0}\n",
      "{'loss': 0.6767, 'grad_norm': 4.4282684326171875, 'learning_rate': 1.4e-05, 'epoch': 6.0}\n"
     ]
    },
    {
     "data": {
      "application/vnd.jupyter.widget-view+json": {
       "model_id": "095ac1c5c2204e7cb1ba04607e10d610",
       "version_major": 2,
       "version_minor": 0
      },
      "text/plain": [
       "  0%|          | 0/5 [00:00<?, ?it/s]"
      ]
     },
     "metadata": {},
     "output_type": "display_data"
    },
    {
     "name": "stdout",
     "output_type": "stream",
     "text": [
      "{'eval_loss': 1.3643625974655151, 'eval_accuracy': 0.6, 'eval_f1': 0.5800000000000001, 'eval_runtime': 1.5347, 'eval_samples_per_second': 3.258, 'eval_steps_per_second': 3.258, 'epoch': 6.0}\n",
      "{'loss': 0.5227, 'grad_norm': 6.332986354827881, 'learning_rate': 1.3000000000000001e-05, 'epoch': 7.0}\n"
     ]
    },
    {
     "data": {
      "application/vnd.jupyter.widget-view+json": {
       "model_id": "9ab78ed8e0b343abade25b1c35b3fd49",
       "version_major": 2,
       "version_minor": 0
      },
      "text/plain": [
       "  0%|          | 0/5 [00:00<?, ?it/s]"
      ]
     },
     "metadata": {},
     "output_type": "display_data"
    },
    {
     "name": "stdout",
     "output_type": "stream",
     "text": [
      "{'eval_loss': 1.4326578378677368, 'eval_accuracy': 0.2, 'eval_f1': 0.08, 'eval_runtime': 1.6043, 'eval_samples_per_second': 3.117, 'eval_steps_per_second': 3.117, 'epoch': 7.0}\n",
      "{'loss': 0.4233, 'grad_norm': 2.9389774799346924, 'learning_rate': 1.2e-05, 'epoch': 8.0}\n"
     ]
    },
    {
     "data": {
      "application/vnd.jupyter.widget-view+json": {
       "model_id": "d95ef7b4db214f4aafdc19e985420a05",
       "version_major": 2,
       "version_minor": 0
      },
      "text/plain": [
       "  0%|          | 0/5 [00:00<?, ?it/s]"
      ]
     },
     "metadata": {},
     "output_type": "display_data"
    },
    {
     "name": "stdout",
     "output_type": "stream",
     "text": [
      "{'eval_loss': 1.4212466478347778, 'eval_accuracy': 0.4, 'eval_f1': 0.4, 'eval_runtime': 1.5905, 'eval_samples_per_second': 3.144, 'eval_steps_per_second': 3.144, 'epoch': 8.0}\n",
      "{'loss': 0.2666, 'grad_norm': 3.7375197410583496, 'learning_rate': 1.1000000000000001e-05, 'epoch': 9.0}\n"
     ]
    },
    {
     "data": {
      "application/vnd.jupyter.widget-view+json": {
       "model_id": "1bf3656b60444bd8bbed2ff49b7c3ac3",
       "version_major": 2,
       "version_minor": 0
      },
      "text/plain": [
       "  0%|          | 0/5 [00:00<?, ?it/s]"
      ]
     },
     "metadata": {},
     "output_type": "display_data"
    },
    {
     "name": "stdout",
     "output_type": "stream",
     "text": [
      "{'eval_loss': 1.3854800462722778, 'eval_accuracy': 0.6, 'eval_f1': 0.5800000000000001, 'eval_runtime': 1.624, 'eval_samples_per_second': 3.079, 'eval_steps_per_second': 3.079, 'epoch': 9.0}\n",
      "{'loss': 0.1907, 'grad_norm': 2.942706823348999, 'learning_rate': 1e-05, 'epoch': 10.0}\n"
     ]
    },
    {
     "data": {
      "application/vnd.jupyter.widget-view+json": {
       "model_id": "7d96d8be98914f3eb4d16a3fa13595c9",
       "version_major": 2,
       "version_minor": 0
      },
      "text/plain": [
       "  0%|          | 0/5 [00:00<?, ?it/s]"
      ]
     },
     "metadata": {},
     "output_type": "display_data"
    },
    {
     "name": "stdout",
     "output_type": "stream",
     "text": [
      "{'eval_loss': 1.519126296043396, 'eval_accuracy': 0.6, 'eval_f1': 0.5800000000000001, 'eval_runtime': 1.6513, 'eval_samples_per_second': 3.028, 'eval_steps_per_second': 3.028, 'epoch': 10.0}\n",
      "{'loss': 0.1165, 'grad_norm': 1.0537397861480713, 'learning_rate': 9e-06, 'epoch': 11.0}\n"
     ]
    },
    {
     "data": {
      "application/vnd.jupyter.widget-view+json": {
       "model_id": "d27c2f6423274ec5ae5d3784721fb21c",
       "version_major": 2,
       "version_minor": 0
      },
      "text/plain": [
       "  0%|          | 0/5 [00:00<?, ?it/s]"
      ]
     },
     "metadata": {},
     "output_type": "display_data"
    },
    {
     "name": "stdout",
     "output_type": "stream",
     "text": [
      "{'eval_loss': 1.2524677515029907, 'eval_accuracy': 0.6, 'eval_f1': 0.5800000000000001, 'eval_runtime': 1.5857, 'eval_samples_per_second': 3.153, 'eval_steps_per_second': 3.153, 'epoch': 11.0}\n",
      "{'loss': 0.0868, 'grad_norm': 0.8038886189460754, 'learning_rate': 8.000000000000001e-06, 'epoch': 12.0}\n"
     ]
    },
    {
     "data": {
      "application/vnd.jupyter.widget-view+json": {
       "model_id": "986ce8368568454bb59aedb279a2b4f0",
       "version_major": 2,
       "version_minor": 0
      },
      "text/plain": [
       "  0%|          | 0/5 [00:00<?, ?it/s]"
      ]
     },
     "metadata": {},
     "output_type": "display_data"
    },
    {
     "name": "stdout",
     "output_type": "stream",
     "text": [
      "{'eval_loss': 1.2281062602996826, 'eval_accuracy': 0.6, 'eval_f1': 0.5800000000000001, 'eval_runtime': 1.6087, 'eval_samples_per_second': 3.108, 'eval_steps_per_second': 3.108, 'epoch': 12.0}\n",
      "{'loss': 0.0702, 'grad_norm': 6.71911096572876, 'learning_rate': 7e-06, 'epoch': 13.0}\n"
     ]
    },
    {
     "data": {
      "application/vnd.jupyter.widget-view+json": {
       "model_id": "90b8089ad7114d2c8b9124ab5e38ee4b",
       "version_major": 2,
       "version_minor": 0
      },
      "text/plain": [
       "  0%|          | 0/5 [00:00<?, ?it/s]"
      ]
     },
     "metadata": {},
     "output_type": "display_data"
    },
    {
     "name": "stdout",
     "output_type": "stream",
     "text": [
      "{'eval_loss': 1.4109910726547241, 'eval_accuracy': 0.6, 'eval_f1': 0.5800000000000001, 'eval_runtime': 1.7474, 'eval_samples_per_second': 2.861, 'eval_steps_per_second': 2.861, 'epoch': 13.0}\n",
      "{'loss': 0.0527, 'grad_norm': 0.7098535299301147, 'learning_rate': 6e-06, 'epoch': 14.0}\n"
     ]
    },
    {
     "data": {
      "application/vnd.jupyter.widget-view+json": {
       "model_id": "24787e561fc34c9983e1efea8ecfb5f6",
       "version_major": 2,
       "version_minor": 0
      },
      "text/plain": [
       "  0%|          | 0/5 [00:00<?, ?it/s]"
      ]
     },
     "metadata": {},
     "output_type": "display_data"
    },
    {
     "name": "stdout",
     "output_type": "stream",
     "text": [
      "{'eval_loss': 1.3178094625473022, 'eval_accuracy': 0.6, 'eval_f1': 0.5800000000000001, 'eval_runtime': 1.5997, 'eval_samples_per_second': 3.126, 'eval_steps_per_second': 3.126, 'epoch': 14.0}\n",
      "{'loss': 0.0471, 'grad_norm': 0.6951102018356323, 'learning_rate': 5e-06, 'epoch': 15.0}\n"
     ]
    },
    {
     "data": {
      "application/vnd.jupyter.widget-view+json": {
       "model_id": "89cd2767b07f48e6abe7086a09a96af4",
       "version_major": 2,
       "version_minor": 0
      },
      "text/plain": [
       "  0%|          | 0/5 [00:00<?, ?it/s]"
      ]
     },
     "metadata": {},
     "output_type": "display_data"
    },
    {
     "name": "stdout",
     "output_type": "stream",
     "text": [
      "{'eval_loss': 1.3254034519195557, 'eval_accuracy': 0.6, 'eval_f1': 0.5800000000000001, 'eval_runtime': 1.6584, 'eval_samples_per_second': 3.015, 'eval_steps_per_second': 3.015, 'epoch': 15.0}\n",
      "{'loss': 0.0337, 'grad_norm': 1.0631574392318726, 'learning_rate': 4.000000000000001e-06, 'epoch': 16.0}\n"
     ]
    },
    {
     "data": {
      "application/vnd.jupyter.widget-view+json": {
       "model_id": "91ffbfefd63743b4abb1daa8f75b1982",
       "version_major": 2,
       "version_minor": 0
      },
      "text/plain": [
       "  0%|          | 0/5 [00:00<?, ?it/s]"
      ]
     },
     "metadata": {},
     "output_type": "display_data"
    },
    {
     "name": "stdout",
     "output_type": "stream",
     "text": [
      "{'eval_loss': 1.2149373292922974, 'eval_accuracy': 0.6, 'eval_f1': 0.5800000000000001, 'eval_runtime': 1.5682, 'eval_samples_per_second': 3.188, 'eval_steps_per_second': 3.188, 'epoch': 16.0}\n",
      "{'loss': 0.0308, 'grad_norm': 1.2893474102020264, 'learning_rate': 3e-06, 'epoch': 17.0}\n"
     ]
    },
    {
     "data": {
      "application/vnd.jupyter.widget-view+json": {
       "model_id": "9e29ea90c5bd45b0bce1d1670e259c04",
       "version_major": 2,
       "version_minor": 0
      },
      "text/plain": [
       "  0%|          | 0/5 [00:00<?, ?it/s]"
      ]
     },
     "metadata": {},
     "output_type": "display_data"
    },
    {
     "name": "stdout",
     "output_type": "stream",
     "text": [
      "{'eval_loss': 1.1965230703353882, 'eval_accuracy': 0.6, 'eval_f1': 0.5800000000000001, 'eval_runtime': 1.5759, 'eval_samples_per_second': 3.173, 'eval_steps_per_second': 3.173, 'epoch': 17.0}\n",
      "{'loss': 0.0262, 'grad_norm': 0.9565423727035522, 'learning_rate': 2.0000000000000003e-06, 'epoch': 18.0}\n"
     ]
    },
    {
     "data": {
      "application/vnd.jupyter.widget-view+json": {
       "model_id": "d62c23b50c3540b2bbe31a0a69335065",
       "version_major": 2,
       "version_minor": 0
      },
      "text/plain": [
       "  0%|          | 0/5 [00:00<?, ?it/s]"
      ]
     },
     "metadata": {},
     "output_type": "display_data"
    },
    {
     "name": "stdout",
     "output_type": "stream",
     "text": [
      "{'eval_loss': 1.1709315776824951, 'eval_accuracy': 0.6, 'eval_f1': 0.5800000000000001, 'eval_runtime': 1.6418, 'eval_samples_per_second': 3.045, 'eval_steps_per_second': 3.045, 'epoch': 18.0}\n",
      "{'loss': 0.0263, 'grad_norm': 0.4037661850452423, 'learning_rate': 1.0000000000000002e-06, 'epoch': 19.0}\n"
     ]
    },
    {
     "data": {
      "application/vnd.jupyter.widget-view+json": {
       "model_id": "60cdfe6829a44f62b36d6d4d97c104b9",
       "version_major": 2,
       "version_minor": 0
      },
      "text/plain": [
       "  0%|          | 0/5 [00:00<?, ?it/s]"
      ]
     },
     "metadata": {},
     "output_type": "display_data"
    },
    {
     "name": "stdout",
     "output_type": "stream",
     "text": [
      "{'eval_loss': 1.1507492065429688, 'eval_accuracy': 0.6, 'eval_f1': 0.5800000000000001, 'eval_runtime': 1.6068, 'eval_samples_per_second': 3.112, 'eval_steps_per_second': 3.112, 'epoch': 19.0}\n",
      "{'loss': 0.0278, 'grad_norm': 0.38011404871940613, 'learning_rate': 0.0, 'epoch': 20.0}\n"
     ]
    },
    {
     "data": {
      "application/vnd.jupyter.widget-view+json": {
       "model_id": "fc53cf53a29e4105be261ed2837f6a1c",
       "version_major": 2,
       "version_minor": 0
      },
      "text/plain": [
       "  0%|          | 0/5 [00:00<?, ?it/s]"
      ]
     },
     "metadata": {},
     "output_type": "display_data"
    },
    {
     "name": "stdout",
     "output_type": "stream",
     "text": [
      "{'eval_loss': 1.1445811986923218, 'eval_accuracy': 0.6, 'eval_f1': 0.5800000000000001, 'eval_runtime': 1.6145, 'eval_samples_per_second': 3.097, 'eval_steps_per_second': 3.097, 'epoch': 20.0}\n",
      "{'train_runtime': 290.7177, 'train_samples_per_second': 0.688, 'train_steps_per_second': 0.688, 'train_loss': 0.3816986757516861, 'epoch': 20.0}\n"
     ]
    },
    {
     "data": {
      "text/plain": [
       "TrainOutput(global_step=200, training_loss=0.3816986757516861, metrics={'train_runtime': 290.7177, 'train_samples_per_second': 0.688, 'train_steps_per_second': 0.688, 'total_flos': 17593640136000.0, 'train_loss': 0.3816986757516861, 'epoch': 20.0})"
      ]
     },
     "execution_count": 23,
     "metadata": {},
     "output_type": "execute_result"
    }
   ],
   "source": [
    "batch_size = 1\n",
    "logging_steps = len(dataset_encoded[\"train\"]) // batch_size\n",
    "model_name = f\"{model_ckpt}-finetuned-emotion\"\n",
    "training_args = TrainingArguments(output_dir=model_name,\n",
    "                                  num_train_epochs=20,\n",
    "                                  learning_rate=2e-5,\n",
    "                                  per_device_train_batch_size=batch_size,\n",
    "                                  per_device_eval_batch_size=batch_size,\n",
    "                                  weight_decay=0.01,\n",
    "                                  evaluation_strategy=\"epoch\",\n",
    "                                  disable_tqdm=False,\n",
    "                                  logging_steps=logging_steps,\n",
    "                                  push_to_hub=False, \n",
    "                                  log_level=\"error\")\n",
    "\n",
    "trainer = Trainer(model=model, args=training_args, \n",
    "                  compute_metrics=compute_metrics,\n",
    "                  train_dataset=dataset_encoded[\"train\"],\n",
    "                  eval_dataset=dataset_encoded[\"test\"],\n",
    "                  tokenizer=tokenizer)\n",
    "\n",
    "# Now you can train the model\n",
    "trainer.train()\n"
   ]
  },
  {
   "cell_type": "code",
   "execution_count": 24,
   "metadata": {},
   "outputs": [
    {
     "data": {
      "text/plain": [
       "('./models/distilbert-base-multilingual-cased_finetune\\\\tokenizer_config.json',\n",
       " './models/distilbert-base-multilingual-cased_finetune\\\\special_tokens_map.json',\n",
       " './models/distilbert-base-multilingual-cased_finetune\\\\vocab.txt',\n",
       " './models/distilbert-base-multilingual-cased_finetune\\\\added_tokens.json')"
      ]
     },
     "execution_count": 24,
     "metadata": {},
     "output_type": "execute_result"
    }
   ],
   "source": [
    "trainer.save_model(f\"./models/{model_ckpt}_finetune\")\n",
    "tokenizer.save_pretrained(f\"./models/{model_ckpt}_finetune\")"
   ]
  },
  {
   "cell_type": "code",
   "execution_count": 25,
   "metadata": {},
   "outputs": [
    {
     "data": {
      "text/plain": [
       "DistilBertForSequenceClassification(\n",
       "  (distilbert): DistilBertModel(\n",
       "    (embeddings): Embeddings(\n",
       "      (word_embeddings): Embedding(119547, 768, padding_idx=0)\n",
       "      (position_embeddings): Embedding(512, 768)\n",
       "      (LayerNorm): LayerNorm((768,), eps=1e-12, elementwise_affine=True)\n",
       "      (dropout): Dropout(p=0.1, inplace=False)\n",
       "    )\n",
       "    (transformer): Transformer(\n",
       "      (layer): ModuleList(\n",
       "        (0-5): 6 x TransformerBlock(\n",
       "          (attention): MultiHeadSelfAttention(\n",
       "            (dropout): Dropout(p=0.1, inplace=False)\n",
       "            (q_lin): Linear(in_features=768, out_features=768, bias=True)\n",
       "            (k_lin): Linear(in_features=768, out_features=768, bias=True)\n",
       "            (v_lin): Linear(in_features=768, out_features=768, bias=True)\n",
       "            (out_lin): Linear(in_features=768, out_features=768, bias=True)\n",
       "          )\n",
       "          (sa_layer_norm): LayerNorm((768,), eps=1e-12, elementwise_affine=True)\n",
       "          (ffn): FFN(\n",
       "            (dropout): Dropout(p=0.1, inplace=False)\n",
       "            (lin1): Linear(in_features=768, out_features=3072, bias=True)\n",
       "            (lin2): Linear(in_features=3072, out_features=768, bias=True)\n",
       "            (activation): GELUActivation()\n",
       "          )\n",
       "          (output_layer_norm): LayerNorm((768,), eps=1e-12, elementwise_affine=True)\n",
       "        )\n",
       "      )\n",
       "    )\n",
       "  )\n",
       "  (pre_classifier): Linear(in_features=768, out_features=768, bias=True)\n",
       "  (classifier): Linear(in_features=768, out_features=3, bias=True)\n",
       "  (dropout): Dropout(p=0.2, inplace=False)\n",
       ")"
      ]
     },
     "execution_count": 25,
     "metadata": {},
     "output_type": "execute_result"
    }
   ],
   "source": [
    "# Load the model and tokenizer for classification\n",
    "model_name = f\"./models/{model_ckpt}_finetune\"\n",
    "model = DistilBertForSequenceClassification.from_pretrained(model_name)\n",
    "tokenizer = DistilBertTokenizer.from_pretrained(model_name)\n",
    "model.eval()\n"
   ]
  },
  {
   "cell_type": "code",
   "execution_count": 26,
   "metadata": {},
   "outputs": [],
   "source": [
    "def get_embeddings(texts, model, tokenizer):\n",
    "    # Tokenize the input texts\n",
    "    inputs = tokenizer(texts, return_tensors=\"pt\", padding=True, truncation=True)\n",
    "    # Pass inputs through the model to get hidden states\n",
    "    with torch.no_grad():\n",
    "        outputs = model(**inputs, output_hidden_states=True)\n",
    "    # Get the embeddings from the last hidden state\n",
    "    hidden_states = outputs.hidden_states[-1]\n",
    "    # Average the hidden states to get a single vector representation for each text\n",
    "    embeddings = hidden_states.mean(dim=1)\n",
    "    return embeddings\n"
   ]
  },
  {
   "cell_type": "code",
   "execution_count": 27,
   "metadata": {},
   "outputs": [],
   "source": [
    "# Extract texts from the dictionary\n",
    "texts = list(extracted_content.values())\n",
    "\n",
    "# Get embeddings for all documents\n",
    "embeddings = get_embeddings(texts, model, tokenizer)\n",
    "\n",
    "# Compute cosine similarity between all pairs of embeddings\n",
    "cosine_similarities = cosine_similarity(embeddings)\n",
    "\n",
    "# Convert cosine similarity matrix to a DataFrame\n",
    "doc_keys = list(extracted_content.keys())\n",
    "cosine_sim_df = pd.DataFrame(cosine_similarities, index=doc_keys, columns=doc_keys)\n"
   ]
  },
  {
   "cell_type": "code",
   "execution_count": 28,
   "metadata": {},
   "outputs": [
    {
     "data": {
      "text/html": [
       "<div>\n",
       "<style scoped>\n",
       "    .dataframe tbody tr th:only-of-type {\n",
       "        vertical-align: middle;\n",
       "    }\n",
       "\n",
       "    .dataframe tbody tr th {\n",
       "        vertical-align: top;\n",
       "    }\n",
       "\n",
       "    .dataframe thead th {\n",
       "        text-align: right;\n",
       "    }\n",
       "</style>\n",
       "<table border=\"1\" class=\"dataframe\">\n",
       "  <thead>\n",
       "    <tr style=\"text-align: right;\">\n",
       "      <th></th>\n",
       "      <th>34944_高鐵_促參.pdf</th>\n",
       "      <th>38005_核四_政策.pdf</th>\n",
       "      <th>39243_核四_品質.pdf</th>\n",
       "      <th>39477_核四_料件.pdf</th>\n",
       "      <th>46365_高鐵_基金.pdf</th>\n",
       "      <th>48052_大客車_逃生門.pdf</th>\n",
       "      <th>48746_大客車_安全門.pdf</th>\n",
       "      <th>49490_核四_延宕.pdf</th>\n",
       "      <th>49627_核四_停建.pdf</th>\n",
       "      <th>49676_大客車_駕照.pdf</th>\n",
       "      <th>52922_大客車_超時.pdf</th>\n",
       "      <th>54210_高鐵_出資.pdf</th>\n",
       "      <th>54376_高鐵_航發.pdf</th>\n",
       "      <th>54561_高鐵_機電.pdf</th>\n",
       "      <th>58930_核四_封存.pdf</th>\n",
       "    </tr>\n",
       "  </thead>\n",
       "  <tbody>\n",
       "    <tr>\n",
       "      <th>34944_高鐵_促參.pdf</th>\n",
       "      <td>1.000000</td>\n",
       "      <td>0.517399</td>\n",
       "      <td>0.764754</td>\n",
       "      <td>0.513572</td>\n",
       "      <td>0.947289</td>\n",
       "      <td>0.710240</td>\n",
       "      <td>0.707691</td>\n",
       "      <td>0.714360</td>\n",
       "      <td>0.594111</td>\n",
       "      <td>0.795023</td>\n",
       "      <td>0.691997</td>\n",
       "      <td>0.860549</td>\n",
       "      <td>0.943300</td>\n",
       "      <td>0.904984</td>\n",
       "      <td>0.451911</td>\n",
       "    </tr>\n",
       "    <tr>\n",
       "      <th>38005_核四_政策.pdf</th>\n",
       "      <td>0.517399</td>\n",
       "      <td>1.000000</td>\n",
       "      <td>0.730181</td>\n",
       "      <td>0.963848</td>\n",
       "      <td>0.505538</td>\n",
       "      <td>0.346367</td>\n",
       "      <td>0.433638</td>\n",
       "      <td>0.885766</td>\n",
       "      <td>0.949206</td>\n",
       "      <td>0.428091</td>\n",
       "      <td>0.386443</td>\n",
       "      <td>0.702908</td>\n",
       "      <td>0.603124</td>\n",
       "      <td>0.490059</td>\n",
       "      <td>0.957997</td>\n",
       "    </tr>\n",
       "    <tr>\n",
       "      <th>39243_核四_品質.pdf</th>\n",
       "      <td>0.764754</td>\n",
       "      <td>0.730181</td>\n",
       "      <td>1.000000</td>\n",
       "      <td>0.726725</td>\n",
       "      <td>0.754922</td>\n",
       "      <td>0.746738</td>\n",
       "      <td>0.772009</td>\n",
       "      <td>0.855353</td>\n",
       "      <td>0.785310</td>\n",
       "      <td>0.779685</td>\n",
       "      <td>0.732627</td>\n",
       "      <td>0.822315</td>\n",
       "      <td>0.780985</td>\n",
       "      <td>0.773491</td>\n",
       "      <td>0.687476</td>\n",
       "    </tr>\n",
       "    <tr>\n",
       "      <th>39477_核四_料件.pdf</th>\n",
       "      <td>0.513572</td>\n",
       "      <td>0.963848</td>\n",
       "      <td>0.726725</td>\n",
       "      <td>1.000000</td>\n",
       "      <td>0.507019</td>\n",
       "      <td>0.334385</td>\n",
       "      <td>0.424184</td>\n",
       "      <td>0.882690</td>\n",
       "      <td>0.966257</td>\n",
       "      <td>0.426560</td>\n",
       "      <td>0.381147</td>\n",
       "      <td>0.695291</td>\n",
       "      <td>0.607074</td>\n",
       "      <td>0.480731</td>\n",
       "      <td>0.975364</td>\n",
       "    </tr>\n",
       "    <tr>\n",
       "      <th>46365_高鐵_基金.pdf</th>\n",
       "      <td>0.947289</td>\n",
       "      <td>0.505538</td>\n",
       "      <td>0.754922</td>\n",
       "      <td>0.507019</td>\n",
       "      <td>1.000000</td>\n",
       "      <td>0.635451</td>\n",
       "      <td>0.610503</td>\n",
       "      <td>0.696351</td>\n",
       "      <td>0.579203</td>\n",
       "      <td>0.712315</td>\n",
       "      <td>0.594977</td>\n",
       "      <td>0.837687</td>\n",
       "      <td>0.940212</td>\n",
       "      <td>0.926536</td>\n",
       "      <td>0.445955</td>\n",
       "    </tr>\n",
       "    <tr>\n",
       "      <th>48052_大客車_逃生門.pdf</th>\n",
       "      <td>0.710240</td>\n",
       "      <td>0.346367</td>\n",
       "      <td>0.746738</td>\n",
       "      <td>0.334385</td>\n",
       "      <td>0.635451</td>\n",
       "      <td>1.000000</td>\n",
       "      <td>0.935160</td>\n",
       "      <td>0.542990</td>\n",
       "      <td>0.404688</td>\n",
       "      <td>0.933270</td>\n",
       "      <td>0.931198</td>\n",
       "      <td>0.661363</td>\n",
       "      <td>0.648206</td>\n",
       "      <td>0.675919</td>\n",
       "      <td>0.290680</td>\n",
       "    </tr>\n",
       "    <tr>\n",
       "      <th>48746_大客車_安全門.pdf</th>\n",
       "      <td>0.707691</td>\n",
       "      <td>0.433638</td>\n",
       "      <td>0.772009</td>\n",
       "      <td>0.424184</td>\n",
       "      <td>0.610503</td>\n",
       "      <td>0.935160</td>\n",
       "      <td>1.000000</td>\n",
       "      <td>0.613204</td>\n",
       "      <td>0.490465</td>\n",
       "      <td>0.949078</td>\n",
       "      <td>0.962274</td>\n",
       "      <td>0.711191</td>\n",
       "      <td>0.663527</td>\n",
       "      <td>0.631965</td>\n",
       "      <td>0.383144</td>\n",
       "    </tr>\n",
       "    <tr>\n",
       "      <th>49490_核四_延宕.pdf</th>\n",
       "      <td>0.714360</td>\n",
       "      <td>0.885766</td>\n",
       "      <td>0.855353</td>\n",
       "      <td>0.882690</td>\n",
       "      <td>0.696351</td>\n",
       "      <td>0.542990</td>\n",
       "      <td>0.613204</td>\n",
       "      <td>1.000000</td>\n",
       "      <td>0.938732</td>\n",
       "      <td>0.631674</td>\n",
       "      <td>0.574900</td>\n",
       "      <td>0.870926</td>\n",
       "      <td>0.779460</td>\n",
       "      <td>0.668646</td>\n",
       "      <td>0.843010</td>\n",
       "    </tr>\n",
       "    <tr>\n",
       "      <th>49627_核四_停建.pdf</th>\n",
       "      <td>0.594111</td>\n",
       "      <td>0.949206</td>\n",
       "      <td>0.785310</td>\n",
       "      <td>0.966257</td>\n",
       "      <td>0.579203</td>\n",
       "      <td>0.404688</td>\n",
       "      <td>0.490465</td>\n",
       "      <td>0.938732</td>\n",
       "      <td>1.000000</td>\n",
       "      <td>0.506968</td>\n",
       "      <td>0.452441</td>\n",
       "      <td>0.766455</td>\n",
       "      <td>0.681286</td>\n",
       "      <td>0.559858</td>\n",
       "      <td>0.947874</td>\n",
       "    </tr>\n",
       "    <tr>\n",
       "      <th>49676_大客車_駕照.pdf</th>\n",
       "      <td>0.795023</td>\n",
       "      <td>0.428091</td>\n",
       "      <td>0.779685</td>\n",
       "      <td>0.426560</td>\n",
       "      <td>0.712315</td>\n",
       "      <td>0.933270</td>\n",
       "      <td>0.949078</td>\n",
       "      <td>0.631674</td>\n",
       "      <td>0.506968</td>\n",
       "      <td>1.000000</td>\n",
       "      <td>0.953397</td>\n",
       "      <td>0.769007</td>\n",
       "      <td>0.755776</td>\n",
       "      <td>0.720522</td>\n",
       "      <td>0.385640</td>\n",
       "    </tr>\n",
       "    <tr>\n",
       "      <th>52922_大客車_超時.pdf</th>\n",
       "      <td>0.691997</td>\n",
       "      <td>0.386443</td>\n",
       "      <td>0.732627</td>\n",
       "      <td>0.381147</td>\n",
       "      <td>0.594977</td>\n",
       "      <td>0.931198</td>\n",
       "      <td>0.962274</td>\n",
       "      <td>0.574900</td>\n",
       "      <td>0.452441</td>\n",
       "      <td>0.953397</td>\n",
       "      <td>1.000000</td>\n",
       "      <td>0.681063</td>\n",
       "      <td>0.640373</td>\n",
       "      <td>0.621717</td>\n",
       "      <td>0.341194</td>\n",
       "    </tr>\n",
       "    <tr>\n",
       "      <th>54210_高鐵_出資.pdf</th>\n",
       "      <td>0.860549</td>\n",
       "      <td>0.702908</td>\n",
       "      <td>0.822315</td>\n",
       "      <td>0.695291</td>\n",
       "      <td>0.837687</td>\n",
       "      <td>0.661363</td>\n",
       "      <td>0.711191</td>\n",
       "      <td>0.870926</td>\n",
       "      <td>0.766455</td>\n",
       "      <td>0.769007</td>\n",
       "      <td>0.681063</td>\n",
       "      <td>1.000000</td>\n",
       "      <td>0.919676</td>\n",
       "      <td>0.782419</td>\n",
       "      <td>0.639749</td>\n",
       "    </tr>\n",
       "    <tr>\n",
       "      <th>54376_高鐵_航發.pdf</th>\n",
       "      <td>0.943300</td>\n",
       "      <td>0.603124</td>\n",
       "      <td>0.780985</td>\n",
       "      <td>0.607074</td>\n",
       "      <td>0.940212</td>\n",
       "      <td>0.648206</td>\n",
       "      <td>0.663527</td>\n",
       "      <td>0.779460</td>\n",
       "      <td>0.681286</td>\n",
       "      <td>0.755776</td>\n",
       "      <td>0.640373</td>\n",
       "      <td>0.919676</td>\n",
       "      <td>1.000000</td>\n",
       "      <td>0.883022</td>\n",
       "      <td>0.545871</td>\n",
       "    </tr>\n",
       "    <tr>\n",
       "      <th>54561_高鐵_機電.pdf</th>\n",
       "      <td>0.904984</td>\n",
       "      <td>0.490059</td>\n",
       "      <td>0.773491</td>\n",
       "      <td>0.480731</td>\n",
       "      <td>0.926536</td>\n",
       "      <td>0.675919</td>\n",
       "      <td>0.631965</td>\n",
       "      <td>0.668646</td>\n",
       "      <td>0.559858</td>\n",
       "      <td>0.720522</td>\n",
       "      <td>0.621717</td>\n",
       "      <td>0.782419</td>\n",
       "      <td>0.883022</td>\n",
       "      <td>1.000000</td>\n",
       "      <td>0.423752</td>\n",
       "    </tr>\n",
       "    <tr>\n",
       "      <th>58930_核四_封存.pdf</th>\n",
       "      <td>0.451911</td>\n",
       "      <td>0.957997</td>\n",
       "      <td>0.687476</td>\n",
       "      <td>0.975364</td>\n",
       "      <td>0.445955</td>\n",
       "      <td>0.290680</td>\n",
       "      <td>0.383144</td>\n",
       "      <td>0.843010</td>\n",
       "      <td>0.947874</td>\n",
       "      <td>0.385640</td>\n",
       "      <td>0.341194</td>\n",
       "      <td>0.639749</td>\n",
       "      <td>0.545871</td>\n",
       "      <td>0.423752</td>\n",
       "      <td>1.000000</td>\n",
       "    </tr>\n",
       "  </tbody>\n",
       "</table>\n",
       "</div>"
      ],
      "text/plain": [
       "                   34944_高鐵_促參.pdf  38005_核四_政策.pdf  39243_核四_品質.pdf  \\\n",
       "34944_高鐵_促參.pdf           1.000000         0.517399         0.764754   \n",
       "38005_核四_政策.pdf           0.517399         1.000000         0.730181   \n",
       "39243_核四_品質.pdf           0.764754         0.730181         1.000000   \n",
       "39477_核四_料件.pdf           0.513572         0.963848         0.726725   \n",
       "46365_高鐵_基金.pdf           0.947289         0.505538         0.754922   \n",
       "48052_大客車_逃生門.pdf         0.710240         0.346367         0.746738   \n",
       "48746_大客車_安全門.pdf         0.707691         0.433638         0.772009   \n",
       "49490_核四_延宕.pdf           0.714360         0.885766         0.855353   \n",
       "49627_核四_停建.pdf           0.594111         0.949206         0.785310   \n",
       "49676_大客車_駕照.pdf          0.795023         0.428091         0.779685   \n",
       "52922_大客車_超時.pdf          0.691997         0.386443         0.732627   \n",
       "54210_高鐵_出資.pdf           0.860549         0.702908         0.822315   \n",
       "54376_高鐵_航發.pdf           0.943300         0.603124         0.780985   \n",
       "54561_高鐵_機電.pdf           0.904984         0.490059         0.773491   \n",
       "58930_核四_封存.pdf           0.451911         0.957997         0.687476   \n",
       "\n",
       "                   39477_核四_料件.pdf  46365_高鐵_基金.pdf  48052_大客車_逃生門.pdf  \\\n",
       "34944_高鐵_促參.pdf           0.513572         0.947289           0.710240   \n",
       "38005_核四_政策.pdf           0.963848         0.505538           0.346367   \n",
       "39243_核四_品質.pdf           0.726725         0.754922           0.746738   \n",
       "39477_核四_料件.pdf           1.000000         0.507019           0.334385   \n",
       "46365_高鐵_基金.pdf           0.507019         1.000000           0.635451   \n",
       "48052_大客車_逃生門.pdf         0.334385         0.635451           1.000000   \n",
       "48746_大客車_安全門.pdf         0.424184         0.610503           0.935160   \n",
       "49490_核四_延宕.pdf           0.882690         0.696351           0.542990   \n",
       "49627_核四_停建.pdf           0.966257         0.579203           0.404688   \n",
       "49676_大客車_駕照.pdf          0.426560         0.712315           0.933270   \n",
       "52922_大客車_超時.pdf          0.381147         0.594977           0.931198   \n",
       "54210_高鐵_出資.pdf           0.695291         0.837687           0.661363   \n",
       "54376_高鐵_航發.pdf           0.607074         0.940212           0.648206   \n",
       "54561_高鐵_機電.pdf           0.480731         0.926536           0.675919   \n",
       "58930_核四_封存.pdf           0.975364         0.445955           0.290680   \n",
       "\n",
       "                   48746_大客車_安全門.pdf  49490_核四_延宕.pdf  49627_核四_停建.pdf  \\\n",
       "34944_高鐵_促參.pdf             0.707691         0.714360         0.594111   \n",
       "38005_核四_政策.pdf             0.433638         0.885766         0.949206   \n",
       "39243_核四_品質.pdf             0.772009         0.855353         0.785310   \n",
       "39477_核四_料件.pdf             0.424184         0.882690         0.966257   \n",
       "46365_高鐵_基金.pdf             0.610503         0.696351         0.579203   \n",
       "48052_大客車_逃生門.pdf           0.935160         0.542990         0.404688   \n",
       "48746_大客車_安全門.pdf           1.000000         0.613204         0.490465   \n",
       "49490_核四_延宕.pdf             0.613204         1.000000         0.938732   \n",
       "49627_核四_停建.pdf             0.490465         0.938732         1.000000   \n",
       "49676_大客車_駕照.pdf            0.949078         0.631674         0.506968   \n",
       "52922_大客車_超時.pdf            0.962274         0.574900         0.452441   \n",
       "54210_高鐵_出資.pdf             0.711191         0.870926         0.766455   \n",
       "54376_高鐵_航發.pdf             0.663527         0.779460         0.681286   \n",
       "54561_高鐵_機電.pdf             0.631965         0.668646         0.559858   \n",
       "58930_核四_封存.pdf             0.383144         0.843010         0.947874   \n",
       "\n",
       "                   49676_大客車_駕照.pdf  52922_大客車_超時.pdf  54210_高鐵_出資.pdf  \\\n",
       "34944_高鐵_促參.pdf            0.795023          0.691997         0.860549   \n",
       "38005_核四_政策.pdf            0.428091          0.386443         0.702908   \n",
       "39243_核四_品質.pdf            0.779685          0.732627         0.822315   \n",
       "39477_核四_料件.pdf            0.426560          0.381147         0.695291   \n",
       "46365_高鐵_基金.pdf            0.712315          0.594977         0.837687   \n",
       "48052_大客車_逃生門.pdf          0.933270          0.931198         0.661363   \n",
       "48746_大客車_安全門.pdf          0.949078          0.962274         0.711191   \n",
       "49490_核四_延宕.pdf            0.631674          0.574900         0.870926   \n",
       "49627_核四_停建.pdf            0.506968          0.452441         0.766455   \n",
       "49676_大客車_駕照.pdf           1.000000          0.953397         0.769007   \n",
       "52922_大客車_超時.pdf           0.953397          1.000000         0.681063   \n",
       "54210_高鐵_出資.pdf            0.769007          0.681063         1.000000   \n",
       "54376_高鐵_航發.pdf            0.755776          0.640373         0.919676   \n",
       "54561_高鐵_機電.pdf            0.720522          0.621717         0.782419   \n",
       "58930_核四_封存.pdf            0.385640          0.341194         0.639749   \n",
       "\n",
       "                   54376_高鐵_航發.pdf  54561_高鐵_機電.pdf  58930_核四_封存.pdf  \n",
       "34944_高鐵_促參.pdf           0.943300         0.904984         0.451911  \n",
       "38005_核四_政策.pdf           0.603124         0.490059         0.957997  \n",
       "39243_核四_品質.pdf           0.780985         0.773491         0.687476  \n",
       "39477_核四_料件.pdf           0.607074         0.480731         0.975364  \n",
       "46365_高鐵_基金.pdf           0.940212         0.926536         0.445955  \n",
       "48052_大客車_逃生門.pdf         0.648206         0.675919         0.290680  \n",
       "48746_大客車_安全門.pdf         0.663527         0.631965         0.383144  \n",
       "49490_核四_延宕.pdf           0.779460         0.668646         0.843010  \n",
       "49627_核四_停建.pdf           0.681286         0.559858         0.947874  \n",
       "49676_大客車_駕照.pdf          0.755776         0.720522         0.385640  \n",
       "52922_大客車_超時.pdf          0.640373         0.621717         0.341194  \n",
       "54210_高鐵_出資.pdf           0.919676         0.782419         0.639749  \n",
       "54376_高鐵_航發.pdf           1.000000         0.883022         0.545871  \n",
       "54561_高鐵_機電.pdf           0.883022         1.000000         0.423752  \n",
       "58930_核四_封存.pdf           0.545871         0.423752         1.000000  "
      ]
     },
     "execution_count": 28,
     "metadata": {},
     "output_type": "execute_result"
    }
   ],
   "source": [
    "cosine_sim_df"
   ]
  },
  {
   "cell_type": "code",
   "execution_count": 30,
   "metadata": {},
   "outputs": [
    {
     "data": {
      "text/plain": [
       "58930_核四_封存.pdf      1.000000\n",
       "39477_核四_料件.pdf      0.975364\n",
       "38005_核四_政策.pdf      0.957997\n",
       "49627_核四_停建.pdf      0.947874\n",
       "49490_核四_延宕.pdf      0.843010\n",
       "39243_核四_品質.pdf      0.687476\n",
       "54210_高鐵_出資.pdf      0.639749\n",
       "54376_高鐵_航發.pdf      0.545871\n",
       "34944_高鐵_促參.pdf      0.451911\n",
       "46365_高鐵_基金.pdf      0.445955\n",
       "54561_高鐵_機電.pdf      0.423752\n",
       "49676_大客車_駕照.pdf     0.385640\n",
       "48746_大客車_安全門.pdf    0.383144\n",
       "52922_大客車_超時.pdf     0.341194\n",
       "48052_大客車_逃生門.pdf    0.290680\n",
       "Name: 58930_核四_封存.pdf, dtype: float32"
      ]
     },
     "execution_count": 30,
     "metadata": {},
     "output_type": "execute_result"
    }
   ],
   "source": [
    "cosine_sim_df['58930_核四_封存.pdf'].sort_values(ascending=False)"
   ]
  },
  {
   "cell_type": "code",
   "execution_count": 29,
   "metadata": {},
   "outputs": [
    {
     "data": {
      "text/plain": [
       "52922_大客車_超時.pdf     1.000000\n",
       "48746_大客車_安全門.pdf    0.962274\n",
       "49676_大客車_駕照.pdf     0.953397\n",
       "48052_大客車_逃生門.pdf    0.931198\n",
       "39243_核四_品質.pdf      0.732627\n",
       "34944_高鐵_促參.pdf      0.691997\n",
       "54210_高鐵_出資.pdf      0.681063\n",
       "54376_高鐵_航發.pdf      0.640373\n",
       "54561_高鐵_機電.pdf      0.621717\n",
       "46365_高鐵_基金.pdf      0.594977\n",
       "49490_核四_延宕.pdf      0.574900\n",
       "49627_核四_停建.pdf      0.452441\n",
       "38005_核四_政策.pdf      0.386443\n",
       "39477_核四_料件.pdf      0.381147\n",
       "58930_核四_封存.pdf      0.341194\n",
       "Name: 52922_大客車_超時.pdf, dtype: float32"
      ]
     },
     "execution_count": 29,
     "metadata": {},
     "output_type": "execute_result"
    }
   ],
   "source": [
    "cosine_sim_df['52922_大客車_超時.pdf'].sort_values(ascending=False)"
   ]
  },
  {
   "cell_type": "code",
   "execution_count": 33,
   "metadata": {},
   "outputs": [
    {
     "data": {
      "text/plain": [
       "54210_高鐵_出資.pdf      1.000000\n",
       "54376_高鐵_航發.pdf      0.919676\n",
       "49490_核四_延宕.pdf      0.870926\n",
       "34944_高鐵_促參.pdf      0.860549\n",
       "46365_高鐵_基金.pdf      0.837687\n",
       "39243_核四_品質.pdf      0.822315\n",
       "54561_高鐵_機電.pdf      0.782419\n",
       "49676_大客車_駕照.pdf     0.769007\n",
       "49627_核四_停建.pdf      0.766455\n",
       "48746_大客車_安全門.pdf    0.711191\n",
       "38005_核四_政策.pdf      0.702908\n",
       "39477_核四_料件.pdf      0.695291\n",
       "52922_大客車_超時.pdf     0.681063\n",
       "48052_大客車_逃生門.pdf    0.661363\n",
       "58930_核四_封存.pdf      0.639749\n",
       "Name: 54210_高鐵_出資.pdf, dtype: float32"
      ]
     },
     "execution_count": 33,
     "metadata": {},
     "output_type": "execute_result"
    }
   ],
   "source": [
    "cosine_sim_df['54210_高鐵_出資.pdf'].sort_values(ascending=False)"
   ]
  },
  {
   "cell_type": "code",
   "execution_count": 34,
   "metadata": {},
   "outputs": [
    {
     "data": {
      "text/plain": [
       "54376_高鐵_航發.pdf      1.000000\n",
       "34944_高鐵_促參.pdf      0.943300\n",
       "46365_高鐵_基金.pdf      0.940212\n",
       "54210_高鐵_出資.pdf      0.919676\n",
       "54561_高鐵_機電.pdf      0.883022\n",
       "39243_核四_品質.pdf      0.780985\n",
       "49490_核四_延宕.pdf      0.779460\n",
       "49676_大客車_駕照.pdf     0.755776\n",
       "49627_核四_停建.pdf      0.681286\n",
       "48746_大客車_安全門.pdf    0.663527\n",
       "48052_大客車_逃生門.pdf    0.648206\n",
       "52922_大客車_超時.pdf     0.640373\n",
       "39477_核四_料件.pdf      0.607074\n",
       "38005_核四_政策.pdf      0.603124\n",
       "58930_核四_封存.pdf      0.545871\n",
       "Name: 54376_高鐵_航發.pdf, dtype: float32"
      ]
     },
     "execution_count": 34,
     "metadata": {},
     "output_type": "execute_result"
    }
   ],
   "source": [
    "cosine_sim_df['54376_高鐵_航發.pdf'].sort_values(ascending=False)"
   ]
  }
 ],
 "metadata": {
  "kernelspec": {
   "display_name": "supervisor_llm",
   "language": "python",
   "name": "python3"
  },
  "language_info": {
   "codemirror_mode": {
    "name": "ipython",
    "version": 3
   },
   "file_extension": ".py",
   "mimetype": "text/x-python",
   "name": "python",
   "nbconvert_exporter": "python",
   "pygments_lexer": "ipython3",
   "version": "3.10.14"
  }
 },
 "nbformat": 4,
 "nbformat_minor": 2
}
