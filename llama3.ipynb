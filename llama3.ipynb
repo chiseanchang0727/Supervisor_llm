{
 "cells": [
  {
   "cell_type": "markdown",
   "metadata": {},
   "source": [
    "# Goal\n",
    "\n",
    "1. Memory function : done\n",
    "2. Load PDF function : done\n",
    "3. Chain question function : 50%\n",
    "4. Store the result into mysql function"
   ]
  },
  {
   "cell_type": "code",
   "execution_count": 1,
   "metadata": {},
   "outputs": [],
   "source": [
    "import os\n",
    "from langchain.chat_models import ChatOllama\n",
    "from langchain_core.messages import HumanMessage, SystemMessage\n",
    "from langchain.chains import ConversationChain\n",
    "from langchain.chains.conversation.memory import ConversationBufferMemory\n",
    "from langchain_community.llms import Ollama\n",
    "from langchain.document_loaders import PyPDFLoader\n",
    "from utils import read_json\n",
    "from langchain_core.output_parsers import StrOutputParser\n",
    "from langchain import LLMChain\n",
    "from langchain.chains import SequentialChain\n",
    "from langchain.prompts import ChatPromptTemplate\n",
    "import json"
   ]
  },
  {
   "cell_type": "code",
   "execution_count": 3,
   "metadata": {},
   "outputs": [],
   "source": [
    "configs = read_json('configs.json')\n",
    "DATA_PATH = configs[\"DATA_PATH\"]\n",
    "DB_PATH = configs['DB_PATH']\n",
    "files_list = [file for file in os.listdir(DATA_PATH) if os.path.isfile(os.path.join(DATA_PATH, file))]\n",
    "files_list\n",
    "def read_pdf(data_path=DATA_PATH, files_list=files_list):\n",
    "    \n",
    "    for file in files_list:\n",
    "        loader = PyPDFLoader(data_path + file)\n",
    "        content = loader.load()\n",
    "    return content\n",
    "pdf_content = read_pdf()"
   ]
  },
  {
   "cell_type": "code",
   "execution_count": 12,
   "metadata": {},
   "outputs": [
    {
     "data": {
      "text/plain": [
       "15"
      ]
     },
     "execution_count": 12,
     "metadata": {},
     "output_type": "execute_result"
    }
   ],
   "source": [
    "len(pdf_content)"
   ]
  },
  {
   "cell_type": "code",
   "execution_count": 4,
   "metadata": {},
   "outputs": [],
   "source": [
    "llm = ChatOllama(\n",
    "    model = 'llama3',\n",
    "    verbose = 'true',\n",
    ")"
   ]
  },
  {
   "cell_type": "code",
   "execution_count": 9,
   "metadata": {},
   "outputs": [
    {
     "data": {
      "text/plain": [
       "635"
      ]
     },
     "execution_count": 9,
     "metadata": {},
     "output_type": "execute_result"
    }
   ],
   "source": [
    "len(pdf_content[0].page_content)"
   ]
  },
  {
   "cell_type": "code",
   "execution_count": 22,
   "metadata": {},
   "outputs": [
    {
     "name": "stdout",
     "output_type": "stream",
     "text": [
      "0 635\n",
      "1 869\n",
      "2 852\n"
     ]
    }
   ],
   "source": [
    "summary = \"\"\n",
    "i = 0\n",
    "\n",
    "while i < 3:\n",
    "    print(i, len(pdf_content[i].page_content))\n",
    "    messages = [\n",
    "        SystemMessage(\n",
    "            content=\"你是一個專業的中文AI助手，用繁體中文回答所有的問題，即使問題是英文也要用中文回答\"\n",
    "            ), \n",
    "        HumanMessage(\n",
    "            content=f\"對以下文件作內容摘要整理:{pdf_content[0].page_content}\"\n",
    "        )\n",
    "    ]\n",
    "    model_response = llm.invoke(messages)\n",
    "\n",
    "    summary += '\\n' + model_response.content\n",
    "\n",
    "    i+=1"
   ]
  },
  {
   "cell_type": "code",
   "execution_count": 23,
   "metadata": {},
   "outputs": [
    {
     "data": {
      "text/plain": [
       "'\\n**Content Summary:**\\n\\n**Case:** Rectification Case for Land Development Issues around Taiwan Taoyuan International Airport A7 Station\\n\\n**Main Parties Involved:** Ministry of the Interior and Taoyuan City Government\\n\\n**Background:** The case involves issues with land development around Taiwan Taoyuan International Airport A7 Station, which was undertaken by the Ministry of the Interior using outdated maps. This led to uncertainties in the location of measurement points, making it impossible to proceed with related engineering projects.\\n\\n**Key Points:**\\n\\n1. The Ministry of the Interior used outdated maps to handle urban planning changes and zone adjustments for land development around A7 Station.\\n2. This resulted in inconsistencies between urban planning boundaries and property boundaries, leading to measurement point uncertainties, delayed project completion, and increased costs.\\n3. The total cost of these issues reached NT$98 million.\\n\\n**Legal Basis:**\\n\\n1. Urban Planning Act Article 27(4): \"If there are circumstances that require changes to the urban plan after it has been implemented, the local government or relevant agencies should promptly adjust the plan...\"\\n2. Land Expropriation Act Article 4(3): \"When urban land is changed from agricultural use to building use or industrial use to residential or commercial use...\"\\n\\n**Timeline:**\\n\\n1. March 11, 1999: Ministry of the Interior held a meeting to discuss and assign tasks related to the A7 Station land development project.\\n2. April 13, 1999: The Ministry of the Interior issued a letter outlining the progress and schedule for the project.\\n**案文摘要**\\n\\n本案是對於內政部和桃園市政府的糾正案文，指控兩者使用老舊圖資辦理臺灣桃園國際機場捷運 A7站區周邊土地開發，導致測釘樁位產生疑義、相關工程無法施作，並造成大幅延宕工期和增加開發成本。\\n\\n**案由**\\n\\n本案由內政部使用老舊圖資辦理都市計畫變更和區段徵收作業，導致測釘樁位產生疑義、相關工程無法施作。桃園市政府又任令本案土地長期被棄置廢棄物，累計高達 52萬餘立方公尺。\\n\\n**事實與理由**\\n\\n（一）內政部使用老舊圖資辦理都市計畫變更和區段徵收作業，造成測釘樁位產生疑義、相關工程無法施作。\\n\\n（二）桃園市政府任令本案土地長期被棄置廢棄物，累計高達 52萬餘立方公尺。\\n\\n**理由**\\n\\n依據「都市計畫法」第27條第1項第4款規定和「土地徵收條例」第4條第1項第3款規定，兩者應該進行變更和調整。但是他們沒有按時進行調查和變更，導致問題的出現。\\n\\n**相關資料**\\n\\n民國99年3月11日，內政部召開研商「機場捷運A7站周邊土地區段徵收開發案」作業分工及進度相關事宜會議，並於同年4月13日函發作。\\n**Case Summary: Correcting an Inconsistent Development Plan**\\n\\nThe case involves a development plan for the A7 station area around Taiwan\\'s Taoyuan International Airport. The Ministry of the Interior (MOI) and the Taoyuan City Government are implicated in this case.\\n\\n**Background**\\n\\nThe MOI used outdated maps to handle urban planning changes and zone adjustments, leading to inconsistencies between the urban planning scope and the surveyed boundary. This resulted in uncertainty over the location of anchor points, making it impossible to proceed with related engineering projects. Additionally, the Taoyuan City Government had long neglected the land, resulting in a massive accumulation of waste (approximately 52,000 cubic meters). The MOI failed to conduct a thorough investigation into waste disposal before development, thereby excluding areas that were not suitable for development.\\n\\n**Consequences**\\n\\nThe inconsistencies and neglect led to:\\n\\n1. Delayed project completion: The project was delayed by a significant period.\\n2. Increased costs: The total cost of the project increased by NT$98.01 million (approximately USD 3.13 million).\\n3. Non-compliance with regulations: The MOI\\'s actions were in violation of relevant laws and regulations.\\n\\n**Legal Basis**\\n\\nThe case is based on:\\n\\n1. Article 27, Paragraph 1, Item 4 of the Urban Planning Act: \"After the urban planning has been implemented, if any of the following situations occurs, the competent authority or agency shall promptly modify the plan...\"\\n2. Article 4, Paragraph 1, Item 3 of the Land Expropriation Law: \"If any of the following situations occurs, the competent authority may conduct a zone expropriation... Three, urban land used for agricultural purposes, protected areas, or changed from residential to industrial use...\"\\n\\n**Timeline**\\n\\n* March 11, 1999: The MOI convened a meeting to discuss and allocate tasks related to the A7 station area development project.\\n* April 13, 1999: The MOI issued a letter outlining the relevant details of the project.'"
      ]
     },
     "execution_count": 23,
     "metadata": {},
     "output_type": "execute_result"
    }
   ],
   "source": [
    "summary."
   ]
  },
  {
   "cell_type": "code",
   "execution_count": 19,
   "metadata": {},
   "outputs": [
    {
     "name": "stdout",
     "output_type": "stream",
     "text": [
      "0 635\n",
      "1 869\n",
      "2 852\n",
      "3 672\n",
      "4 668\n",
      "5 783\n",
      "6 822\n",
      "7 962\n",
      "8 944\n",
      "9 922\n",
      "10 813\n",
      "11 727\n",
      "12 706\n",
      "13 645\n",
      "14 266\n"
     ]
    }
   ],
   "source": [
    "summary = \"\"\n",
    "\n",
    "for i, pages in enumerate(pdf_content):\n",
    "    print(i, len(pages.page_content))\n",
    "    messages = [\n",
    "        SystemMessage(\n",
    "            content=\"你是一個專業的中文AI助手，用繁體中文回答所有的問題，即使問題是英文也要用中文回答\"\n",
    "            ), \n",
    "        HumanMessage(\n",
    "            content=f\"對以下文件作內容摘要整理:{pdf_content[0].page_content}\"\n",
    "        )\n",
    "    ]\n",
    "    model_response = llm.invoke(messages)\n",
    "\n",
    "    summary += '\\n' + model_response.content"
   ]
  },
  {
   "cell_type": "code",
   "execution_count": 8,
   "metadata": {},
   "outputs": [],
   "source": [
    "messages = [\n",
    "    SystemMessage(\n",
    "        content=\"你是一個專業的中文AI助手，用繁體中文回答所有的問題，即使問題是英文也要用中文回答\"\n",
    "        ), \n",
    "    HumanMessage(\n",
    "        content=f\"對以下文件作內容摘要整理:{pdf_content[0].page_content}\"\n",
    "    )\n",
    "]\n",
    "model_response_test = llm.invoke(messages)"
   ]
  },
  {
   "cell_type": "code",
   "execution_count": 10,
   "metadata": {},
   "outputs": [
    {
     "data": {
      "text/plain": [
       "AIMessage(content='**糾正案文**\\n\\n**被糾正機關：** 內政部、桃園市政府\\n\\n**案由：** 內政部使用老舊、過時圖資辦理臺灣桃園國際機場捷運 A7站區周邊土地開發，導致測釘樁位產生疑義、相關工程無法施作。同時，桃園市政府任令本案土地長期被棄置廢棄物，累計高達 52萬餘立方公尺。\\n\\n**事實與理由：**\\n\\n1. 內政部使用老舊、過時圖資辦理本案都市計畫變更和區段徵收作業，造成都市計畫範圍與徵收地籍界線不一致，導致測釘樁位產生疑義、相關工程無法施作。\\n2. 本案土地長期被棄置廢棄物，累計高達 52萬餘立方公尺，造成施工後出現諸多問題，大幅延宕完工期程，並增加開發成本新臺幣 9,801萬餘元。\\n\\n**理由：**\\n\\n1. 內政部違反「都市計畫法」第27條第1項第4款規定，未進行實際情況的變更。\\n2. 內政部違反「土地徵收條例」第4條第1項第3款規定，未將都市土地之農業區、保護區變更為建築用地或工業區變更為住宅區、商業區。\\n3. 內政部召開研商會議，並於民國99年4月13日函發作，但仍造成糾正案的需要。', response_metadata={'model': 'llama3', 'created_at': '2024-05-09T07:05:21.7809798Z', 'message': {'role': 'assistant', 'content': ''}, 'done': True, 'total_duration': 264089400400, 'load_duration': 8625353700, 'prompt_eval_count': 640, 'prompt_eval_duration': 134236556000, 'eval_count': 399, 'eval_duration': 121221998000}, id='run-79a8ee73-1ff5-46d0-8b63-b7de9dd89fad-0')"
      ]
     },
     "execution_count": 10,
     "metadata": {},
     "output_type": "execute_result"
    }
   ],
   "source": [
    "model_response_test"
   ]
  },
  {
   "cell_type": "code",
   "execution_count": 11,
   "metadata": {},
   "outputs": [
    {
     "data": {
      "text/plain": [
       "'**糾正案文**\\n\\n**被糾正機關：** 內政部、桃園市政府\\n\\n**案由：** 內政部使用老舊、過時圖資辦理臺灣桃園國際機場捷運 A7站區周邊土地開發，導致測釘樁位產生疑義、相關工程無法施作。同時，桃園市政府任令本案土地長期被棄置廢棄物，累計高達 52萬餘立方公尺。\\n\\n**事實與理由：**\\n\\n1. 內政部使用老舊、過時圖資辦理本案都市計畫變更和區段徵收作業，造成都市計畫範圍與徵收地籍界線不一致，導致測釘樁位產生疑義、相關工程無法施作。\\n2. 本案土地長期被棄置廢棄物，累計高達 52萬餘立方公尺，造成施工後出現諸多問題，大幅延宕完工期程，並增加開發成本新臺幣 9,801萬餘元。\\n\\n**理由：**\\n\\n1. 內政部違反「都市計畫法」第27條第1項第4款規定，未進行實際情況的變更。\\n2. 內政部違反「土地徵收條例」第4條第1項第3款規定，未將都市土地之農業區、保護區變更為建築用地或工業區變更為住宅區、商業區。\\n3. 內政部召開研商會議，並於民國99年4月13日函發作，但仍造成糾正案的需要。'"
      ]
     },
     "execution_count": 11,
     "metadata": {},
     "output_type": "execute_result"
    }
   ],
   "source": [
    "model_response_test.content"
   ]
  },
  {
   "cell_type": "code",
   "execution_count": 16,
   "metadata": {},
   "outputs": [],
   "source": [
    "messages = [\n",
    "    SystemMessage(\n",
    "        content=\"你是一個專業的中文AI助手，用繁體中文回答所有的問題，不知道就說不知道，不做過多的臆測\"\n",
    "        ),\n",
    "    HumanMessage(\n",
    "        content=f\"閱讀以下整份資料，給我摘要描述:{pdf_content}，用繁體中文回覆。\"\n",
    "    )\n",
    "]\n",
    "hat_model_response = llm.invoke(messages)"
   ]
  },
  {
   "cell_type": "code",
   "execution_count": 17,
   "metadata": {},
   "outputs": [
    {
     "data": {
      "text/plain": [
       "AIMessage(content=\"Based on the provided documents, I will summarize the issues and provide a response in Traditional Chinese:\\n\\n**Summary**\\n\\nThe Ministry of the Interior (MOI) had planned to develop a land area in Taoyuan City, but due to various issues, including the discovery of massive amounts of waste, the project was delayed by 137 days. The MOI also found that the original plan for residential use was not suitable, and the area would need to be zoned as an agricultural or protected zone instead.\\n\\n**Response**\\n\\nThe MOI's handling of this project is a classic example of inefficiency and poor planning. By using outdated maps and failing to conduct thorough investigations beforehand, the MOI has caused significant delays and increased costs for the project.\\n\\nFirstly, the discovery of massive amounts of waste during construction was completely unexpected. This highlights the importance of conducting proper site surveys and environmental assessments before embarking on large-scale development projects.\\n\\nSecondly, the original plan for residential use was not suitable for this area. The MOI should have considered alternative uses for the land, such as agricultural or protected zones, from the outset.\\n\\nThirdly, the project's delay by 137 days has caused significant inconvenience and financial losses for all parties involved. This is unacceptable, especially considering that the MOI had failed to conduct proper planning and due diligence in the first place.\\n\\nIn conclusion, the MOI's handling of this project is a textbook example of poor planning and inefficiency. I urge the MOI to take immediate action to rectify these issues and ensure that future projects are handled with greater care and consideration.\", response_metadata={'model': 'llama3', 'created_at': '2024-05-09T03:50:14.1540296Z', 'message': {'role': 'assistant', 'content': ''}, 'done': True, 'total_duration': 475678420800, 'load_duration': 8942146500, 'prompt_eval_count': 1652, 'prompt_eval_duration': 355110750000, 'eval_count': 322, 'eval_duration': 111588233000}, id='run-c14e83c3-3541-4e7f-af92-3f9942ec9130-0')"
      ]
     },
     "execution_count": 17,
     "metadata": {},
     "output_type": "execute_result"
    }
   ],
   "source": [
    "hat_model_response"
   ]
  },
  {
   "cell_type": "code",
   "execution_count": 15,
   "metadata": {},
   "outputs": [],
   "source": [
    "init_prompt = ChatPromptTemplate.from_template('你是一個熟悉司法判決內容的專家，用繁體中文回答以下問題')\n",
    "prompt_1 = ChatPromptTemplate.from_template('先仔細閱讀以下這份文件{content}。告訴我總共可以分成那些段落? ')\n",
    "chain_1 = LLMChain(llm=llm, prompt=prompt_1, output_key='phase1_ans')\n",
    "\n",
    "prompt_2 = ChatPromptTemplate.from_template('這份文件可以分成以下這些段落:{phase1_ans}。給我每一個段落的摘要')\n",
    "chain_2 = LLMChain(llm=llm, prompt=prompt_2, output_key='summaries')\n",
    "\n",
    "overall_chain = SequentialChain(\n",
    "    chains=[chain_1, chain_2]\n",
    "    input_variables=['content']\n",
    "    output_variables=['phase1_ans', 'summaries']\n",
    "    verbose=True\n",
    ")\n",
    "\n",
    "result = overall_chain({'content' : content})"
   ]
  }
 ],
 "metadata": {
  "kernelspec": {
   "display_name": "supervisor_llm",
   "language": "python",
   "name": "python3"
  },
  "language_info": {
   "codemirror_mode": {
    "name": "ipython",
    "version": 3
   },
   "file_extension": ".py",
   "mimetype": "text/x-python",
   "name": "python",
   "nbconvert_exporter": "python",
   "pygments_lexer": "ipython3",
   "version": "3.10.14"
  }
 },
 "nbformat": 4,
 "nbformat_minor": 2
}
