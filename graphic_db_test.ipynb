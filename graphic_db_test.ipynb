{
 "cells": [
  {
   "cell_type": "code",
   "execution_count": 7,
   "metadata": {},
   "outputs": [],
   "source": [
    "from neo4j import GraphDatabase"
   ]
  },
  {
   "cell_type": "code",
   "execution_count": 36,
   "metadata": {},
   "outputs": [],
   "source": [
    "URI = \"bolt://localhost:7689\"\n",
    "AUTH = (\"neo4j\", \"neo4j\")\n",
    "\n",
    "with GraphDatabase.driver(URI, auth=AUTH, encrypted=False) as driver:\n",
    "    driver.verify_connectivity()"
   ]
  },
  {
   "cell_type": "code",
   "execution_count": 35,
   "metadata": {},
   "outputs": [
    {
     "name": "stdout",
     "output_type": "stream",
     "text": [
      "Current databases:\n",
      "neo4j\n",
      "system\n"
     ]
    }
   ],
   "source": [
    "# Define a Cypher query to list databases\n",
    "query = \"SHOW DATABASES\"\n",
    "\n",
    "with GraphDatabase.driver(URI, auth=AUTH) as driver:\n",
    "    with driver.session() as session:\n",
    "        result = session.run(query)\n",
    "        databases = [record[\"name\"] for record in result]\n",
    "\n",
    "print(\"Current databases:\")\n",
    "for db in databases:\n",
    "    print(db)"
   ]
  }
 ],
 "metadata": {
  "kernelspec": {
   "display_name": "supervisor_llm",
   "language": "python",
   "name": "python3"
  },
  "language_info": {
   "codemirror_mode": {
    "name": "ipython",
    "version": 3
   },
   "file_extension": ".py",
   "mimetype": "text/x-python",
   "name": "python",
   "nbconvert_exporter": "python",
   "pygments_lexer": "ipython3",
   "version": "3.10.14"
  }
 },
 "nbformat": 4,
 "nbformat_minor": 2
}
